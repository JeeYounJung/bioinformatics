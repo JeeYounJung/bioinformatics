{
 "cells": [
  {
   "cell_type": "markdown",
   "metadata": {
    "nbgrader": {
     "grade": false,
     "grade_id": "cell-5cbb556bc98f2124",
     "locked": true,
     "schema_version": 3,
     "solution": false
    }
   },
   "source": [
    "# Day 6 notebook\n",
    "\n",
    "The objectives of this notebook are to practice with the concepts of\n",
    "\n",
    "* de Bruijn assembly\n",
    "* sequencing errors\n",
    "* repeats\n",
    "\n",
    "This notebook is intended to be solved by hand.  You are welcome to use any code if that helps you.  You are strongly encouraged to work with your group members to understand and solve each problem."
   ]
  },
  {
   "cell_type": "markdown",
   "metadata": {
    "nbgrader": {
     "grade": false,
     "grade_id": "cell-6d0236d29631f9bb",
     "locked": true,
     "schema_version": 3,
     "solution": false
    }
   },
   "source": [
    "## PROBLEM 1: Minimum overlap lengths and read spectra (1 POINT)\n",
    "Recall that the de Bruijn approach to genome assembly with shotgun sequencing reads is to approximate the $k$-mer spectrum of the genome by the union of the $k$-mer spectra of the reads and then to use an Eulerian path approach to computing the assembly.  In the absence of sequencing errors, this approach may be successful if the read spectrum is equal to the genome spectrum.\n",
    "\n",
    "On the other hand, the fragment assembly approach for the same shotgun sequencing data is to find overlaps between pairs of reads and then to compute a superstring (ideally the shortest such superstring).  In practice, one typically only considers overlaps between pairs of reads that are at least of some minimum length, `min_overlap`.  Thus, in the absence of sequencing errors, this approach may be successful if the reads cover every position of the genome *and*  each pair of adjacent reads (in terms of their position along the genome) overlaps by at least `min_overlap`.\n",
    "\n",
    "In this problem, we will explore the relationship between the `min_overlap` parameter for fragment assembly and the value of $k$ for the de Bruijn approach.\n",
    "\n",
    "Suppose that a set of error-free shotgun sequencing reads satisfies the requirements for fragment assembly to be successful with a minimum overlap length of `min_overlap` and that all reads are longer than twice the value of `min_overlap`.  Write a function, `largest_k`, that given `min_overlap` as input, outputs the largest value of $k$ such that we are guaranteed that the read spectrum is equal to the genome spectrum (such that the de Bruijn approach may be successful).\n",
    "\n",
    "*Hint: consider k-mers that come from a region of the genome where two reads overlap by exactly `min_overlap` bases*"
   ]
  },
  {
   "cell_type": "code",
   "execution_count": 1,
   "metadata": {
    "nbgrader": {
     "grade": false,
     "grade_id": "cell-07671210270ae9d3",
     "locked": false,
     "schema_version": 3,
     "solution": true
    }
   },
   "outputs": [],
   "source": [
    "def largest_k(min_overlap):\n",
    "    \"\"\"Returns the largest value of k for which the read spectrum = genome spectrum\n",
    "       when all reads overlap by at least min_overlap\n",
    "    Args:\n",
    "        min_overlap: an integer specifying the minimum overlap length between adjacent reads\n",
    "    Returns:\n",
    "        k, an integer\n",
    "    \"\"\"    \n",
    "    ### BEGIN SOLUTION \n",
    "    return min_overlap + 1\n",
    "    ### END SOLUTION"
   ]
  },
  {
   "cell_type": "markdown",
   "metadata": {},
   "source": [
    "### BEGIN SOLUTION TEMPLATE=Written reasoning for your function\n",
    "$k = min\\_overlap + 1$\n",
    "\n",
    "For the de Bruijn approach to work, every k-mer in the genome must be contained within at least one read.  Since the reads cover every position in the genome, every length $k$ substring in the genome must start within an interval covered by at least one read.  Consider any such substring.  Let $L$ be the length of a read covering a genomic interval that contains the start position of the substring. Let $i$ be the start position of the substring relative to the start position of the read.  If $1 \\leq i <= L - k + 1$ ($i =1$ means that the substring starts at the same position as the start of the read), then the substring is completely contained in the read.  For $i \\geq L - k + 2$, the substring is not completely contained in that read, but may be contained in another read overlapping with it.  We are given that all reads overlap by at least $min\\_overlap$, thus, in the worst case, there is some other read that starts at position $j = L - min\\_overlap + 1$ along the first read.  For the substring to be contained within this other read, we need $j = L - min\\_overlap + 1 \\leq L - k + 2$, which means that $k \\leq min\\_overlap + 1$.  Thus, the largest that $k$ can be is $min\\_overlap + 1$.\n",
    "### END SOLUTION"
   ]
  },
  {
   "cell_type": "code",
   "execution_count": 2,
   "metadata": {
    "nbgrader": {
     "grade": true,
     "grade_id": "problem_1",
     "locked": true,
     "points": 1,
     "schema_version": 3,
     "solution": false
    }
   },
   "outputs": [],
   "source": [
    "assert isinstance(largest_k(20), int), \"return value should be an integer\"\n",
    "### BEGIN HIDDEN TESTS\n",
    "for min_overlap in range(100):\n",
    "    assert largest_k(min_overlap) == min_overlap + 1\n",
    "### END HIDDEN TESTS"
   ]
  },
  {
   "cell_type": "markdown",
   "metadata": {
    "nbgrader": {
     "grade": false,
     "grade_id": "cell-e0bc2a991e58baaf",
     "locked": true,
     "schema_version": 3,
     "solution": false
    }
   },
   "source": [
    "## PROBLEM 2: Sequencing errors and $k$-mers (1 POINT)\n",
    "Sequencing errors in reads result in the spectra for those reads having potentially false $k$-mers (i.e., $k$-mers that are not in the genome spectrum).  Write a function `minimum_errors` that takes as input $k$ and the length, $L$, of a read and returns the *minimum* number of base substitution errors in the read such that the read may contain *only* false $k$-mers."
   ]
  },
  {
   "cell_type": "code",
   "execution_count": 3,
   "metadata": {
    "nbgrader": {
     "grade": false,
     "grade_id": "cell-39204f38b2763da3",
     "locked": false,
     "schema_version": 3,
     "solution": true,
     "task": false
    },
    "scrolled": true
   },
   "outputs": [],
   "source": [
    "def minimum_errors(k, l):\n",
    "    \"\"\"Returns the minimum number of base substitution errors in a read\n",
    "    such that the read may contain only false k-mers.\n",
    "    Args:\n",
    "        k: the length of substrings in the spectrum, an integer\n",
    "        l: the length of a read, an integer\n",
    "    Returns:\n",
    "        number of base substitution errors, an integer\n",
    "    \"\"\"  \n",
    "    ### BEGIN SOLUTION\n",
    "    return l // k\n",
    "    ### END SOLUTION"
   ]
  },
  {
   "cell_type": "code",
   "execution_count": 4,
   "metadata": {
    "nbgrader": {
     "grade": true,
     "grade_id": "problem_2",
     "locked": true,
     "points": 1,
     "schema_version": 3,
     "solution": false
    }
   },
   "outputs": [],
   "source": [
    "assert isinstance(minimum_errors(13, 100), int), \"minimum_errors should return an integer value\"\n",
    "### BEGIN HIDDEN TESTS\n",
    "for l in range(1, 101):\n",
    "    for k in range(1, 101):\n",
    "        assert minimum_errors(k, l) == l // k\n",
    "### END HIDDEN TESTS"
   ]
  },
  {
   "cell_type": "markdown",
   "metadata": {
    "nbgrader": {
     "grade": false,
     "grade_id": "cell-59081d22b228c71e",
     "locked": true,
     "schema_version": 3,
     "solution": false
    }
   },
   "source": [
    "## PROBLEM 3: Repeats (1 POINT)\n",
    "Suppose you are given the following set of reads:\n",
    "\n",
    "    AAACT\n",
    "    AAAGG\n",
    "    AAAGT\n",
    "    AAATT\n",
    "    CCAAA\n",
    "    CTAAA\n",
    "    GGAAA\n",
    "    TTAAA\n",
    "\n",
    "How many shortest superstrings are there for this set of reads?"
   ]
  },
  {
   "cell_type": "markdown",
   "metadata": {
    "nbgrader": {
     "grade": false,
     "grade_id": "cell-25aca39fe05320a5",
     "locked": true,
     "schema_version": 3,
     "solution": false
    }
   },
   "source": [
    "For autograding purposes, answer this question below by assigning the appropriate value to the variable `num_shortest_superstrings`."
   ]
  },
  {
   "cell_type": "code",
   "execution_count": 5,
   "metadata": {
    "nbgrader": {
     "grade": false,
     "grade_id": "cell-41e22d418828d35b",
     "locked": false,
     "schema_version": 3,
     "solution": true
    }
   },
   "outputs": [],
   "source": [
    "### BEGIN SOLUTION TEMPLATE=num_shortest_superstrings = ?\n",
    "num_shortest_superstrings = 6\n",
    "### END SOLUTION"
   ]
  },
  {
   "cell_type": "code",
   "execution_count": 6,
   "metadata": {
    "nbgrader": {
     "grade": true,
     "grade_id": "problem_3",
     "locked": true,
     "points": 1,
     "schema_version": 3,
     "solution": false
    }
   },
   "outputs": [],
   "source": [
    "# autograding tests for num_shortest_superstrings\n",
    "assert isinstance(num_shortest_superstrings, int), \"num_shortest_superstrings should be assigned an integer value\"\n",
    "### BEGIN HIDDEN TESTS\n",
    "assert num_shortest_superstrings == 6\n",
    "### END HIDDEN TESTS"
   ]
  }
 ],
 "metadata": {
  "celltoolbar": "Create Assignment",
  "kernelspec": {
   "display_name": "Python 3 [3.10]",
   "language": "python",
   "name": "python3"
  },
  "language_info": {
   "codemirror_mode": {
    "name": "ipython",
    "version": 3
   },
   "file_extension": ".py",
   "mimetype": "text/x-python",
   "name": "python",
   "nbconvert_exporter": "python",
   "pygments_lexer": "ipython3",
   "version": "3.10.2"
  }
 },
 "nbformat": 4,
 "nbformat_minor": 2
}
