{
 "cells": [
  {
   "cell_type": "markdown",
   "metadata": {
    "nbgrader": {
     "grade": false,
     "grade_id": "cell-8f3b19b382b45fcd",
     "locked": true,
     "schema_version": 3,
     "solution": false
    }
   },
   "source": [
    "# BMI/CS 576 Fall 2023 - HW5\n",
    "The objectives of this homework are to practice with\n",
    "\n",
    "* HMMs\n",
    "* K-means clustering\n",
    "\n",
    "## HW policies\n",
    "Before starting this homework, please read over the [homework policies](https://canvas.wisc.edu/courses/374201/pages/hw-policies) for this course.  In particular, note that homeworks are to be completed *individually* and plagiarism from any source (with the one exception noted below) will be considered **academic misconduct**.\n",
    "\n",
    "You are welcome to use any code from the weekly notebooks (including the official solutions) in your solutions to the HW."
   ]
  },
  {
   "cell_type": "markdown",
   "metadata": {
    "nbgrader": {
     "grade": false,
     "grade_id": "modules_header",
     "locked": true,
     "schema_version": 3,
     "solution": false,
     "task": false
    }
   },
   "source": [
    "## Modules for this HW"
   ]
  },
  {
   "cell_type": "code",
   "execution_count": 1,
   "metadata": {
    "nbgrader": {
     "grade": false,
     "grade_id": "modules",
     "locked": true,
     "schema_version": 3,
     "solution": false,
     "task": false
    }
   },
   "outputs": [],
   "source": [
    "import hmm\n",
    "import fasta\n",
    "from matplotlib import pyplot as plt"
   ]
  },
  {
   "cell_type": "markdown",
   "metadata": {
    "nbgrader": {
     "grade": false,
     "grade_id": "p1_description",
     "locked": true,
     "schema_version": 3,
     "solution": false,
     "task": false
    }
   },
   "source": [
    "## PROBLEM 1: Motif HMM (25 points)\n",
    "\n",
    "A common task in bioinformatics is to identify the locations of a specified pattern, or \"motif,\" within a biological sequence.  For example, transcription factors are proteins that bind to DNA and each factor typically prefers to bind to a specific short pattern of bases in the DNA.  However, these patterns are often degenerate, which makes finding them a non-trivial task.  For example, a transcription factor might strongly bind to the  pattern \"GATTACA\", but may also bind to variations on this pattern, such as \"CATTACA\", \"GATCATA\", or \"AATTAGA.\"  In this problem, we will model a sequence containing zero or more (hidden) instances of a motif using a Hidden Markov model, with a generic state transition diagram shown below.\n",
    "\n",
    "![hmm diagram](hmm_diagram.png)\n",
    "\n",
    "In this model, each motif instance has a fixed width, $w$, and is separated by other instances by one or more characters from a background distribution (represented by state \"B\"). Each position of the motif is represented by a state (e.g., \"M2\") which tends to emit a particular \"consensus\" character, but with some smaller probability emits one of the other characters of the specified alphabet.  We will refer to the concatenation of the consensus characters at each position of the pattern as the \"consensus sequence.\"  For example, \"GATTACA\" is the consensus sequence in the example given above.\n",
    "\n",
    "Implement a function `motif_hmm`, which instantiates an HMM of this form, given a consensus sequence (`consensus_seq`), the transition probability (`b`) from the background state to the first state of the motif, the probability of each motif state emitting its consensus character (`p_consensus`), and the alphabet (`alphabet`) for the sequences it represents (e.g., the characters of DNA).  Below are the implementation details that you will need to follow:\n",
    "\n",
    "* Your function should return an instance of the class `hmm.HiddenMarkovModel`\n",
    "* The motif states should be named \"M1\", \"M2\", etc., for each position in the motif, and the background state should be named \"B\".\n",
    "* The states should be ordered with the motif states first and the background state last\n",
    "* For each motif state, the probability of emitting its consensus character should be set to `p_consensus` and the remaining probability should be uniformly distributed across all other characters.\n",
    "\n",
    "### An updated HMM class\n",
    "\n",
    "The HMM class that we have implemented in the activities, along with a number of helper functions, are found in the `hmm` module included with this notebook.  There are a few minor changes in how the HMM class works, which will be helpful for this HW.  The changes are:\n",
    "\n",
    "1. States may now be represented by arbitrary strings, rather than individual characters.  As a result, a state path (such as what is returned by the `most_probable_path` method) is now represented by a *list of strings*.  This will make it easier to design an HMM with a large number of states.\n",
    "2. The Viterbi, Forward, and Backward algorithms now take advantage of the sparsity (of non-zero transitions) of the HMM.  This results in efficiency gains, particular for HMMs with large numbers of states but relatively few transitions, like the model we are using in this HW.\n",
    "3. The `estimate_parameters` method can now use two different pseudocounts, one for emission probabilities and the other for transition (including initial) probabilities."
   ]
  },
  {
   "cell_type": "code",
   "execution_count": 2,
   "metadata": {
    "nbgrader": {
     "grade": false,
     "grade_id": "motif_hmm",
     "locked": false,
     "schema_version": 3,
     "solution": true,
     "task": false
    }
   },
   "outputs": [],
   "source": [
    "def motif_hmm(consensus_seq, b, p_consensus, alphabet):\n",
    "    \"\"\"Constructs an HMM model for sequences contaning occurrences of a motif separated by \n",
    "       characters generated by a background model.\n",
    "\n",
    "    Args:\n",
    "        consensus_seq: the consensus sequence for the motif\n",
    "        b: the transition probability from the background state to the first motif state\n",
    "        p_consensus: the probability that the character emitted by a motif state is equal to \n",
    "                     its consensus character\n",
    "        alphabet: A string giving the possible characters emitted by the HMM\n",
    "    Returns:\n",
    "        An HMM object\n",
    "    \"\"\"\n",
    "    ### BEGIN SOLUTION\n",
    "    states = [f\"M{i}\" for i in range(1, len(consensus_seq) + 1)] + [\"B\"]\n",
    "    chars = alphabet\n",
    "    \n",
    "    transitions = hmm.matrix(len(states), len(states), initial_value = 0)\n",
    "    for i in range(len(consensus_seq)):\n",
    "        transitions[i][i + 1] = 1.0\n",
    "    transitions[-1][-1] = 1 - b\n",
    "    transitions[-1][0] = b\n",
    "    \n",
    "    initial_probs = [0] * len(states)\n",
    "    initial_probs[-1] = 1\n",
    "\n",
    "    emissions = hmm.matrix(len(states), len(alphabet), (1 - p_consensus) / (len(alphabet) - 1))\n",
    "    for i, c in enumerate(consensus_seq):\n",
    "        emissions[i][alphabet.index(c)] = p_consensus\n",
    "    emissions[-1] = [1 / len(alphabet) for _ in range(len(alphabet))]\n",
    "    \n",
    "    return hmm.HiddenMarkovModel(states, chars, transitions, initial_probs, emissions)\n",
    "    ### END SOLUTION "
   ]
  },
  {
   "cell_type": "markdown",
   "metadata": {
    "nbgrader": {
     "grade": false,
     "grade_id": "p1_test_header",
     "locked": true,
     "schema_version": 3,
     "solution": false,
     "task": false
    }
   },
   "source": [
    "## Tests for `motif_hmm`"
   ]
  },
  {
   "cell_type": "code",
   "execution_count": 3,
   "metadata": {
    "nbgrader": {
     "grade": false,
     "grade_id": "test_setup",
     "locked": true,
     "schema_version": 3,
     "solution": false,
     "task": false
    }
   },
   "outputs": [],
   "source": [
    "# alpabets\n",
    "DNA = \"ACGT\"\n",
    "AMINO_ACIDS = \"ACDEFGHIKLMNPQRSTVWY\"\n",
    "\n",
    "# three toy motif HMMs\n",
    "mini_model          = motif_hmm(\"G\",            0.1,  0.8, DNA)\n",
    "cat_model           = motif_hmm(\"CAT\",          0.01, 0.9, DNA)\n",
    "tiger_model         = motif_hmm(\"TIGER\",        0.05, 0.7, AMINO_ACIDS)\n",
    "malayan_tiger_model = motif_hmm(\"MALAYANTIGER\", 0.02, 0.6, AMINO_ACIDS)"
   ]
  },
  {
   "cell_type": "code",
   "execution_count": 4,
   "metadata": {
    "nbgrader": {
     "grade": true,
     "grade_id": "p1_chars",
     "locked": true,
     "points": 4,
     "schema_version": 3,
     "solution": false,
     "task": false
    }
   },
   "outputs": [
    {
     "name": "stdout",
     "output_type": "stream",
     "text": [
      "SUCCESS: p1_chars\n"
     ]
    }
   ],
   "source": [
    "# test p1_chars (4 points)\n",
    "assert mini_model.chars == DNA\n",
    "assert cat_model.chars == DNA\n",
    "assert tiger_model.chars == AMINO_ACIDS\n",
    "assert malayan_tiger_model.chars == AMINO_ACIDS\n",
    "print(\"SUCCESS: p1_chars\")"
   ]
  },
  {
   "cell_type": "code",
   "execution_count": 5,
   "metadata": {
    "nbgrader": {
     "grade": true,
     "grade_id": "p1_states",
     "locked": true,
     "points": 4,
     "schema_version": 3,
     "solution": false,
     "task": false
    }
   },
   "outputs": [
    {
     "name": "stdout",
     "output_type": "stream",
     "text": [
      "SUCCESS: p1_states\n"
     ]
    }
   ],
   "source": [
    "# test p1_states (4 points)\n",
    "assert mini_model.states == ['M1', 'B']\n",
    "assert cat_model.states == ['M1', 'M2', 'M3', 'B']\n",
    "assert tiger_model.states == ['M1', 'M2', 'M3', 'M4', 'M5', 'B']\n",
    "assert malayan_tiger_model.states == ['M1', 'M2', 'M3', 'M4', 'M5', 'M6', 'M7', 'M8', 'M9', 'M10', 'M11', 'M12', 'B']\n",
    "print(\"SUCCESS: p1_states\")"
   ]
  },
  {
   "cell_type": "code",
   "execution_count": 6,
   "metadata": {
    "nbgrader": {
     "grade": true,
     "grade_id": "p1_initial_probs",
     "locked": true,
     "points": 4,
     "schema_version": 3,
     "solution": false,
     "task": false
    }
   },
   "outputs": [
    {
     "name": "stdout",
     "output_type": "stream",
     "text": [
      "SUCCESS: p1_initial_probs\n"
     ]
    }
   ],
   "source": [
    "# test p1_initial_probs (4 points)\n",
    "assert mini_model.initial_probs == [0, 1]\n",
    "assert cat_model.initial_probs == [0, 0, 0, 1]\n",
    "assert tiger_model.initial_probs == [0, 0, 0, 0, 0, 1]\n",
    "assert malayan_tiger_model.initial_probs == [0, 0, 0, 0, 0, 0, 0, 0, 0, 0, 0, 0, 1]\n",
    "print(\"SUCCESS: p1_initial_probs\")"
   ]
  },
  {
   "cell_type": "code",
   "execution_count": 7,
   "metadata": {
    "nbgrader": {
     "grade": true,
     "grade_id": "p1_transitions",
     "locked": true,
     "points": 4,
     "schema_version": 3,
     "solution": false,
     "task": false
    }
   },
   "outputs": [
    {
     "name": "stdout",
     "output_type": "stream",
     "text": [
      "SUCCESS: p1_transition_prob_matrix\n"
     ]
    }
   ],
   "source": [
    "# test p1_transition_prob_matrix (4 points)\n",
    "assert mini_model.transition_prob_matrix == [\n",
    "    [0, 1.0], \n",
    "    [0.1, 0.9]]\n",
    "assert cat_model.transition_prob_matrix == [\n",
    "    [0, 1.0, 0, 0], \n",
    "    [0, 0, 1.0, 0], \n",
    "    [0, 0, 0, 1.0], \n",
    "    [0.01, 0, 0, 0.99]]\n",
    "assert tiger_model.transition_prob_matrix == [\n",
    "    [0, 1.0, 0, 0, 0, 0], \n",
    "    [0, 0, 1.0, 0, 0, 0], \n",
    "    [0, 0, 0, 1.0, 0, 0], \n",
    "    [0, 0, 0, 0, 1.0, 0], \n",
    "    [0, 0, 0, 0, 0, 1.0], \n",
    "    [0.05, 0, 0, 0, 0, 0.95]]\n",
    "assert malayan_tiger_model.transition_prob_matrix == [\n",
    "    [0, 1.0, 0, 0, 0, 0, 0, 0, 0, 0, 0, 0, 0], \n",
    "    [0, 0, 1.0, 0, 0, 0, 0, 0, 0, 0, 0, 0, 0], \n",
    "    [0, 0, 0, 1.0, 0, 0, 0, 0, 0, 0, 0, 0, 0], \n",
    "    [0, 0, 0, 0, 1.0, 0, 0, 0, 0, 0, 0, 0, 0], \n",
    "    [0, 0, 0, 0, 0, 1.0, 0, 0, 0, 0, 0, 0, 0], \n",
    "    [0, 0, 0, 0, 0, 0, 1.0, 0, 0, 0, 0, 0, 0], \n",
    "    [0, 0, 0, 0, 0, 0, 0, 1.0, 0, 0, 0, 0, 0], \n",
    "    [0, 0, 0, 0, 0, 0, 0, 0, 1.0, 0, 0, 0, 0], \n",
    "    [0, 0, 0, 0, 0, 0, 0, 0, 0, 1.0, 0, 0, 0], \n",
    "    [0, 0, 0, 0, 0, 0, 0, 0, 0, 0, 1.0, 0, 0], \n",
    "    [0, 0, 0, 0, 0, 0, 0, 0, 0, 0, 0, 1.0, 0], \n",
    "    [0, 0, 0, 0, 0, 0, 0, 0, 0, 0, 0, 0, 1.0], \n",
    "    [0.02, 0, 0, 0, 0, 0, 0, 0, 0, 0, 0, 0, 0.98]]\n",
    "print(\"SUCCESS: p1_transition_prob_matrix\")"
   ]
  },
  {
   "cell_type": "code",
   "execution_count": 8,
   "metadata": {
    "nbgrader": {
     "grade": true,
     "grade_id": "p1_emissions",
     "locked": true,
     "points": 4,
     "schema_version": 3,
     "solution": false,
     "task": false
    }
   },
   "outputs": [
    {
     "name": "stdout",
     "output_type": "stream",
     "text": [
      "SUCCESS: p1_emission_prob_matrix\n"
     ]
    }
   ],
   "source": [
    "# test p1_emission_prob_matrix (4 points)\n",
    "assert hmm.round_matrix(mini_model.emission_prob_matrix, 3) == [\n",
    "    [0.067, 0.067, 0.8, 0.067], \n",
    "    [0.25, 0.25, 0.25, 0.25]]\n",
    "assert hmm.round_matrix(cat_model.emission_prob_matrix, 3) == [\n",
    "    [0.033, 0.9, 0.033, 0.033], \n",
    "    [0.9, 0.033, 0.033, 0.033], \n",
    "    [0.033, 0.033, 0.033, 0.9], \n",
    "    [0.25, 0.25, 0.25, 0.25]]\n",
    "assert hmm.round_matrix(tiger_model.emission_prob_matrix, 3) == [\n",
    "    [0.016, 0.016, 0.016, 0.016, 0.016, 0.016, 0.016, 0.016, 0.016, 0.016, 0.016, 0.016, 0.016, 0.016, 0.016, 0.016, 0.7, 0.016, 0.016, 0.016], \n",
    "    [0.016, 0.016, 0.016, 0.016, 0.016, 0.016, 0.016, 0.7, 0.016, 0.016, 0.016, 0.016, 0.016, 0.016, 0.016, 0.016, 0.016, 0.016, 0.016, 0.016], \n",
    "    [0.016, 0.016, 0.016, 0.016, 0.016, 0.7, 0.016, 0.016, 0.016, 0.016, 0.016, 0.016, 0.016, 0.016, 0.016, 0.016, 0.016, 0.016, 0.016, 0.016], \n",
    "    [0.016, 0.016, 0.016, 0.7, 0.016, 0.016, 0.016, 0.016, 0.016, 0.016, 0.016, 0.016, 0.016, 0.016, 0.016, 0.016, 0.016, 0.016, 0.016, 0.016],\n",
    "    [0.016, 0.016, 0.016, 0.016, 0.016, 0.016, 0.016, 0.016, 0.016, 0.016, 0.016, 0.016, 0.016, 0.016, 0.7, 0.016, 0.016, 0.016, 0.016, 0.016], \n",
    "    [0.05, 0.05, 0.05, 0.05, 0.05, 0.05, 0.05, 0.05, 0.05, 0.05, 0.05, 0.05, 0.05, 0.05, 0.05, 0.05, 0.05, 0.05, 0.05, 0.05]]\n",
    "assert hmm.round_matrix(malayan_tiger_model.emission_prob_matrix, 3) == [\n",
    "    [0.021, 0.021, 0.021, 0.021, 0.021, 0.021, 0.021, 0.021, 0.021, 0.021, 0.6, 0.021, 0.021, 0.021, 0.021, 0.021, 0.021, 0.021, 0.021, 0.021],\n",
    "    [0.6, 0.021, 0.021, 0.021, 0.021, 0.021, 0.021, 0.021, 0.021, 0.021, 0.021, 0.021, 0.021, 0.021, 0.021, 0.021, 0.021, 0.021, 0.021, 0.021],\n",
    "    [0.021, 0.021, 0.021, 0.021, 0.021, 0.021, 0.021, 0.021, 0.021, 0.6, 0.021, 0.021, 0.021, 0.021, 0.021, 0.021, 0.021, 0.021, 0.021, 0.021],\n",
    "    [0.6, 0.021, 0.021, 0.021, 0.021, 0.021, 0.021, 0.021, 0.021, 0.021, 0.021, 0.021, 0.021, 0.021, 0.021, 0.021, 0.021, 0.021, 0.021, 0.021],\n",
    "    [0.021, 0.021, 0.021, 0.021, 0.021, 0.021, 0.021, 0.021, 0.021, 0.021, 0.021, 0.021, 0.021, 0.021, 0.021, 0.021, 0.021, 0.021, 0.021, 0.6],\n",
    "    [0.6, 0.021, 0.021, 0.021, 0.021, 0.021, 0.021, 0.021, 0.021, 0.021, 0.021, 0.021, 0.021, 0.021, 0.021, 0.021, 0.021, 0.021, 0.021, 0.021],\n",
    "    [0.021, 0.021, 0.021, 0.021, 0.021, 0.021, 0.021, 0.021, 0.021, 0.021, 0.021, 0.6, 0.021, 0.021, 0.021, 0.021, 0.021, 0.021, 0.021, 0.021],\n",
    "    [0.021, 0.021, 0.021, 0.021, 0.021, 0.021, 0.021, 0.021, 0.021, 0.021, 0.021, 0.021, 0.021, 0.021, 0.021, 0.021, 0.6, 0.021, 0.021, 0.021],\n",
    "    [0.021, 0.021, 0.021, 0.021, 0.021, 0.021, 0.021, 0.6, 0.021, 0.021, 0.021, 0.021, 0.021, 0.021, 0.021, 0.021, 0.021, 0.021, 0.021, 0.021],\n",
    "    [0.021, 0.021, 0.021, 0.021, 0.021, 0.6, 0.021, 0.021, 0.021, 0.021, 0.021, 0.021, 0.021, 0.021, 0.021, 0.021, 0.021, 0.021, 0.021, 0.021],\n",
    "    [0.021, 0.021, 0.021, 0.6, 0.021, 0.021, 0.021, 0.021, 0.021, 0.021, 0.021, 0.021, 0.021, 0.021, 0.021, 0.021, 0.021, 0.021, 0.021, 0.021],\n",
    "    [0.021, 0.021, 0.021, 0.021, 0.021, 0.021, 0.021, 0.021, 0.021, 0.021, 0.021, 0.021, 0.021, 0.021, 0.6, 0.021, 0.021, 0.021, 0.021, 0.021],\n",
    "    [0.05, 0.05, 0.05, 0.05, 0.05, 0.05, 0.05, 0.05, 0.05, 0.05, 0.05, 0.05, 0.05, 0.05, 0.05, 0.05, 0.05, 0.05, 0.05, 0.05]]\n",
    "print(\"SUCCESS: p1_emission_prob_matrix\")"
   ]
  },
  {
   "cell_type": "code",
   "execution_count": 9,
   "metadata": {
    "nbgrader": {
     "grade": true,
     "grade_id": "p1_hidden",
     "locked": true,
     "points": 5,
     "schema_version": 3,
     "solution": false,
     "task": false
    }
   },
   "outputs": [
    {
     "name": "stdout",
     "output_type": "stream",
     "text": [
      "SUCCESS: p1_hidden\n"
     ]
    }
   ],
   "source": [
    "# test p1_hidden (5 points)\n",
    "### BEGIN HIDDEN TESTS\n",
    "hidden_hmm = motif_hmm(\"1100110011\", 0.001, 0.95, \"01\")\n",
    "assert hidden_hmm.chars == \"01\"\n",
    "assert hidden_hmm.states == ['M1', 'M2', 'M3', 'M4', 'M5', 'M6', 'M7', 'M8', 'M9', 'M10', 'B']\n",
    "assert hidden_hmm.initial_probs == [0, 0, 0, 0, 0, 0, 0, 0, 0, 0, 1]\n",
    "assert hmm.round_matrix(hidden_hmm.emission_prob_matrix, 3) == [\n",
    "    [0.05, 0.95],\n",
    "    [0.05, 0.95],\n",
    "    [0.95, 0.05],\n",
    "    [0.95, 0.05],\n",
    "    [0.05, 0.95],\n",
    "    [0.05, 0.95],\n",
    "    [0.95, 0.05],\n",
    "    [0.95, 0.05],\n",
    "    [0.05, 0.95],\n",
    "    [0.05, 0.95],\n",
    "    [0.5, 0.5]]\n",
    "assert hmm.round_matrix(hidden_hmm.transition_prob_matrix, 3) == [\n",
    "    [0, 1.0, 0, 0, 0, 0, 0, 0, 0, 0, 0],\n",
    "    [0, 0, 1.0, 0, 0, 0, 0, 0, 0, 0, 0],\n",
    "    [0, 0, 0, 1.0, 0, 0, 0, 0, 0, 0, 0],\n",
    "    [0, 0, 0, 0, 1.0, 0, 0, 0, 0, 0, 0],\n",
    "    [0, 0, 0, 0, 0, 1.0, 0, 0, 0, 0, 0],\n",
    "    [0, 0, 0, 0, 0, 0, 1.0, 0, 0, 0, 0],\n",
    "    [0, 0, 0, 0, 0, 0, 0, 1.0, 0, 0, 0],\n",
    "    [0, 0, 0, 0, 0, 0, 0, 0, 1.0, 0, 0],\n",
    "    [0, 0, 0, 0, 0, 0, 0, 0, 0, 1.0, 0],\n",
    "    [0, 0, 0, 0, 0, 0, 0, 0, 0, 0, 1.0],\n",
    "    [0.001, 0, 0, 0, 0, 0, 0, 0, 0, 0, 0.999]]\n",
    "print(\"SUCCESS: p1_hidden\")\n",
    "### END HIDDEN TESTS"
   ]
  },
  {
   "cell_type": "markdown",
   "metadata": {},
   "source": [
    "## PROBLEM 2: Finding TRS in the SARS-CoV-2 genome (25 points)\n",
    "\n",
    "Within an infected cell, SARS-CoV-2 generates a number of \"subgenomic\" RNAs (sgRNAs) from its genome, each of which is a copy of the genome with a single large deletion.  Each sgRNA corresponds to one of the genes in the genome, and the translation of a sgRNA results in the protein for its corresponding gene.  The structures of the sgRNAs are shown in the figure below, which was generated from the [UCSC Genome Browser](https://genome.ucsc.edu/cgi-bin/hgTracks?db=wuhCor1).  In this figure, \"gRNA\" is the full-length genome and the structures below it are the sgRNAs (the lines with arrows are the deletions in the sgRNAs).  The generation of the sgRNAs is mediated instances of a \"transcription regulatory sequence\" (TRS), the locations for which are shown in the top track (TRS sites).  Each sgRNA is the result of a pairing of the 5' (left-most) TRS with one of the TRS at the 3' end.\n",
    "\n",
    "![sgRNAs in SARS-CoV-2](sarscov2_sgrna.png)\n"
   ]
  },
  {
   "cell_type": "markdown",
   "metadata": {},
   "source": [
    "**(a)** The consensus sequence for the TRS is `CTAAACGAACTT`.  How many times does this sequence occur *exactly* within the SARS-CoV-2 genome?  The genome for SARS-CoV-2 can be found in the file `\"sarscov2_genome.fasta`.  Show your code."
   ]
  },
  {
   "cell_type": "code",
   "execution_count": 10,
   "metadata": {
    "nbgrader": {
     "grade": true,
     "grade_id": "p2a",
     "locked": false,
     "points": 5,
     "schema_version": 3,
     "solution": true,
     "task": false
    }
   },
   "outputs": [
    {
     "name": "stdout",
     "output_type": "stream",
     "text": [
      "The TRS sequence occurs exactly 1 time(s) in the genome\n",
      "These occurrences are located at the following positions: [65]\n"
     ]
    }
   ],
   "source": [
    "### BEGIN SOLUTION\n",
    "trs_consensus = \"CTAAACGAACTT\"\n",
    "sarscov2_genome = fasta.read_sequences_from_fasta_file(\"sarscov2_genome.fasta\")[0][1]\n",
    "\n",
    "pos = -1\n",
    "exact_trs_positions = []\n",
    "while True:\n",
    "    pos = sarscov2_genome.find(trs_consensus, pos + 1)\n",
    "    if pos == -1: break\n",
    "    exact_trs_positions.append(pos)\n",
    "print(\"The TRS sequence occurs exactly %d time(s) in the genome\" % len(exact_trs_positions))\n",
    "print(\"These occurrences are located at the following positions:\", exact_trs_positions)\n",
    "### END SOLUTION"
   ]
  },
  {
   "cell_type": "markdown",
   "metadata": {
    "nbgrader": {
     "grade": false,
     "grade_id": "cell-fef5404b42b7d837",
     "locked": true,
     "schema_version": 3,
     "solution": false,
     "task": false
    }
   },
   "source": [
    "**(b)** Using your `motif_hmm` function from problem 1, create an HMM for the TRS.  Use $b = 0.01$ and $p\\_consensus = 0.8$.  Run the Viterbi algorithm with this HMM and the SARS-CoV-2 genome to find the most probable path.  List the start positions of the motif occurrences in the most probable path."
   ]
  },
  {
   "cell_type": "code",
   "execution_count": 11,
   "metadata": {
    "nbgrader": {
     "grade": true,
     "grade_id": "p2b",
     "locked": false,
     "points": 5,
     "schema_version": 3,
     "solution": true,
     "task": false
    }
   },
   "outputs": [
    {
     "data": {
      "text/plain": [
       "[65,\n",
       " 2470,\n",
       " 4576,\n",
       " 5786,\n",
       " 6700,\n",
       " 8654,\n",
       " 10132,\n",
       " 12043,\n",
       " 12737,\n",
       " 13280,\n",
       " 14608,\n",
       " 15773,\n",
       " 15856,\n",
       " 16762,\n",
       " 21551,\n",
       " 24774,\n",
       " 25099,\n",
       " 25159,\n",
       " 25380,\n",
       " 26468,\n",
       " 27383,\n",
       " 27483,\n",
       " 27883,\n",
       " 28255]"
      ]
     },
     "execution_count": 11,
     "metadata": {},
     "output_type": "execute_result"
    }
   ],
   "source": [
    "### BEGIN SOLUTION\n",
    "trs_hmm = motif_hmm(trs_consensus, 0.01, 0.8, DNA)\n",
    "path_vit = trs_hmm.most_probable_path(sarscov2_genome)\n",
    "def all_indices(value, lst):\n",
    "    return [i for i, elt in enumerate(lst) if elt == value]\n",
    "viterbi_start_positions = all_indices(\"M1\", path_vit)\n",
    "viterbi_start_positions\n",
    "### END SOLUTION"
   ]
  },
  {
   "cell_type": "markdown",
   "metadata": {
    "nbgrader": {
     "grade": false,
     "grade_id": "cell-1f9323fe99d7750e",
     "locked": true,
     "schema_version": 3,
     "solution": false,
     "task": false
    }
   },
   "source": [
    "**(c)** The file `trs.bed` contains the true coordinates of TRS instances in the SARS-CoV-2 genome.  This file is in [BED](https://en.wikipedia.org/wiki/BED_(file_format)) format.  Parse this file to obtain a list of the true start positions of TRS instances.  \n",
    "* **(i)** How many true start positions did the Viterbi path recover?\n",
    "* **(ii)** How many true start positions did the Viterbi path miss?\n",
    "* **(iii)** How many false start positions did the Viterbi path predict?"
   ]
  },
  {
   "cell_type": "code",
   "execution_count": 12,
   "metadata": {
    "nbgrader": {
     "grade": true,
     "grade_id": "p2c",
     "locked": false,
     "points": 5,
     "schema_version": 3,
     "solution": true,
     "task": false
    }
   },
   "outputs": [
    {
     "name": "stdout",
     "output_type": "stream",
     "text": [
      "True TRS positions: [65, 21551, 25380, 26232, 26468, 27036, 27383, 27669, 27883, 28255]\n",
      "Viterbi predicted 7 correct positions: [65, 21551, 25380, 26468, 27383, 27883, 28255]\n",
      "Viterbi missed 3 true positions: [26232, 27036, 27669]\n",
      "Viterbi predicted 17 incorrect positions: [2470, 4576, 5786, 6700, 8654, 10132, 12043, 12737, 13280, 14608, 15773, 15856, 16762, 24774, 25099, 25159, 27483]\n"
     ]
    }
   ],
   "source": [
    "### BEGIN SOLUTION\n",
    "true_trs_positions = []\n",
    "for line in open(\"trs.bed\"):\n",
    "    chrom, start, end = line.split(\"\\t\")\n",
    "    true_trs_positions.append(int(start))\n",
    "print(\"True TRS positions:\", true_trs_positions)\n",
    "\n",
    "def viterbi_accuracy(predicted, truth):\n",
    "    true_positives = sorted(predicted & truth)\n",
    "    false_negatives = sorted(truth - predicted)\n",
    "    false_positives = sorted(predicted - truth)\n",
    "    print(\"Viterbi predicted\", len(true_positives), \"correct positions:\", true_positives)\n",
    "    print(\"Viterbi missed\", len(false_negatives), \"true positions:\", false_negatives)\n",
    "    print(\"Viterbi predicted\", len(false_positives), \"incorrect positions:\", false_positives)\n",
    "\n",
    "viterbi_accuracy(set(viterbi_start_positions), set(true_trs_positions))\n",
    "### END SOLUTION"
   ]
  },
  {
   "cell_type": "markdown",
   "metadata": {},
   "source": [
    "**(d)** Train your HMM using the SARS-CoV-2 genome and a state path constructed using the true TRS start positions.  Use an `emission_pseudocount` of **1** and a `transition_pseudocount` of **0** for this task.  Run the Viterbi algorithm again.  Repeat part (c) to evaluate how well the Viterbi path recovers the true TRS start positions."
   ]
  },
  {
   "cell_type": "code",
   "execution_count": 13,
   "metadata": {
    "nbgrader": {
     "grade": true,
     "grade_id": "p2d",
     "locked": false,
     "points": 5,
     "schema_version": 3,
     "solution": true,
     "task": false
    }
   },
   "outputs": [
    {
     "name": "stdout",
     "output_type": "stream",
     "text": [
      "Viterbi predicted 7 correct positions: [65, 21551, 25380, 26468, 27383, 27883, 28255]\n",
      "Viterbi missed 3 true positions: [26232, 27036, 27669]\n",
      "Viterbi predicted 0 incorrect positions: []\n"
     ]
    }
   ],
   "source": [
    "### BEGIN SOLUTION\n",
    "training_states = [\"B\"] * len(sarscov2_genome)\n",
    "for start in true_trs_positions:\n",
    "    for i in range(len(trs_consensus)):\n",
    "        training_states[start + i] = \"M%d\" % (i + 1)\n",
    "\n",
    "trs_hmm.estimate_parameters([(training_states, sarscov2_genome)], emission_pseudocount = 1)\n",
    "\n",
    "path_vit2 = trs_hmm.most_probable_path(sarscov2_genome)\n",
    "viterbi_start_positions2 = all_indices(\"M1\", path_vit2)\n",
    "viterbi_accuracy(set(viterbi_start_positions2), set(true_trs_positions))\n",
    "### END SOLUTION"
   ]
  },
  {
   "cell_type": "markdown",
   "metadata": {
    "nbgrader": {
     "grade": false,
     "grade_id": "cell-bd7e1502ee2d6b03",
     "locked": true,
     "schema_version": 3,
     "solution": false,
     "task": false
    }
   },
   "source": [
    "**(e)** With your trained HMM from part (d), compute the posterior matrix.  Create a scatter plot with the x-axis representing the position along the genome and the y-axis giving the posterior probability that a TRS starts at that position.  Color the points that correspond to the true TRS start positions (consider using the `c` argument to `pyplot.scatter` for this purpose)."
   ]
  },
  {
   "cell_type": "code",
   "execution_count": 14,
   "metadata": {
    "nbgrader": {
     "grade": true,
     "grade_id": "p2e",
     "locked": false,
     "points": 5,
     "schema_version": 3,
     "solution": true,
     "task": false
    }
   },
   "outputs": [
    {
     "data": {
      "image/png": "[encoded data removed]",
      "text/plain": [
       "<Figure size 2400x600 with 1 Axes>"
      ]
     },
     "metadata": {
      "needs_background": "light"
     },
     "output_type": "display_data"
    }
   ],
   "source": [
    "### BEGIN SOLUTION\n",
    "posterior_matrix = trs_hmm.posterior_matrix(sarscov2_genome)\n",
    "motif_start_index = trs_hmm.states.index(\"M1\")\n",
    "probs = posterior_matrix[motif_start_index]\n",
    "colors = [1 if i in true_trs_positions else 0 for i in range(len(sarscov2_genome))]\n",
    "\n",
    "plt.figure(figsize=(8, 2), dpi=300)\n",
    "plt.scatter(range(len(sarscov2_genome)), probs, c=colors)\n",
    "plt.xlabel(\"genome position\")\n",
    "plt.ylabel(\"posterior probability of position starting a TRS\")\n",
    "plt.show()\n",
    "### END SOLUTION"
   ]
  },
  {
   "cell_type": "markdown",
   "metadata": {
    "nbgrader": {
     "grade": false,
     "grade_id": "p3_description",
     "locked": true,
     "schema_version": 3,
     "solution": false,
     "task": false
    }
   },
   "source": [
    "## PROBLEM 3: Baum–Welch algorithm (25 points)\n",
    "\n",
    "Suppose we are trying to estimate the parameters of the HMM pictured below, which is the occasionally dishonest casino toy model, but with coin flips instead of die rolls.\n",
    "\n",
    "![HMM state transition diagram](p3_hmm.png)\n",
    "\n",
    "We are given two observed sequences, $x^{(1)} =  THTH$ and $x^{(2)} = HTTT$ but not the hidden states corresponding to these sequences. We wish to estimate the parameters of the HMM given these sequences using the Baum–Welch algorithm.  Starting with initial parameters set as depicted above, the forward, backward, and posterior probability matrices for the two sequences are given below.\n",
    "\n",
    "![HMM DP matrices](p3_hmm_dp_matrices.png)\n",
    "\n",
    "**By hand**, calculate the following values for the first iteration of the Baum–Welch algorithm.  Do *not* use pseudocounts for any of these values.  *Show your calculations*.\n",
    "\n",
    "**(a)** $n_{F,H}$, the expectation of the number of times the state F emitted H.\n",
    "\n",
    "**(b)** $n_{F,T}$, the expectation of the number of times the state F emitted T.\n",
    "\n",
    "**(c)** $n_{F \\rightarrow F}$, the expectation of the number of times there was a transition from F to F\n",
    "\n",
    "**(d)** $n_{F \\rightarrow L}$, the expectation of the number of times there was a transition from F to L\n",
    "\n",
    "**(e)** The updated estimate for $e_F(H)$\n",
    "\n",
    "**(f)** The updated estimate for $a_{FF}$"
   ]
  },
  {
   "cell_type": "markdown",
   "metadata": {
    "nbgrader": {
     "grade": true,
     "grade_id": "p3",
     "locked": false,
     "points": 25,
     "schema_version": 3,
     "solution": true,
     "task": false
    }
   },
   "source": [
    "### BEGIN SOLUTION template=Your solution to Problem 3 here\n",
    "\n",
    "**(a)** \n",
    "\n",
    "$n_{F,H} = P(\\pi_2 = F | x^{(1)}) + P(\\pi_4 = F | x^{(1)}) + P(\\pi_1 = F | x^{(2)})\n",
    "         = 0.677 + 0.708 + 0.512 = 1.897$\n",
    "\n",
    "**(b)** \n",
    "\n",
    "$n_{F,T} = P(\\pi_1 = F | x^{(1)}) + P(\\pi_3 = F | x^{(1)}) + P(\\pi_2 = F | x^{(2)}) + P(\\pi_3 = F | x^{(2)}) + P(\\pi_4 = F | x^{(2)})\n",
    "         = 0.595 + 0.663 + 0.398 + 0.343 + 0.334 = 2.333$\n",
    "         \n",
    "**(c)** \n",
    "\n",
    "$\\begin{eqnarray}\n",
    "n_{F\\rightarrow F} & = &\n",
    "\\frac{a_{FF}}{P(x^{(1)})}\n",
    "    \\left(f^1_F(1)e_F(x^{(1)}_2)b^1_F(2) + f^1_F(2)e_F(x^{(1)}_3)b^1_F(3) + f^1_F(3) e_F(x^{(1)}_4) b^1_F(4) \\right) +\n",
    "    \\frac{a_{FF}}{P(x^{(2)})}\n",
    "    \\left(f^2_F(1)e_F(x^{(2)}_2)b^2_F(2) + f^2_F(2)e_F(x^{(2)}_3)b^2_F(3) + f^2_F(3) e_F(x^{(2)}_4) b^2_F(4) \\right) \\\\\n",
    "& = & \\frac{a_{FF}}{f^1_F(4) + f^1_L(4)}\n",
    "    \\left(f^1_F(1)e_F(H)b^1_F(2) + \n",
    "          f^1_F(2)e_F(T)b^1_F(3) + \n",
    "          f^1_F(3) e_F(H) b^1_F(4) \\right) +\n",
    "    \\frac{a_{FF}}{f^2_F(4) + f^2_L(4)}\n",
    "    \\left(f^2_F(1)e_F(T)b^2_F(2) + \n",
    "          f^2_F(2)e_F(T)b^2_F(3) +\n",
    "          f^2_F(3) e_F(T) b^2_F(4) \\right) \\\\\n",
    "& = & \\frac{0.9}{0.0319 + 0.0132}\n",
    "    \\left(0.25 \\times 0.5 \\times 0.23 + \n",
    "          0.133 \\times 0.5 \\times 0.47 +\n",
    "          0.0635 \\times 0.5 \\times 1 \\right) +\n",
    "    \\frac{0.9}{0.0296 + 0.0591}\n",
    "    \\left(0.25 \\times 0.5 \\times 0.3 + \n",
    "          0.118 \\times 0.5 \\times 0.53 +\n",
    "          0.0575 \\times 0.5 \\times 1 \\right) \\\\\n",
    "& = & 2.821\n",
    "\\end{eqnarray}$\n",
    "\n",
    "**(d)** \n",
    "\n",
    "$\\begin{eqnarray}\n",
    "n_{F\\rightarrow L} & = &\n",
    "\\frac{a_{FL}}{P(x^{(1)})}\n",
    "    \\left(f^1_F(1)e_L(x^{(1)}_2)b^1_L(2) + f^1_F(2)e_L(x^{(1)}_3)b^1_L(3) + f^1_F(3) e_L(x^{(1)}_4) b^1_L(4) \\right) +\n",
    "    \\frac{a_{FL}}{P(x^{(2)})}\n",
    "    \\left(f^2_F(1)e_L(x^{(2)}_2)b^2_L(2) + f^2_F(2)e_L(x^{(2)}_3)b^2_L(3) + f^2_F(3) e_L(x^{(2)}_4) b^2_L(4) \\right) \\\\\n",
    "& = & \\frac{a_{FL}}{f^1_F(4) + f^1_L(4)}\n",
    "    \\left(f^1_F(1) e_L(H) b^1_L(2) + \n",
    "          f^1_F(2) e_L(T) b^1_L(3) + \n",
    "          f^1_F(3) e_L(H) b^1_L(4) \\right) +\n",
    "    \\frac{a_{FL}}{f^2_F(4) + f^2_L(4)}\n",
    "    \\left(f^2_F(1) e_L(T) b^2_L(2) + \n",
    "          f^2_F(2) e_L(T) b^2_L(3) +\n",
    "          f^2_F(3) e_L(T) b^2_L(4) \\right) \\\\\n",
    "& = & \\frac{0.1}{0.0319 + 0.0132}\n",
    "    \\left(0.25 \\times 0.2 \\times 0.189 + \n",
    "          0.133 \\times 0.8 \\times 0.23 +\n",
    "          0.0635 \\times 0.2 \\times 1 \\right) +\n",
    "    \\frac{0.1}{0.0296 + 0.0591}\n",
    "    \\left(0.25 \\times 0.8 \\times 0.581 + \n",
    "          0.118 \\times 0.8 \\times 0.77 +\n",
    "          0.0575 \\times 0.8 \\times 1 \\right) \\\\\n",
    "& = & 0.368    \n",
    "\\end{eqnarray}$\n",
    "\n",
    "**(e)** \n",
    "\n",
    "$e_F(H) = \\frac{n_{F,H}}{n_{F,H} + n_{F,T}} = \\frac{1.897}{1.897 + 2.333} \\approx 0.45$\n",
    "\n",
    "**(f)**\n",
    "\n",
    "$a_{FF} = \\frac{n_{F\\rightarrow F}}{n_{F\\rightarrow F} + n_{F\\rightarrow L}} = \\frac{2.821}{2.821 + 0.368} \\approx 0.88$\n",
    "\n",
    "\n",
    "### END SOLUTION"
   ]
  },
  {
   "cell_type": "markdown",
   "metadata": {
    "nbgrader": {
     "grade": false,
     "grade_id": "p4_description",
     "locked": true,
     "schema_version": 3,
     "solution": false,
     "task": false
    }
   },
   "source": [
    "## PROBLEM 4: K-means clustering of sequences (25 points)\n",
    "\n",
    "So far, we have seen K-means clustering as it is applied to vectors of real numbers.  In this problem, we will consider an extension of this approach to biological sequences.  Assume we are given a set of sequences of equal length.  To apply a K-means-like clustering algorithm to these sequences, we simply need to define (i) the distance between two sequences and (ii) how to compute the \"center\" (e.g. mean for the case of real-valued vectors) for a cluster of sequences.  In this problem, we will use the following definitions:\n",
    "\n",
    "(i) The distance between two sequences is the number of positions at which they differ.\n",
    "\n",
    "(ii) To compute the \"center\" sequence of a cluster of sequences, we define the character at position $i$ of the center sequence to be the character that occurs most frequently at position $i$ of the sequences in the cluster.  For example, if ACT, CAT, and AAG formed a cluster, their center would be AAT.  If there is a tie for the most frequent character at a position, pick the lexicographically smallest character with that highest frequency.\n",
    "\n",
    "With these definitions, **run the $k$-means algorithm by hand** on the following set of sequences:\n",
    "\n",
    "$\\begin{eqnarray}\n",
    "x^1 & = & {\\tt TTTAG} \\\\\n",
    "x^2 & = & {\\tt TATAG} \\\\\n",
    "x^3 & = & {\\tt CACCG} \\\\\n",
    "x^4 & = & {\\tt CAACG} \\\\\n",
    "x^5 & = & {\\tt GATTC} \\\\\n",
    "\\end{eqnarray}$\n",
    "\n",
    "Let $k = 2$ and the initial cluster centers be equal to $x^1$ and $x^2$. **For each iteration**, you should show your work for:\n",
    "\n",
    "**(i)** the assignment of sequences to clusters\n",
    "\n",
    "**(ii)** the updated cluster centers.\n"
   ]
  },
  {
   "cell_type": "markdown",
   "metadata": {
    "nbgrader": {
     "grade": true,
     "grade_id": "p4",
     "locked": false,
     "points": 25,
     "schema_version": 3,
     "solution": true,
     "task": false
    }
   },
   "source": [
    "### BEGIN SOLUTION TEMPLATE=Your written solution to 4\n",
    "\n",
    "![kmeans_solution](kmeans_solution.png)\n",
    "\n",
    "### END SOLUTION"
   ]
  }
 ],
 "metadata": {
  "celltoolbar": "Create Assignment",
  "kernelspec": {
   "display_name": "Python 3 [3.10]",
   "language": "python",
   "name": "python3"
  },
  "language_info": {
   "codemirror_mode": {
    "name": "ipython",
    "version": 3
   },
   "file_extension": ".py",
   "mimetype": "text/x-python",
   "name": "python",
   "nbconvert_exporter": "python",
   "pygments_lexer": "ipython3",
   "version": "3.10.2"
  },
  "varInspector": {
   "cols": {
    "lenName": 16,
    "lenType": 16,
    "lenVar": 40
   },
   "kernels_config": {
    "python": {
     "delete_cmd_postfix": "",
     "delete_cmd_prefix": "del ",
     "library": "var_list.py",
     "varRefreshCmd": "print(var_dic_list())"
    },
    "r": {
     "delete_cmd_postfix": ") ",
     "delete_cmd_prefix": "rm(",
     "library": "var_list.r",
     "varRefreshCmd": "cat(var_dic_list()) "
    }
   },
   "types_to_exclude": [
    "module",
    "function",
    "builtin_function_or_method",
    "instance",
    "_Feature"
   ],
   "window_display": false
  }
 },
 "nbformat": 4,
 "nbformat_minor": 2
}
