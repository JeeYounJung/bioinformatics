{
 "cells": [
  {
   "cell_type": "markdown",
   "metadata": {
    "nbgrader": {
     "grade": false,
     "grade_id": "cell-8f3b19b382b45fcd",
     "locked": true,
     "schema_version": 3,
     "solution": false
    }
   },
   "source": [
    "# BMI/CS 576 Fall 2023 - HW4\n",
    "The objectives of this homework are to practice with\n",
    "\n",
    "* weighted parsimony\n",
    "* tree space search\n",
    "* Markov chains\n",
    "\n",
    "\n",
    "## HW policies\n",
    "Before starting this homework, please read over the [homework policies](https://canvas.wisc.edu/courses/374201/pages/hw-policies) for this course.  In particular, note that homeworks are to be completed *individually* and plagiarism from any source (with the one exception noted below) will be considered **academic misconduct**.\n",
    "\n",
    "You are welcome to use any code from the weekly notebooks (including the official solutions) in your solutions to the HW."
   ]
  },
  {
   "cell_type": "markdown",
   "metadata": {
    "nbgrader": {
     "grade": false,
     "grade_id": "modules_header",
     "locked": true,
     "schema_version": 3,
     "solution": false,
     "task": false
    }
   },
   "source": [
    "## Modules for this HW"
   ]
  },
  {
   "cell_type": "code",
   "execution_count": 1,
   "metadata": {
    "nbgrader": {
     "grade": false,
     "grade_id": "modules",
     "locked": true,
     "schema_version": 3,
     "solution": false,
     "task": false
    }
   },
   "outputs": [],
   "source": [
    "import toytree\n",
    "import fasta\n",
    "import submatrix"
   ]
  },
  {
   "cell_type": "markdown",
   "metadata": {
    "nbgrader": {
     "grade": false,
     "grade_id": "p1_description",
     "locked": true,
     "schema_version": 3,
     "solution": false,
     "task": false
    }
   },
   "source": [
    "## PROBLEM 1: Weighted parsimony (40 points)\n",
    "\n",
    "In this problem you will implement the [weighted parsimony algorithm](https://canvas.wisc.edu/courses/374201/pages/day-16-online-lecture-phylogenetic-trees-weighted-parsimony) (also see [worked example](https://canvas.wisc.edu/courses/374201/modules/items/6356958)) for computing the cost of a tree given assignments of characters to its leaves.  Implement this algorithm as a function `weighted_parsimony` below, which takes as input a tree, a dictionary giving the character at each leaf, a cost matrix, and a string specifying all valid characters (e.g., \"ACGT\").  Your function will output the minimum cost of the tree as well as a dictionary giving an assignment of characters to all nodes of the tree (including the leaves) that achieves the minimum cost.\n",
    "\n",
    "### Implementation details\n",
    "\n",
    "* In the case of a tie during the traceback (e.g., multiple characters at a child node that allow for the same minimum cost at the parent, or multiple characters at the root node that give the same minimum cost), pick the character that is lexicographically smallest.\n",
    "\n",
    "* You may find useful the form of the implementations of `fitch_score_and_min_cost_states` and `fitch_ancestral_states` in the Day 16 notebook for the fill and traceback stages, respectively.\n",
    "\n",
    "* To directly access the root node of a `toytree.tree` object, simply access its `treenode` attribute. \n",
    "\n",
    "Tests for Problem 1 are found at the bottom of this notebook."
   ]
  },
  {
   "cell_type": "markdown",
   "metadata": {
    "nbgrader": {
     "grade": false,
     "grade_id": "cell-aeada4c6f9706531",
     "locked": true,
     "schema_version": 3,
     "solution": false,
     "task": false
    }
   },
   "source": [
    "### Cost matrices to be used in this assignment"
   ]
  },
  {
   "cell_type": "code",
   "execution_count": 2,
   "metadata": {
    "nbgrader": {
     "grade": false,
     "grade_id": "cost_matrices",
     "locked": true,
     "schema_version": 3,
     "solution": false,
     "task": false
    }
   },
   "outputs": [
    {
     "name": "stdout",
     "output_type": "stream",
     "text": [
      "basic_dna_cost_matrix = \n",
      "         A    C    G    T\n",
      "    A    0    1    1    1\n",
      "    C    1    0    1    1\n",
      "    G    1    1    0    1\n",
      "    T    1    1    1    0\n",
      "purine_pyrimidine_cost_matrix = \n",
      "         A    C    G    T\n",
      "    A    0    2    1    2\n",
      "    C    2    0    2    1\n",
      "    G    1    2    0    2\n",
      "    T    2    1    2    0\n"
     ]
    }
   ],
   "source": [
    "DNA = \"ACGT\"\n",
    "basic_dna_cost_matrix = submatrix.match_mismatch_matrix(0, 1, DNA)\n",
    "purine_pyrimidine_cost_matrix = submatrix.read_substitution_matrix(\"purine_pyrimidine.txt\")\n",
    "\n",
    "print(\"basic_dna_cost_matrix = \")\n",
    "submatrix.print_matrix(basic_dna_cost_matrix)\n",
    "print(\"purine_pyrimidine_cost_matrix = \")\n",
    "submatrix.print_matrix(purine_pyrimidine_cost_matrix)"
   ]
  },
  {
   "cell_type": "code",
   "execution_count": 3,
   "metadata": {
    "nbgrader": {
     "grade": false,
     "grade_id": "weighted_parsimony",
     "locked": false,
     "schema_version": 3,
     "solution": true,
     "task": false
    }
   },
   "outputs": [],
   "source": [
    "def weighted_parsimony(tree, leaf_states, cost_matrix, alphabet = DNA):\n",
    "    \"\"\"Computes the minimum cost of a tree and an assignment of ancestral characters achieving that cost.   \n",
    "    Args:\n",
    "        tree: a toytree tree.\n",
    "        leaf_states: a dictionary mapping leaf names to characters.\n",
    "        cost_matrix: a cost matrix (represented as a dictionary with tuples as keys)\n",
    "           where cost_matrix[a, b] is the cost of a substitution between characters a and b\n",
    "        alphabet: a string specifying the possible character states that each node may take.\n",
    "    Returns:\n",
    "        A tuple (min_cost, node_states) where min_cost is the minimum cost of the tree (a numeric value)\n",
    "        and node_states is an assignment of characters to the nodes that achieves this minimum cost, \n",
    "        (a dictionary mapping node names to characters).\n",
    "    \"\"\"      \n",
    "    ### BEGIN SOLUTION\n",
    "    import collections\n",
    "    R = collections.defaultdict(lambda: {c: float(\"inf\") for c in alphabet}) # costs\n",
    "    T = collections.defaultdict(lambda: {c: [] for c in alphabet})           # tracebacks\n",
    "    for node in tree.treenode.traverse(\"postorder\"):\n",
    "        if node.is_leaf():\n",
    "            R[node.name][leaf_states[node.name]] = 0\n",
    "        else:\n",
    "            children_R = [R[child.name] for child in node.children]\n",
    "            for c in alphabet:\n",
    "                minimizers = [min((child_R[a] + cost_matrix[c, a], a) for a in alphabet)\n",
    "                              for child_R in children_R]\n",
    "                cost = sum(min_cost for min_cost, min_char in minimizers)\n",
    "                traceback = [min_char for min_cost, min_char in minimizers]\n",
    "                R[node.name][c] = cost\n",
    "                T[node.name][c] = traceback\n",
    "    \n",
    "    # traceback\n",
    "    r = {} # a dictionary mapping node names to character states\n",
    "    # determine minimum cost character at the root\n",
    "    root_node_name = tree.treenode.name\n",
    "    min_cost, min_char = min((cost, char) for char, cost in R[root_node_name].items())\n",
    "    r[root_node_name] = min_char\n",
    "    \n",
    "    for node in tree.treenode.traverse(\"preorder\"):\n",
    "        traceback = T[node.name][r[node.name]]\n",
    "        for child, traceback_char in zip(node.children, traceback):\n",
    "            r[child.name] = traceback_char\n",
    "\n",
    "    return min_cost, r\n",
    "    ### END SOLUTION"
   ]
  },
  {
   "cell_type": "markdown",
   "metadata": {},
   "source": [
    "## Helper functions\n",
    "\n",
    "You may find the function below helpful for visualizing trees and the names of its nodes."
   ]
  },
  {
   "cell_type": "code",
   "execution_count": 4,
   "metadata": {},
   "outputs": [
    {
     "data": {
      "text/html": [
       "<div class=\"toyplot\" id=\"td36be6a2e17847e398d03dd82ccc1135\" style=\"text-align:center\"><svg class=\"toyplot-canvas-Canvas\" xmlns:toyplot=\"http://www.sandia.gov/toyplot\" xmlns:xlink=\"http://www.w3.org/1999/xlink\" xmlns=\"http://www.w3.org/2000/svg\" width=\"255.0px\" height=\"275.0px\" viewBox=\"0 0 255.0 275.0\" preserveAspectRatio=\"xMidYMid meet\" style=\"background-color:transparent;border-color:#292724;border-style:none;border-width:1.0;fill:rgb(16.1%,15.3%,14.1%);fill-opacity:1.0;font-family:Helvetica;font-size:12px;opacity:1.0;stroke:rgb(16.1%,15.3%,14.1%);stroke-opacity:1.0;stroke-width:1.0\" id=\"t111c7e3bcad3480d817679820a4fc3f5\"><g class=\"toyplot-coordinates-Cartesian\" id=\"t21c664ba104b49df8f40a4ed3692cad9\"><clipPath id=\"tcf23319b49ba4ddab9aa9d3892e12dba\"><rect x=\"30.0\" y=\"30.0\" width=\"195.0\" height=\"215.0\"></rect></clipPath><g clip-path=\"url(#tcf23319b49ba4ddab9aa9d3892e12dba)\"><g class=\"toytree-mark-Toytree\" id=\"tb266b02efcec451e804bdb8441471a1e\"><g class=\"toytree-Edges\" style=\"fill:none;stroke:rgb(14.9%,14.9%,14.9%);stroke-linecap:round;stroke-opacity:1;stroke-width:2\"><path d=\"M 65.9 119.7 L 65.9 173.1 L 127.5 173.1\" id=\"4,3\"></path><path d=\"M 65.9 119.7 L 65.9 66.3 L 189.1 66.3\" id=\"4,2\"></path><path d=\"M 127.5 173.1 L 127.5 137.5 L 189.1 137.5\" id=\"3,1\"></path><path d=\"M 127.5 173.1 L 127.5 208.7 L 189.1 208.7\" id=\"3,0\"></path></g><g class=\"toytree-Nodes\" style=\"fill:rgb(40%,76.1%,64.7%);fill-opacity:1.0;stroke:None;stroke-width:1\"><g id=\"node-0\" transform=\"translate(189.103,208.721)\"><circle r=\"10.0\"></circle></g><g id=\"node-1\" transform=\"translate(189.103,137.500)\"><circle r=\"10.0\"></circle></g><g id=\"node-2\" transform=\"translate(189.103,66.279)\"><circle r=\"10.0\"></circle></g><g id=\"node-3\" transform=\"translate(127.500,173.110)\"><circle r=\"10.0\"></circle></g><g id=\"node-4\" transform=\"translate(65.897,119.695)\"><circle r=\"10.0\"></circle></g></g><g class=\"toytree-NodeLabels\" style=\"fill:rgb(14.9%,14.9%,14.9%);fill-opacity:1.0;font-size:9px;stroke:none\"><g transform=\"translate(186.10,211.02)\"><text>Y</text></g><g transform=\"translate(186.10,139.80)\"><text>X</text></g><g transform=\"translate(186.35,68.58)\"><text>Z</text></g><g transform=\"translate(125.00,175.41)\"><text>3</text></g><g transform=\"translate(63.40,121.99)\"><text>4</text></g></g><g class=\"toytree-TipLabels\" style=\"fill:rgb(14.9%,14.9%,14.9%);fill-opacity:1.0;font-family:helvetica;font-size:11px;font-weight:normal;stroke:none;white-space:pre\"><g transform=\"translate(189.10,208.72)rotate(0)\"><text x=\"15.00\" y=\"2.81\" style=\"\">T</text></g><g transform=\"translate(189.10,137.50)rotate(0)\"><text x=\"15.00\" y=\"2.81\" style=\"\">C</text></g><g transform=\"translate(189.10,66.28)rotate(0)\"><text x=\"15.00\" y=\"2.81\" style=\"\">A</text></g></g></g></g></g></svg><div class=\"toyplot-behavior\"><script>(function()\n",
       "{\n",
       "var modules={};\n",
       "})();</script></div></div>"
      ]
     },
     "metadata": {},
     "output_type": "display_data"
    }
   ],
   "source": [
    "def draw_tree_with_internal_labels(t, leaf_states=None):\n",
    "    \"\"\"Draws the given toytree tree with all nodes labeled and \n",
    "    (optionally) with character assignments to the leaves.\n",
    "    Args:\n",
    "        tree: a toytree tree.\n",
    "        leaf_states: a dictionary mapping leaf names to characters.\n",
    "    \"\"\"\n",
    "    if leaf_states:\n",
    "        tip_labels = [leaf_states[leaf_name] for leaf_name in t.get_tip_labels()]\n",
    "    else:\n",
    "        tip_labels = False\n",
    "    t.draw(node_labels=t.get_node_values(feature=\"name\", show_root=True, show_tips=True),\n",
    "           tip_labels=tip_labels,\n",
    "           node_sizes=20,\n",
    "           use_edge_lengths=False)\n",
    "\n",
    "# Example usage:\n",
    "t = toytree.tree(\"(Z,(X,Y));\")\n",
    "leaf_states = {\"X\": \"C\", \"Y\": \"T\", \"Z\": \"A\"}\n",
    "draw_tree_with_internal_labels(t, leaf_states)"
   ]
  },
  {
   "cell_type": "markdown",
   "metadata": {
    "nbgrader": {
     "grade": false,
     "grade_id": "cell-a5011d6caa369062",
     "locked": true,
     "schema_version": 3,
     "solution": false,
     "task": false
    }
   },
   "source": [
    "## PROBLEM 2: Human coronavirus phylogeny (20 POINTS)\n",
    "\n",
    "There are many types of coronaviruses that can infect humans, some of which are quite common and cause a subset of common cold cases.  It is helpful to understand the phylogenetic relationships and between these viruses and their related evolutionary histories.  Included with this assignment is a multiple sequence alignment (`human_coronavirus_rdrp.fasta`) of the RNA-dependent RNA polymerase (RdRP) gene from six human coronavirus genomes (SARS-CoV-2, SARS_CoV_1, MERS, OC43, HKU1, and CoV229E).  For simplicity and efficiently, all gapped columns and all uninformative columns (no differences within the column) have been removed from this alignment.\n",
    "\n",
    "In this problem, we will use your `weighted_parsimony` function from problem 1 to analyze the evolutionary relationships between these viruses.  If your `weighted_parsimony` function is incorrect, you may use the unweighted parsimony algorithms implemented in the Day 16 notebook instead."
   ]
  },
  {
   "cell_type": "markdown",
   "metadata": {
    "nbgrader": {
     "grade": false,
     "grade_id": "cell-a5ddd6c6047416ba",
     "locked": true,
     "schema_version": 3,
     "solution": false,
     "task": false
    }
   },
   "source": [
    "**(a)** Using your `weighted_parsimony` function, compute the weighted parsimony score for all possible rooted trees of these six viral genomes, assuming CoV229E is the outgroup.  For your convenience, the file `all_rooted_trees.txt` contains the newick strings for all such trees.  Use `purine_pyrimidine_cost_matrix` as the cost matrix for your weighted parsimony computations.  *Hint: You will likely want to use slightly modified versions of functions and code from the Day 16 notebook for this problem*."
   ]
  },
  {
   "cell_type": "code",
   "execution_count": 5,
   "metadata": {
    "nbgrader": {
     "grade": true,
     "grade_id": "p2a",
     "locked": false,
     "points": 10,
     "schema_version": 3,
     "solution": true,
     "task": false
    }
   },
   "outputs": [],
   "source": [
    "### BEGIN SOLUTION\n",
    "def alignment_leaf_states_list(alignment, sequence_names):\n",
    "    \"\"\"Returns a list of dictionaries, where each dictionary corresponds to the leaf states\n",
    "    for a column of the alignment.\"\"\"\n",
    "    return [dict(zip(sequence_names, column)) for column in zip(*alignment)]\n",
    "\n",
    "def alignment_weighted_parsimony(tree, alignment, sequence_names, cost_matrix):\n",
    "    columns = alignment_leaf_states_list(alignment, sequence_names)\n",
    "    weighted_parsimony_results = [weighted_parsimony(tree, column, cost_matrix) for column in columns]\n",
    "    column_scores, column_states = zip(*weighted_parsimony_results)\n",
    "    return column_scores, column_states\n",
    "\n",
    "def score_tree_weighted_parsimony(tree, alignment, sequence_names, cost_matrix):\n",
    "    column_scores, column_states = alignment_weighted_parsimony(tree, alignment, sequence_names, cost_matrix)\n",
    "    return sum(column_scores)\n",
    "\n",
    "def p2_score_tree(newick):\n",
    "    return score_tree_weighted_parsimony(toytree.tree(newick), \n",
    "                                         alignment, \n",
    "                                         sequence_names, \n",
    "                                         purine_pyrimidine_cost_matrix)\n",
    "\n",
    "alignment_filename = \"human_coronavirus_rdrp.fasta\"\n",
    "aligned_sequences = fasta.read_sequences_from_fasta_file(alignment_filename)\n",
    "sequence_names, alignment = zip(*aligned_sequences)\n",
    "\n",
    "all_possible_trees_filename = \"all_rooted_trees.txt\"\n",
    "all_possible_trees = [line.strip() for line in open(all_possible_trees_filename)]\n",
    "\n",
    "tree_scores = list(map(p2_score_tree, all_possible_trees))\n",
    "### END SOLUTION"
   ]
  },
  {
   "cell_type": "markdown",
   "metadata": {
    "nbgrader": {
     "grade": false,
     "grade_id": "p2b_description",
     "locked": true,
     "schema_version": 3,
     "solution": false,
     "task": false
    }
   },
   "source": [
    "**(b)** List the scores and trees for the **3** trees with the smallest weighted parsimony scores.  Given that these trees have similar scores, for what aspect of the true tree is there the most uncertainty?"
   ]
  },
  {
   "cell_type": "code",
   "execution_count": 6,
   "metadata": {
    "nbgrader": {
     "grade": true,
     "grade_id": "p2b",
     "locked": false,
     "points": 5,
     "schema_version": 3,
     "solution": true,
     "task": false
    }
   },
   "outputs": [
    {
     "data": {
      "text/plain": [
       "[(4154, '(CoV229E,((SARS-CoV-2,SARS_CoV_1),(MERS,(OC43,HKU1))));'),\n",
       " (4157, '(CoV229E,(((SARS-CoV-2,SARS_CoV_1),MERS),(OC43,HKU1)));'),\n",
       " (4191, '(CoV229E,(((SARS-CoV-2,SARS_CoV_1),(OC43,HKU1)),MERS));')]"
      ]
     },
     "execution_count": 6,
     "metadata": {},
     "output_type": "execute_result"
    }
   ],
   "source": [
    "### BEGIN SOLUTION\n",
    "top_n = 3\n",
    "top_trees = sorted(zip(tree_scores, all_possible_trees))[:top_n]\n",
    "top_trees\n",
    "### END SOLUTION"
   ]
  },
  {
   "cell_type": "markdown",
   "metadata": {
    "nbgrader": {
     "grade": true,
     "grade_id": "cell-4b1703aaa5cb9de4",
     "locked": false,
     "points": 0,
     "schema_version": 3,
     "solution": true,
     "task": false
    }
   },
   "source": [
    "### BEGIN SOLUTION\n",
    "The only difference between these three trees is the placement of MERS.  SARS-CoV-2 and SARS_CoV_1 are siblings in all three trees, as are OC43 and HKU1.  Thus, there is the most uncertainty in the evolutionary relationship of MERS to these other viruses.\n",
    "### END SOLUTION"
   ]
  },
  {
   "cell_type": "markdown",
   "metadata": {
    "nbgrader": {
     "grade": false,
     "grade_id": "p2c_description",
     "locked": true,
     "schema_version": 3,
     "solution": false,
     "task": false
    }
   },
   "source": [
    "**(c)** For the tree with the smallest score, use the results of your `weighted_parsimony` function to construct the ancestral sequence at the root node of the tree.  Save this sequence to a file `ancestor.fasta` in FASTA format. *Hint: You will likely want to use slightly modified versions of functions and code from the Day 16 notebook for this problem*"
   ]
  },
  {
   "cell_type": "code",
   "execution_count": 7,
   "metadata": {
    "nbgrader": {
     "grade": true,
     "grade_id": "p2c",
     "locked": false,
     "points": 5,
     "schema_version": 3,
     "solution": true,
     "task": false
    }
   },
   "outputs": [],
   "source": [
    "### BEGIN SOLUTION\n",
    "def ancestor_weighted_parsimony(tree, alignment, sequence_names, cost_matrix):\n",
    "    column_scores, column_states = alignment_weighted_parsimony(tree, alignment, sequence_names, cost_matrix)\n",
    "    root_name = tree.treenode.name\n",
    "    return ''.join(states[root_name] for states in column_states)\n",
    "\n",
    "ancestor_filename = \"ancestor.fasta\"\n",
    "ancestor_name = \"ancestor\"\n",
    "top_tree = toytree.tree(top_trees[0][1])\n",
    "ancestor_sequence = ancestor_weighted_parsimony(top_tree, alignment, sequence_names, purine_pyrimidine_cost_matrix)\n",
    "fasta.write_sequences_to_fasta_file([(ancestor_name, ancestor_sequence)], ancestor_filename)\n",
    "### END SOLUTION"
   ]
  },
  {
   "cell_type": "markdown",
   "metadata": {
    "nbgrader": {
     "grade": false,
     "grade_id": "cell-fcf5590f2e8a7255",
     "locked": true,
     "schema_version": 3,
     "solution": false,
     "task": false
    }
   },
   "source": [
    "## PROBLEM 3: Branch and Bound with unweighted Parsimony (25 points)\n",
    "\n",
    "Suppose we wish to find an unrooted tree with the minimum unweighted parsimony score for five taxa: 1,2,3,4,and 5, which have character states $A, C, C, A, C$, respectively.  In this problem, we will use the first branch and bound method described in the [Day 16 Tree space search lecture](https://canvas.wisc.edu/courses/374201/pages/day-16-online-lecture-phylogenetic-trees-tree-space-search) (slide 7: \"Exact Method: Branch and Bound\") to find such a tree.  We will use the unweighted parsimony score of a partial tree as the lower bound for the score of a full tree that may be built from it.\n",
    "\n",
    "**(a)** Manually run the branch and bound algorithm on these data starting with the unrooted tree containg taxa 1, 2, and 3.  At the end of each iteration of the algorithm, list the elements (as newick strings) of the queue with their lower bounds. You do *not* need to show your work with respect to computing the parsimony score of each (partial) tree.\n",
    "\n",
    "**(b)** For how many (partial) trees did you have to compute a parsimony score during the algorithm in part (a)?  How does this compare to the number of possible unrooted trees of five taxa?"
   ]
  },
  {
   "cell_type": "markdown",
   "metadata": {
    "nbgrader": {
     "grade": true,
     "grade_id": "p3a",
     "locked": false,
     "points": 21,
     "schema_version": 3,
     "solution": true,
     "task": false
    }
   },
   "source": [
    "### BEGIN SOLUTION template=Your solution to Problem 3a here\n",
    "\n",
    "**(a)**  Listed below are the states of the queue at the beginning of each iteration and the tree that would be popped off.\n",
    "\n",
    "*Iteration 1*\n",
    "\n",
    "| tree     | lower bound |\n",
    "|----------|-------------|\n",
    "| (1,2,3)  |    1        |\n",
    "\n",
    "\n",
    "Pop and branch on (1,2,3)\n",
    "\n",
    "*Iteration 2*\n",
    "\n",
    "| tree         | lower bound |\n",
    "|--------------|-------------|\n",
    "| ((1,4),2,3)  |    1        |\n",
    "| (1,(2,4),3)  |    2        |\n",
    "| (1,2,(3,4))  |    2        |\n",
    "\n",
    "\n",
    "Pop and branch on ((1,4),2,3)\n",
    "\n",
    "*Iteration 3*\n",
    "\n",
    "| tree            | lower bound |\n",
    "|-----------------|-------------|\n",
    "| (((1,4),5),2,3) |    1        |\n",
    "| ((1,4),(2,5),3) |    1        |\n",
    "| ((1,4),2,(3,5)) |    1        |\n",
    "| (((1,5),4),2,3) |    2        |\n",
    "| ((1,(4,5)),2,3) |    2        |\n",
    "| (1,(2,4),3)     |    2        |\n",
    "| (1,2,(3,4))     |    2        |\n",
    "\n",
    "The top three trees (arbitrarily ordered) on the queue all have lower bound = 1 and are complete trees: (((1,4),5),2,3), ((1,4),(2,5),3), and ((1,4),2,(3,5)).  Any one of these could be returned as the final optimal tree from the branch and bound algorithm.\n",
    "\n",
    "### END SOLUTION"
   ]
  },
  {
   "cell_type": "markdown",
   "metadata": {
    "nbgrader": {
     "grade": true,
     "grade_id": "p3b",
     "locked": false,
     "points": 4,
     "schema_version": 3,
     "solution": true,
     "task": false
    }
   },
   "source": [
    "### BEGIN SOLUTION template=Your solution to Problem 3b here\n",
    "\n",
    "**(b)** Including the first tree (1,2,3), there were 9 trees for which a parsimony score was calculated (1, 3, and 5 in the 1st, 2nd, and 3rd iterations, respectively).  There are $3 \\times 5 = 15$ possible unrooted trees of five taxa.  Thus, branch and bound does $9/15 = 60\\%$ of the work of a brute force approach that would explicitly examine every possible unrooted tree.\n",
    "\n",
    "### END SOLUTION"
   ]
  },
  {
   "cell_type": "markdown",
   "metadata": {
    "nbgrader": {
     "grade": false,
     "grade_id": "p4_description",
     "locked": true,
     "schema_version": 3,
     "solution": false,
     "task": false
    }
   },
   "source": [
    "## PROBLEM 4: Markov chain parameter estimation and likelihood (15 points)\n",
    "\n",
    "Suppose we are given the following five DNA sequences. In this problem, we will model these of sequences using a simple Markov chain with a state for each of the four DNA bases.\n",
    "\n",
    "$\\begin{eqnarray}\n",
    "x_1 & = & \\mathrm{\\tt ATGT} \\\\\n",
    "x_2 & = & \\mathrm{\\tt AAAA} \\\\\n",
    "x_3 & = & \\mathrm{\\tt GTCG} \\\\\n",
    "x_4 & = & \\mathrm{\\tt AACA} \\\\\n",
    "x_5 & = & \\mathrm{\\tt TACC} \\\\\n",
    "\\end{eqnarray}$\n",
    "\n",
    "**(a)** Using uniform distributions for the transition probabilities and initial state probabilities, calculate the likelihood, $P(x_1, x_2, x_3, x_4, x_5)$, of these sequences (where we assume that each sequence is generated independently from the model).\n",
    "\n",
    "**(b)** Estimate the parameters (transition and initial probabilities) of the Markov chain using maximum likelihood estimates. Calculate the likelihood of these sequences given these maximum likelihood parameter estimates.\n",
    "\n",
    "**(c)** Estimate the parameters (transition and initial probabilities) of the Markov chain using Laplace estimates (pseudocount = 1). Calculate the likelihood of these sequences given these Laplace parameter estimates."
   ]
  },
  {
   "cell_type": "markdown",
   "metadata": {
    "nbgrader": {
     "grade": true,
     "grade_id": "p4a",
     "locked": false,
     "points": 3,
     "schema_version": 3,
     "solution": true,
     "task": false
    }
   },
   "source": [
    "### BEGIN SOLUTION template=Your solution to Problem 4a here\n",
    "\n",
    "**(a)** The probability of each sequence is the product of one initial probability and three transition probabilities, all of which are equal to $\\frac{1}{4}$ because we are using uniform distributions.  Thus, the probability of each sequence is $\\left(\\frac{1}{4}\\right)^4 = \\frac{1}{256}$ .  The likelihood of all of the sequences is simply the product of the probabilities of each sequence, since they are generated independently.\n",
    "\n",
    "$P(x_1, x_2, x_3, x_4, x_5) = \\prod_{i=1}^{5} P(x_i) = \\left(\\frac{1}{256}\\right)^5 = \\frac{1}{1099511627776} = 9.1 \\times 10^{-13}$\n",
    "\n",
    "### END SOLUTION"
   ]
  },
  {
   "cell_type": "markdown",
   "metadata": {
    "nbgrader": {
     "grade": true,
     "grade_id": "p4b",
     "locked": false,
     "points": 6,
     "schema_version": 3,
     "solution": true,
     "task": false
    }
   },
   "source": [
    "### BEGIN SOLUTION template=Your solution to Problem 4b here\n",
    "\n",
    "**(b)** The transition count matrix $n_{s \\rightarrow t}$ (rows index $s$ and columns index $t$) is shown below.  $S$ represents transitions from the start state (initial transitions).  The $*$ column represents the total number of transitions from the state indexed by the row.\n",
    "$$\\begin{array}{cccc}\n",
    "  & A & C & G & T & * \\\\\n",
    "S & 3 & 0 & 1 & 1 & 5 \\\\\n",
    "A & 4 & 2 & 0 & 1 & 7 \\\\\n",
    "C & 1 & 1 & 1 & 0 & 3\\\\\n",
    "G & 0 & 0 & 0 & 2 & 2 \\\\\n",
    "T & 1 & 1 & 1 & 0 & 3\n",
    "\\end{array}$$\n",
    "\n",
    "Maximum likelihood estimates for the parameters parameters $a_{s \\rightarrow t}$. The formula used for each cell is\n",
    "$\\frac{n_{s \\rightarrow t}}{n_{s \\rightarrow *}}$.\n",
    "$$\\begin{array}{cccc}\n",
    "  & A & C & G & T \\\\\n",
    "S & \\frac{3}{5} = 0.6 & \n",
    "    \\frac{0}{5} = 0 & \n",
    "    \\frac{1}{5} = 0.2 & \n",
    "    \\frac{1}{5} = 0.2 \\\\\n",
    "A & \\frac{4}{7} \\approx 0.571 & \n",
    "    \\frac{2}{7} \\approx 0.286 & \n",
    "    \\frac{0}{7} = 0 & \n",
    "    \\frac{1}{7} \\approx 0.143 \\\\\n",
    "C & \\frac{1}{3} \\approx 0.333 & \n",
    "    \\frac{1}{3} \\approx 0.333 & \n",
    "    \\frac{1}{3} \\approx 0.333 & \n",
    "    \\frac{0}{3}  = 0 \\\\\n",
    "G & \\frac{0}{2} = 0 & \n",
    "    \\frac{0}{2} = 0 & \n",
    "    \\frac{0}{2} = 0 & \n",
    "    \\frac{2}{2} = 1 \\\\\n",
    "T & \\frac{1}{3} \\approx 0.333 & \n",
    "    \\frac{1}{3} \\approx 0.333 & \n",
    "    \\frac{1}{3} \\approx 0.333 & \n",
    "    \\frac{0}{3} = 0 \\\\    \n",
    "\\end{array}$$\n",
    "\n",
    "$\\begin{eqnarray}\n",
    "P(x_1, x_2, x_3, x_4, x_5) & = & P(x_1)P(x_2)P(x_3)P(x_4)P(x_5) \\\\\n",
    "& = & (a_{S,A}a_{A,T}a_{T,G}a_{G,T}) \\times \n",
    "(a_{S,A}a_{A,A}a_{A,A}a_{A,A}) \\times \n",
    "(a_{S,G}a_{G,T}a_{T,C}a_{C,G}) \\times \n",
    "(a_{S,A}a_{A,A}a_{A,C}a_{C,A}) \\times \n",
    "(a_{S,T}a_{T,A}a_{A,C}a_{C,C})\\\\\n",
    "& = & a_{S,A}^3 a_{S,G}^1 a_{S,T}^1 a_{A,A}^4 a_{A,C}^2 a_{A,T}^1 a_{C,A}^1 a_{C,C}^1 a_{C,G}^1 a_{G,T}^2 a_{T,A}^1 a_{T,C}^1 a_{T,G}^1 \\\\\n",
    "& \\approx & (0.6)^3 (0.2)^1 (0.2)^1 (0.571)^4 (0.286)^2 (0.143)^1 (0.333)^1 (0.333)^1 (0.333)^1 (1)^2 (0.333)^1 (0.333)^1 (0.333)^1 \\\\\n",
    "& \\approx & 1.5 \\times 10^{-8}\n",
    "\\end{eqnarray}$\n",
    "\n",
    "\n",
    "### END SOLUTION"
   ]
  },
  {
   "cell_type": "markdown",
   "metadata": {
    "nbgrader": {
     "grade": true,
     "grade_id": "p4c",
     "locked": false,
     "points": 6,
     "schema_version": 3,
     "solution": true,
     "task": false
    }
   },
   "source": [
    "### BEGIN SOLUTION template=Your solution to Problem 4c here\n",
    "\n",
    "Laplace estimates for the parameters $a_{s \\rightarrow t}$. The formula used for each cell is\n",
    "$\\frac{n_{s \\rightarrow t} + 1}{n_{s \\rightarrow *} + 4}$.\n",
    "$$\\begin{array}{cccc}\n",
    "  & A & C & G & T \\\\\n",
    "S & \\frac{3 + 1}{5 + 4} \\approx 0.444 & \n",
    "    \\frac{0 + 1}{5 + 4} \\approx 0.111 & \n",
    "    \\frac{1 + 1}{5 + 4} \\approx 0.222 & \n",
    "    \\frac{1 + 1}{5 + 4} \\approx 0.222 \\\\\n",
    "A & \\frac{4 + 1}{7 + 4} \\approx 0.455 & \n",
    "    \\frac{2 + 1}{7 + 4} \\approx 0.273 & \n",
    "    \\frac{0 + 1}{7 + 4} \\approx 0.091 & \n",
    "    \\frac{1 + 1}{7 + 4} \\approx 0.182 \\\\\n",
    "C & \\frac{1 + 1}{3 + 4} \\approx 0.286 & \n",
    "    \\frac{1 + 1}{3 + 4} \\approx 0.286 & \n",
    "    \\frac{1 + 1}{3 + 4} \\approx 0.286 & \n",
    "    \\frac{0 + 1}{3 + 4} \\approx 0.143 \\\\\n",
    "G & \\frac{0 + 1}{2 + 4} \\approx 0.167 & \n",
    "    \\frac{0 + 1}{2 + 4} \\approx 0.167 & \n",
    "    \\frac{0 + 1}{2 + 4} \\approx 0.167 & \n",
    "    \\frac{2 + 1}{2 + 4} = 0.5 \\\\\n",
    "T & \\frac{1 + 1}{3 + 4} \\approx 0.286 & \n",
    "    \\frac{1 + 1}{3 + 4} \\approx 0.286 & \n",
    "    \\frac{1 + 1}{3 + 4} \\approx 0.286 & \n",
    "    \\frac{0 + 1}{3 + 4} \\approx 0.143 \\\\       \n",
    "\\end{array}$$\n",
    "\n",
    "$\\begin{eqnarray}\n",
    "P(x_1, x_2, x_3, x_4, x_5) & = & a_{S,A}^3 a_{S,G}^1 a_{S,T}^1 a_{A,A}^4 a_{A,C}^2 a_{A,T}^1 a_{C,A}^1 a_{C,C}^1 a_{C,G}^1 a_{G,T}^2 a_{T,A}^1 a_{T,C}^1 a_{T,G}^1 \\\\\n",
    "& \\approx & (0.444)^3 (0.222)^1 (0.222)^1 (0.455)^4 (0.273)^2 (0.182)^1 (0.286)^1 (0.286)^1 (0.286)^1 (0.5)^2 (0.286)^1 (0.286)^1 (0.286)^1 \\\\\n",
    "& \\approx & 3.4 \\times 10^{-10}\n",
    "\\end{eqnarray}\n",
    "$\n",
    "\n",
    "\n",
    "### END SOLUTION"
   ]
  },
  {
   "cell_type": "markdown",
   "metadata": {
    "nbgrader": {
     "grade": false,
     "grade_id": "cell-72c248106b36e23b",
     "locked": true,
     "schema_version": 3,
     "solution": false,
     "task": false
    }
   },
   "source": [
    "## Tests for Problem 1"
   ]
  },
  {
   "cell_type": "code",
   "execution_count": 8,
   "metadata": {
    "nbgrader": {
     "grade": false,
     "grade_id": "cell-af65d728bd076293",
     "locked": true,
     "schema_version": 3,
     "solution": false,
     "task": false
    }
   },
   "outputs": [],
   "source": [
    "pair_tree =              toytree.tree(\"(X,Y);\")\n",
    "triple_tree =         toytree.tree(\"(Z,(X,Y));\")\n",
    "quartet_tree =     toytree.tree(\"(W,(Z,(X,Y)));\")\n",
    "quartet2_tree =   toytree.tree(\"((W,Z),(X,Y));\")\n",
    "quintet_tree = toytree.tree(\"((V,W),(Z,(X,Y)));\")\n",
    "large_tree = toytree.tree(\"((E,(F,(G,H))),((A,B),(C,D)));\")\n",
    "\n",
    "pair_match_states =                             {\"X\": \"C\", \"Y\": \"C\"}\n",
    "pair_mismatch_states =                          {\"X\": \"A\", \"Y\": \"T\"}\n",
    "triple_states =                       {\"Z\": \"C\", \"X\": \"A\", \"Y\": \"T\"}\n",
    "quartet_states =            {\"W\": \"A\", \"Z\": \"C\", \"X\": \"A\", \"Y\": \"T\"}\n",
    "quartet2_states =           {\"W\": \"C\", \"Z\": \"C\", \"X\": \"A\", \"Y\": \"T\"}\n",
    "quintet_states =  {\"V\": \"C\", \"W\": \"C\", \"Z\": \"C\", \"X\": \"A\", \"Y\": \"T\"}\n",
    "large_states = {\"A\": \"G\", \"B\": \"C\", \"C\": \"T\", \"D\": \"A\", \"E\": \"G\", \"F\": \"C\", \"G\": \"C\", \"H\": \"C\"}"
   ]
  },
  {
   "cell_type": "code",
   "execution_count": 9,
   "metadata": {
    "nbgrader": {
     "grade": true,
     "grade_id": "pair_match_score",
     "locked": true,
     "points": 6,
     "schema_version": 3,
     "solution": false,
     "task": false
    }
   },
   "outputs": [
    {
     "name": "stdout",
     "output_type": "stream",
     "text": [
      "SUCCESS: pair_match_score test case passed!\n"
     ]
    },
    {
     "data": {
      "text/html": [
       "<div class=\"toyplot\" id=\"t8e8d9b5ed144465f8d061e5a76e66d98\" style=\"text-align:center\"><svg class=\"toyplot-canvas-Canvas\" xmlns:toyplot=\"http://www.sandia.gov/toyplot\" xmlns:xlink=\"http://www.w3.org/1999/xlink\" xmlns=\"http://www.w3.org/2000/svg\" width=\"255.0px\" height=\"275.0px\" viewBox=\"0 0 255.0 275.0\" preserveAspectRatio=\"xMidYMid meet\" style=\"background-color:transparent;border-color:#292724;border-style:none;border-width:1.0;fill:rgb(16.1%,15.3%,14.1%);fill-opacity:1.0;font-family:Helvetica;font-size:12px;opacity:1.0;stroke:rgb(16.1%,15.3%,14.1%);stroke-opacity:1.0;stroke-width:1.0\" id=\"t48ccc7152aa04179855f984a15d9b40b\"><g class=\"toyplot-coordinates-Cartesian\" id=\"tfd0b543acd714c4984ac39c9f2f7670b\"><clipPath id=\"t2c905cbdaf1940c78680e0046ccc774e\"><rect x=\"30.0\" y=\"30.0\" width=\"195.0\" height=\"215.0\"></rect></clipPath><g clip-path=\"url(#t2c905cbdaf1940c78680e0046ccc774e)\"><g class=\"toytree-mark-Toytree\" id=\"t963e04e540be4ea6b8261b59a9413e63\"><g class=\"toytree-Edges\" style=\"fill:none;stroke:rgb(14.9%,14.9%,14.9%);stroke-linecap:round;stroke-opacity:1;stroke-width:2\"><path d=\"M 65.9 137.5 L 65.9 66.3 L 189.1 66.3\" id=\"2,1\"></path><path d=\"M 65.9 137.5 L 65.9 208.7 L 189.1 208.7\" id=\"2,0\"></path></g><g class=\"toytree-Nodes\" style=\"fill:rgb(40%,76.1%,64.7%);fill-opacity:1.0;stroke:None;stroke-width:1\"><g id=\"node-0\" transform=\"translate(189.103,208.721)\"><circle r=\"10.0\"></circle></g><g id=\"node-1\" transform=\"translate(189.103,66.279)\"><circle r=\"10.0\"></circle></g><g id=\"node-2\" transform=\"translate(65.897,137.500)\"><circle r=\"10.0\"></circle></g></g><g class=\"toytree-NodeLabels\" style=\"fill:rgb(14.9%,14.9%,14.9%);fill-opacity:1.0;font-size:9px;stroke:none\"><g transform=\"translate(186.10,211.02)\"><text>Y</text></g><g transform=\"translate(186.10,68.58)\"><text>X</text></g><g transform=\"translate(63.40,139.80)\"><text>2</text></g></g><g class=\"toytree-TipLabels\" style=\"fill:rgb(14.9%,14.9%,14.9%);fill-opacity:1.0;font-family:helvetica;font-size:11px;font-weight:normal;stroke:none;white-space:pre\"><g transform=\"translate(189.10,208.72)rotate(0)\"><text x=\"15.00\" y=\"2.81\" style=\"\">C</text></g><g transform=\"translate(189.10,66.28)rotate(0)\"><text x=\"15.00\" y=\"2.81\" style=\"\">C</text></g></g></g></g></g></svg><div class=\"toyplot-behavior\"><script>(function()\n",
       "{\n",
       "var modules={};\n",
       "})();</script></div></div>"
      ]
     },
     "metadata": {},
     "output_type": "display_data"
    }
   ],
   "source": [
    "# pair_match_score (6 points)\n",
    "tree, leaf_states = pair_tree, pair_match_states\n",
    "draw_tree_with_internal_labels(tree, leaf_states)\n",
    "cost, states = weighted_parsimony(tree, leaf_states, purine_pyrimidine_cost_matrix)\n",
    "assert cost == 0\n",
    "print(\"SUCCESS: pair_match_score test case passed!\")"
   ]
  },
  {
   "cell_type": "code",
   "execution_count": 10,
   "metadata": {
    "nbgrader": {
     "grade": true,
     "grade_id": "pair_mismatch_score",
     "locked": true,
     "points": 6,
     "schema_version": 3,
     "solution": false,
     "task": false
    }
   },
   "outputs": [
    {
     "name": "stdout",
     "output_type": "stream",
     "text": [
      "SUCCESS: pair_mismatch_score test case passed!\n"
     ]
    },
    {
     "data": {
      "text/html": [
       "<div class=\"toyplot\" id=\"ta3bb3c6988c7444bb8bbe8ece10b2a49\" style=\"text-align:center\"><svg class=\"toyplot-canvas-Canvas\" xmlns:toyplot=\"http://www.sandia.gov/toyplot\" xmlns:xlink=\"http://www.w3.org/1999/xlink\" xmlns=\"http://www.w3.org/2000/svg\" width=\"255.0px\" height=\"275.0px\" viewBox=\"0 0 255.0 275.0\" preserveAspectRatio=\"xMidYMid meet\" style=\"background-color:transparent;border-color:#292724;border-style:none;border-width:1.0;fill:rgb(16.1%,15.3%,14.1%);fill-opacity:1.0;font-family:Helvetica;font-size:12px;opacity:1.0;stroke:rgb(16.1%,15.3%,14.1%);stroke-opacity:1.0;stroke-width:1.0\" id=\"tcb2e21a6230e40f68f3bdb56644fbf52\"><g class=\"toyplot-coordinates-Cartesian\" id=\"tdd49373bc3bd4f378cc7d0afb867e54f\"><clipPath id=\"t02c280d795d44a6db10a498aa8197b64\"><rect x=\"30.0\" y=\"30.0\" width=\"195.0\" height=\"215.0\"></rect></clipPath><g clip-path=\"url(#t02c280d795d44a6db10a498aa8197b64)\"><g class=\"toytree-mark-Toytree\" id=\"t7138dced09134854ba49d44c7fb1048f\"><g class=\"toytree-Edges\" style=\"fill:none;stroke:rgb(14.9%,14.9%,14.9%);stroke-linecap:round;stroke-opacity:1;stroke-width:2\"><path d=\"M 65.9 137.5 L 65.9 66.3 L 189.1 66.3\" id=\"2,1\"></path><path d=\"M 65.9 137.5 L 65.9 208.7 L 189.1 208.7\" id=\"2,0\"></path></g><g class=\"toytree-Nodes\" style=\"fill:rgb(40%,76.1%,64.7%);fill-opacity:1.0;stroke:None;stroke-width:1\"><g id=\"node-0\" transform=\"translate(189.103,208.721)\"><circle r=\"10.0\"></circle></g><g id=\"node-1\" transform=\"translate(189.103,66.279)\"><circle r=\"10.0\"></circle></g><g id=\"node-2\" transform=\"translate(65.897,137.500)\"><circle r=\"10.0\"></circle></g></g><g class=\"toytree-NodeLabels\" style=\"fill:rgb(14.9%,14.9%,14.9%);fill-opacity:1.0;font-size:9px;stroke:none\"><g transform=\"translate(186.10,211.02)\"><text>Y</text></g><g transform=\"translate(186.10,68.58)\"><text>X</text></g><g transform=\"translate(63.40,139.80)\"><text>2</text></g></g><g class=\"toytree-TipLabels\" style=\"fill:rgb(14.9%,14.9%,14.9%);fill-opacity:1.0;font-family:helvetica;font-size:11px;font-weight:normal;stroke:none;white-space:pre\"><g transform=\"translate(189.10,208.72)rotate(0)\"><text x=\"15.00\" y=\"2.81\" style=\"\">T</text></g><g transform=\"translate(189.10,66.28)rotate(0)\"><text x=\"15.00\" y=\"2.81\" style=\"\">A</text></g></g></g></g></g></svg><div class=\"toyplot-behavior\"><script>(function()\n",
       "{\n",
       "var modules={};\n",
       "})();</script></div></div>"
      ]
     },
     "metadata": {},
     "output_type": "display_data"
    }
   ],
   "source": [
    "# pair_mismatch_score (6 points)\n",
    "tree, leaf_states = pair_tree, pair_mismatch_states\n",
    "draw_tree_with_internal_labels(tree, leaf_states)\n",
    "cost, states = weighted_parsimony(tree, leaf_states, purine_pyrimidine_cost_matrix)\n",
    "assert cost == 2\n",
    "print(\"SUCCESS: pair_mismatch_score test case passed!\")"
   ]
  },
  {
   "cell_type": "code",
   "execution_count": 11,
   "metadata": {
    "nbgrader": {
     "grade": true,
     "grade_id": "triple_score",
     "locked": true,
     "points": 4,
     "schema_version": 3,
     "solution": false,
     "task": false
    }
   },
   "outputs": [
    {
     "name": "stdout",
     "output_type": "stream",
     "text": [
      "SUCCESS: triple_score test case passed!\n"
     ]
    },
    {
     "data": {
      "text/html": [
       "<div class=\"toyplot\" id=\"t53da312a17d9490e9cd3245f930adb74\" style=\"text-align:center\"><svg class=\"toyplot-canvas-Canvas\" xmlns:toyplot=\"http://www.sandia.gov/toyplot\" xmlns:xlink=\"http://www.w3.org/1999/xlink\" xmlns=\"http://www.w3.org/2000/svg\" width=\"255.0px\" height=\"275.0px\" viewBox=\"0 0 255.0 275.0\" preserveAspectRatio=\"xMidYMid meet\" style=\"background-color:transparent;border-color:#292724;border-style:none;border-width:1.0;fill:rgb(16.1%,15.3%,14.1%);fill-opacity:1.0;font-family:Helvetica;font-size:12px;opacity:1.0;stroke:rgb(16.1%,15.3%,14.1%);stroke-opacity:1.0;stroke-width:1.0\" id=\"t2ee31ab261ea45fc8355348fe895630e\"><g class=\"toyplot-coordinates-Cartesian\" id=\"t608f14247df34ef7a29f7c3cbdfe8cd5\"><clipPath id=\"te37a1d7f763243d8b42382de04b058ea\"><rect x=\"30.0\" y=\"30.0\" width=\"195.0\" height=\"215.0\"></rect></clipPath><g clip-path=\"url(#te37a1d7f763243d8b42382de04b058ea)\"><g class=\"toytree-mark-Toytree\" id=\"t411aba3d212a402799ca74cb8fab6ee6\"><g class=\"toytree-Edges\" style=\"fill:none;stroke:rgb(14.9%,14.9%,14.9%);stroke-linecap:round;stroke-opacity:1;stroke-width:2\"><path d=\"M 65.9 119.7 L 65.9 173.1 L 127.5 173.1\" id=\"4,3\"></path><path d=\"M 65.9 119.7 L 65.9 66.3 L 189.1 66.3\" id=\"4,2\"></path><path d=\"M 127.5 173.1 L 127.5 137.5 L 189.1 137.5\" id=\"3,1\"></path><path d=\"M 127.5 173.1 L 127.5 208.7 L 189.1 208.7\" id=\"3,0\"></path></g><g class=\"toytree-Nodes\" style=\"fill:rgb(40%,76.1%,64.7%);fill-opacity:1.0;stroke:None;stroke-width:1\"><g id=\"node-0\" transform=\"translate(189.103,208.721)\"><circle r=\"10.0\"></circle></g><g id=\"node-1\" transform=\"translate(189.103,137.500)\"><circle r=\"10.0\"></circle></g><g id=\"node-2\" transform=\"translate(189.103,66.279)\"><circle r=\"10.0\"></circle></g><g id=\"node-3\" transform=\"translate(127.500,173.110)\"><circle r=\"10.0\"></circle></g><g id=\"node-4\" transform=\"translate(65.897,119.695)\"><circle r=\"10.0\"></circle></g></g><g class=\"toytree-NodeLabels\" style=\"fill:rgb(14.9%,14.9%,14.9%);fill-opacity:1.0;font-size:9px;stroke:none\"><g transform=\"translate(186.10,211.02)\"><text>Y</text></g><g transform=\"translate(186.10,139.80)\"><text>X</text></g><g transform=\"translate(186.35,68.58)\"><text>Z</text></g><g transform=\"translate(125.00,175.41)\"><text>3</text></g><g transform=\"translate(63.40,121.99)\"><text>4</text></g></g><g class=\"toytree-TipLabels\" style=\"fill:rgb(14.9%,14.9%,14.9%);fill-opacity:1.0;font-family:helvetica;font-size:11px;font-weight:normal;stroke:none;white-space:pre\"><g transform=\"translate(189.10,208.72)rotate(0)\"><text x=\"15.00\" y=\"2.81\" style=\"\">T</text></g><g transform=\"translate(189.10,137.50)rotate(0)\"><text x=\"15.00\" y=\"2.81\" style=\"\">A</text></g><g transform=\"translate(189.10,66.28)rotate(0)\"><text x=\"15.00\" y=\"2.81\" style=\"\">C</text></g></g></g></g></g></svg><div class=\"toyplot-behavior\"><script>(function()\n",
       "{\n",
       "var modules={};\n",
       "})();</script></div></div>"
      ]
     },
     "metadata": {},
     "output_type": "display_data"
    }
   ],
   "source": [
    "# triple_score (4 points)\n",
    "tree, leaf_states = triple_tree, triple_states\n",
    "draw_tree_with_internal_labels(tree, leaf_states)\n",
    "cost, states = weighted_parsimony(tree, leaf_states, purine_pyrimidine_cost_matrix)\n",
    "assert cost == 3\n",
    "print(\"SUCCESS: triple_score test case passed!\")"
   ]
  },
  {
   "cell_type": "code",
   "execution_count": 12,
   "metadata": {
    "nbgrader": {
     "grade": true,
     "grade_id": "quartet_score",
     "locked": true,
     "points": 2,
     "schema_version": 3,
     "solution": false,
     "task": false
    }
   },
   "outputs": [
    {
     "name": "stdout",
     "output_type": "stream",
     "text": [
      "SUCCESS: quartet_score test case passed!\n"
     ]
    },
    {
     "data": {
      "text/html": [
       "<div class=\"toyplot\" id=\"t038c6396d7db4cb59fcb43d2a6d434e8\" style=\"text-align:center\"><svg class=\"toyplot-canvas-Canvas\" xmlns:toyplot=\"http://www.sandia.gov/toyplot\" xmlns:xlink=\"http://www.w3.org/1999/xlink\" xmlns=\"http://www.w3.org/2000/svg\" width=\"255.0px\" height=\"275.0px\" viewBox=\"0 0 255.0 275.0\" preserveAspectRatio=\"xMidYMid meet\" style=\"background-color:transparent;border-color:#292724;border-style:none;border-width:1.0;fill:rgb(16.1%,15.3%,14.1%);fill-opacity:1.0;font-family:Helvetica;font-size:12px;opacity:1.0;stroke:rgb(16.1%,15.3%,14.1%);stroke-opacity:1.0;stroke-width:1.0\" id=\"ta1a03e47ff914a09ba166ac9bc50a174\"><g class=\"toyplot-coordinates-Cartesian\" id=\"t3b196897dca546239b9b60d653454d0e\"><clipPath id=\"ta6d0a117c92f4d1cb5478fd9744fbadc\"><rect x=\"30.0\" y=\"30.0\" width=\"195.0\" height=\"215.0\"></rect></clipPath><g clip-path=\"url(#ta6d0a117c92f4d1cb5478fd9744fbadc)\"><g class=\"toytree-mark-Toytree\" id=\"t401cc57f073244e0b7061540d6f9f902\"><g class=\"toytree-Edges\" style=\"fill:none;stroke:rgb(14.9%,14.9%,14.9%);stroke-linecap:round;stroke-opacity:1;stroke-width:2\"><path d=\"M 65.9 107.8 L 65.9 149.4 L 107.0 149.4\" id=\"6,5\"></path><path d=\"M 107.0 149.4 L 107.0 185.0 L 148.0 185.0\" id=\"5,4\"></path><path d=\"M 65.9 107.8 L 65.9 66.3 L 189.1 66.3\" id=\"6,3\"></path><path d=\"M 107.0 149.4 L 107.0 113.8 L 189.1 113.8\" id=\"5,2\"></path><path d=\"M 148.0 185.0 L 148.0 161.2 L 189.1 161.2\" id=\"4,1\"></path><path d=\"M 148.0 185.0 L 148.0 208.7 L 189.1 208.7\" id=\"4,0\"></path></g><g class=\"toytree-Nodes\" style=\"fill:rgb(40%,76.1%,64.7%);fill-opacity:1.0;stroke:None;stroke-width:1\"><g id=\"node-0\" transform=\"translate(189.103,208.721)\"><circle r=\"10.0\"></circle></g><g id=\"node-1\" transform=\"translate(189.103,161.240)\"><circle r=\"10.0\"></circle></g><g id=\"node-2\" transform=\"translate(189.103,113.760)\"><circle r=\"10.0\"></circle></g><g id=\"node-3\" transform=\"translate(189.103,66.279)\"><circle r=\"10.0\"></circle></g><g id=\"node-4\" transform=\"translate(148.034,184.981)\"><circle r=\"10.0\"></circle></g><g id=\"node-5\" transform=\"translate(106.966,149.370)\"><circle r=\"10.0\"></circle></g><g id=\"node-6\" transform=\"translate(65.897,107.825)\"><circle r=\"10.0\"></circle></g></g><g class=\"toytree-NodeLabels\" style=\"fill:rgb(14.9%,14.9%,14.9%);fill-opacity:1.0;font-size:9px;stroke:none\"><g transform=\"translate(186.10,211.02)\"><text>Y</text></g><g transform=\"translate(186.10,163.54)\"><text>X</text></g><g transform=\"translate(186.35,116.06)\"><text>Z</text></g><g transform=\"translate(184.85,68.58)\"><text>W</text></g><g transform=\"translate(145.53,187.28)\"><text>4</text></g><g transform=\"translate(104.46,151.67)\"><text>5</text></g><g transform=\"translate(63.40,110.12)\"><text>6</text></g></g><g class=\"toytree-TipLabels\" style=\"fill:rgb(14.9%,14.9%,14.9%);fill-opacity:1.0;font-family:helvetica;font-size:11px;font-weight:normal;stroke:none;white-space:pre\"><g transform=\"translate(189.10,208.72)rotate(0)\"><text x=\"15.00\" y=\"2.81\" style=\"\">T</text></g><g transform=\"translate(189.10,161.24)rotate(0)\"><text x=\"15.00\" y=\"2.81\" style=\"\">A</text></g><g transform=\"translate(189.10,113.76)rotate(0)\"><text x=\"15.00\" y=\"2.81\" style=\"\">C</text></g><g transform=\"translate(189.10,66.28)rotate(0)\"><text x=\"15.00\" y=\"2.81\" style=\"\">A</text></g></g></g></g></g></svg><div class=\"toyplot-behavior\"><script>(function()\n",
       "{\n",
       "var modules={};\n",
       "})();</script></div></div>"
      ]
     },
     "metadata": {},
     "output_type": "display_data"
    }
   ],
   "source": [
    "# quartet_score (2 points)\n",
    "tree, leaf_states = quartet_tree, quartet_states\n",
    "draw_tree_with_internal_labels(tree, leaf_states)\n",
    "cost, states = weighted_parsimony(tree, leaf_states, purine_pyrimidine_cost_matrix)\n",
    "assert cost == 4\n",
    "print(\"SUCCESS: quartet_score test case passed!\")"
   ]
  },
  {
   "cell_type": "code",
   "execution_count": 13,
   "metadata": {
    "nbgrader": {
     "grade": true,
     "grade_id": "quartet2_score",
     "locked": true,
     "points": 2,
     "schema_version": 3,
     "solution": false,
     "task": false
    }
   },
   "outputs": [
    {
     "name": "stdout",
     "output_type": "stream",
     "text": [
      "SUCCESS: quartet2_score test case passed!\n"
     ]
    },
    {
     "data": {
      "text/html": [
       "<div class=\"toyplot\" id=\"tb9ee1459ac8e47a0932a4c105bbb1ce1\" style=\"text-align:center\"><svg class=\"toyplot-canvas-Canvas\" xmlns:toyplot=\"http://www.sandia.gov/toyplot\" xmlns:xlink=\"http://www.w3.org/1999/xlink\" xmlns=\"http://www.w3.org/2000/svg\" width=\"255.0px\" height=\"275.0px\" viewBox=\"0 0 255.0 275.0\" preserveAspectRatio=\"xMidYMid meet\" style=\"background-color:transparent;border-color:#292724;border-style:none;border-width:1.0;fill:rgb(16.1%,15.3%,14.1%);fill-opacity:1.0;font-family:Helvetica;font-size:12px;opacity:1.0;stroke:rgb(16.1%,15.3%,14.1%);stroke-opacity:1.0;stroke-width:1.0\" id=\"tb3c90d7d70c940149c0673e6c52540a8\"><g class=\"toyplot-coordinates-Cartesian\" id=\"te24ceb639da1471e91ed6ca683d8ba23\"><clipPath id=\"t8a377bae4d364cec80045165247d6f83\"><rect x=\"30.0\" y=\"30.0\" width=\"195.0\" height=\"215.0\"></rect></clipPath><g clip-path=\"url(#t8a377bae4d364cec80045165247d6f83)\"><g class=\"toytree-mark-Toytree\" id=\"t39cff3d623ea4cba8963483ead4bbcd0\"><g class=\"toytree-Edges\" style=\"fill:none;stroke:rgb(14.9%,14.9%,14.9%);stroke-linecap:round;stroke-opacity:1;stroke-width:2\"><path d=\"M 65.9 137.5 L 65.9 90.0 L 127.5 90.0\" id=\"6,5\"></path><path d=\"M 65.9 137.5 L 65.9 185.0 L 127.5 185.0\" id=\"6,4\"></path><path d=\"M 127.5 90.0 L 127.5 66.3 L 189.1 66.3\" id=\"5,3\"></path><path d=\"M 127.5 90.0 L 127.5 113.8 L 189.1 113.8\" id=\"5,2\"></path><path d=\"M 127.5 185.0 L 127.5 161.2 L 189.1 161.2\" id=\"4,1\"></path><path d=\"M 127.5 185.0 L 127.5 208.7 L 189.1 208.7\" id=\"4,0\"></path></g><g class=\"toytree-Nodes\" style=\"fill:rgb(40%,76.1%,64.7%);fill-opacity:1.0;stroke:None;stroke-width:1\"><g id=\"node-0\" transform=\"translate(189.103,208.721)\"><circle r=\"10.0\"></circle></g><g id=\"node-1\" transform=\"translate(189.103,161.240)\"><circle r=\"10.0\"></circle></g><g id=\"node-2\" transform=\"translate(189.103,113.760)\"><circle r=\"10.0\"></circle></g><g id=\"node-3\" transform=\"translate(189.103,66.279)\"><circle r=\"10.0\"></circle></g><g id=\"node-4\" transform=\"translate(127.500,184.981)\"><circle r=\"10.0\"></circle></g><g id=\"node-5\" transform=\"translate(127.500,90.019)\"><circle r=\"10.0\"></circle></g><g id=\"node-6\" transform=\"translate(65.897,137.500)\"><circle r=\"10.0\"></circle></g></g><g class=\"toytree-NodeLabels\" style=\"fill:rgb(14.9%,14.9%,14.9%);fill-opacity:1.0;font-size:9px;stroke:none\"><g transform=\"translate(186.10,211.02)\"><text>Y</text></g><g transform=\"translate(186.10,163.54)\"><text>X</text></g><g transform=\"translate(186.35,116.06)\"><text>Z</text></g><g transform=\"translate(184.85,68.58)\"><text>W</text></g><g transform=\"translate(125.00,187.28)\"><text>4</text></g><g transform=\"translate(125.00,92.32)\"><text>5</text></g><g transform=\"translate(63.40,139.80)\"><text>6</text></g></g><g class=\"toytree-TipLabels\" style=\"fill:rgb(14.9%,14.9%,14.9%);fill-opacity:1.0;font-family:helvetica;font-size:11px;font-weight:normal;stroke:none;white-space:pre\"><g transform=\"translate(189.10,208.72)rotate(0)\"><text x=\"15.00\" y=\"2.81\" style=\"\">T</text></g><g transform=\"translate(189.10,161.24)rotate(0)\"><text x=\"15.00\" y=\"2.81\" style=\"\">A</text></g><g transform=\"translate(189.10,113.76)rotate(0)\"><text x=\"15.00\" y=\"2.81\" style=\"\">C</text></g><g transform=\"translate(189.10,66.28)rotate(0)\"><text x=\"15.00\" y=\"2.81\" style=\"\">A</text></g></g></g></g></g></svg><div class=\"toyplot-behavior\"><script>(function()\n",
       "{\n",
       "var modules={};\n",
       "})();</script></div></div>"
      ]
     },
     "metadata": {},
     "output_type": "display_data"
    }
   ],
   "source": [
    "# quartet2_score (2 points)\n",
    "tree, leaf_states = quartet2_tree, quartet_states\n",
    "draw_tree_with_internal_labels(tree, leaf_states)\n",
    "cost, states = weighted_parsimony(tree, leaf_states, purine_pyrimidine_cost_matrix)\n",
    "assert cost == 4\n",
    "print(\"SUCCESS: quartet2_score test case passed!\")"
   ]
  },
  {
   "cell_type": "code",
   "execution_count": 14,
   "metadata": {
    "nbgrader": {
     "grade": true,
     "grade_id": "quintet_score",
     "locked": true,
     "points": 1,
     "schema_version": 3,
     "solution": false,
     "task": false
    }
   },
   "outputs": [
    {
     "name": "stdout",
     "output_type": "stream",
     "text": [
      "SUCCESS: quintet_score test case passed!\n"
     ]
    },
    {
     "data": {
      "text/html": [
       "<div class=\"toyplot\" id=\"t61352d027bbc41dd92534480d13a4fcc\" style=\"text-align:center\"><svg class=\"toyplot-canvas-Canvas\" xmlns:toyplot=\"http://www.sandia.gov/toyplot\" xmlns:xlink=\"http://www.w3.org/1999/xlink\" xmlns=\"http://www.w3.org/2000/svg\" width=\"255.0px\" height=\"275.0px\" viewBox=\"0 0 255.0 275.0\" preserveAspectRatio=\"xMidYMid meet\" style=\"background-color:transparent;border-color:#292724;border-style:none;border-width:1.0;fill:rgb(16.1%,15.3%,14.1%);fill-opacity:1.0;font-family:Helvetica;font-size:12px;opacity:1.0;stroke:rgb(16.1%,15.3%,14.1%);stroke-opacity:1.0;stroke-width:1.0\" id=\"tb69038c6a72b4cfb97d47101ce90dac6\"><g class=\"toyplot-coordinates-Cartesian\" id=\"t0866926d62fd4039a8e87d888beeddb4\"><clipPath id=\"t8189d356308d43469b29a356b1f15d82\"><rect x=\"30.0\" y=\"30.0\" width=\"195.0\" height=\"215.0\"></rect></clipPath><g clip-path=\"url(#t8189d356308d43469b29a356b1f15d82)\"><g class=\"toytree-mark-Toytree\" id=\"t337023790dda4769ba36ec2f6a391c18\"><g class=\"toytree-Edges\" style=\"fill:none;stroke:rgb(14.9%,14.9%,14.9%);stroke-linecap:round;stroke-opacity:1;stroke-width:2\"><path d=\"M 65.9 124.1 L 65.9 84.1 L 148.0 84.1\" id=\"8,7\"></path><path d=\"M 65.9 124.1 L 65.9 164.2 L 107.0 164.2\" id=\"8,6\"></path><path d=\"M 107.0 164.2 L 107.0 190.9 L 148.0 190.9\" id=\"6,5\"></path><path d=\"M 148.0 84.1 L 148.0 66.3 L 189.1 66.3\" id=\"7,4\"></path><path d=\"M 148.0 84.1 L 148.0 101.9 L 189.1 101.9\" id=\"7,3\"></path><path d=\"M 107.0 164.2 L 107.0 137.5 L 189.1 137.5\" id=\"6,2\"></path><path d=\"M 148.0 190.9 L 148.0 173.1 L 189.1 173.1\" id=\"5,1\"></path><path d=\"M 148.0 190.9 L 148.0 208.7 L 189.1 208.7\" id=\"5,0\"></path></g><g class=\"toytree-Nodes\" style=\"fill:rgb(40%,76.1%,64.7%);fill-opacity:1.0;stroke:None;stroke-width:1\"><g id=\"node-0\" transform=\"translate(189.103,208.721)\"><circle r=\"10.0\"></circle></g><g id=\"node-1\" transform=\"translate(189.103,173.110)\"><circle r=\"10.0\"></circle></g><g id=\"node-2\" transform=\"translate(189.103,137.500)\"><circle r=\"10.0\"></circle></g><g id=\"node-3\" transform=\"translate(189.103,101.890)\"><circle r=\"10.0\"></circle></g><g id=\"node-4\" transform=\"translate(189.103,66.279)\"><circle r=\"10.0\"></circle></g><g id=\"node-5\" transform=\"translate(148.034,190.916)\"><circle r=\"10.0\"></circle></g><g id=\"node-6\" transform=\"translate(106.966,164.208)\"><circle r=\"10.0\"></circle></g><g id=\"node-7\" transform=\"translate(148.034,84.084)\"><circle r=\"10.0\"></circle></g><g id=\"node-8\" transform=\"translate(65.897,124.146)\"><circle r=\"10.0\"></circle></g></g><g class=\"toytree-NodeLabels\" style=\"fill:rgb(14.9%,14.9%,14.9%);fill-opacity:1.0;font-size:9px;stroke:none\"><g transform=\"translate(186.10,211.02)\"><text>Y</text></g><g transform=\"translate(186.10,175.41)\"><text>X</text></g><g transform=\"translate(186.35,139.80)\"><text>Z</text></g><g transform=\"translate(184.85,104.19)\"><text>W</text></g><g transform=\"translate(186.10,68.58)\"><text>V</text></g><g transform=\"translate(145.53,193.22)\"><text>5</text></g><g transform=\"translate(104.46,166.51)\"><text>6</text></g><g transform=\"translate(145.53,86.38)\"><text>7</text></g><g transform=\"translate(63.40,126.45)\"><text>8</text></g></g><g class=\"toytree-TipLabels\" style=\"fill:rgb(14.9%,14.9%,14.9%);fill-opacity:1.0;font-family:helvetica;font-size:11px;font-weight:normal;stroke:none;white-space:pre\"><g transform=\"translate(189.10,208.72)rotate(0)\"><text x=\"15.00\" y=\"2.81\" style=\"\">T</text></g><g transform=\"translate(189.10,173.11)rotate(0)\"><text x=\"15.00\" y=\"2.81\" style=\"\">A</text></g><g transform=\"translate(189.10,137.50)rotate(0)\"><text x=\"15.00\" y=\"2.81\" style=\"\">C</text></g><g transform=\"translate(189.10,101.89)rotate(0)\"><text x=\"15.00\" y=\"2.81\" style=\"\">C</text></g><g transform=\"translate(189.10,66.28)rotate(0)\"><text x=\"15.00\" y=\"2.81\" style=\"\">C</text></g></g></g></g></g></svg><div class=\"toyplot-behavior\"><script>(function()\n",
       "{\n",
       "var modules={};\n",
       "})();</script></div></div>"
      ]
     },
     "metadata": {},
     "output_type": "display_data"
    }
   ],
   "source": [
    "# quintet_score (1 points)\n",
    "tree, leaf_states = quintet_tree, quintet_states\n",
    "draw_tree_with_internal_labels(tree, leaf_states)\n",
    "cost, states = weighted_parsimony(tree, leaf_states, purine_pyrimidine_cost_matrix)\n",
    "assert cost == 3\n",
    "print(\"SUCCESS: quintet_score test case passed!\")"
   ]
  },
  {
   "cell_type": "code",
   "execution_count": 15,
   "metadata": {
    "nbgrader": {
     "grade": true,
     "grade_id": "large_score",
     "locked": true,
     "points": 1,
     "schema_version": 3,
     "solution": false,
     "task": false
    }
   },
   "outputs": [
    {
     "name": "stdout",
     "output_type": "stream",
     "text": [
      "SUCCESS: large_score test case passed!\n"
     ]
    },
    {
     "data": {
      "text/html": [
       "<div class=\"toyplot\" id=\"t08404e4f9a0b418a914547e18eb78809\" style=\"text-align:center\"><svg class=\"toyplot-canvas-Canvas\" xmlns:toyplot=\"http://www.sandia.gov/toyplot\" xmlns:xlink=\"http://www.w3.org/1999/xlink\" xmlns=\"http://www.w3.org/2000/svg\" width=\"255.0px\" height=\"275.0px\" viewBox=\"0 0 255.0 275.0\" preserveAspectRatio=\"xMidYMid meet\" style=\"background-color:transparent;border-color:#292724;border-style:none;border-width:1.0;fill:rgb(16.1%,15.3%,14.1%);fill-opacity:1.0;font-family:Helvetica;font-size:12px;opacity:1.0;stroke:rgb(16.1%,15.3%,14.1%);stroke-opacity:1.0;stroke-width:1.0\" id=\"t1fa49e3a3d024d0d9b1808868b584ffb\"><g class=\"toyplot-coordinates-Cartesian\" id=\"t3577f04fc32640e7976eb7290793d348\"><clipPath id=\"t8569e378b76d4f0a90efd64b32ec6690\"><rect x=\"30.0\" y=\"30.0\" width=\"195.0\" height=\"215.0\"></rect></clipPath><g clip-path=\"url(#t8569e378b76d4f0a90efd64b32ec6690)\"><g class=\"toytree-mark-Toytree\" id=\"t2c1e3d0366704d51b82c98fc4a79b85e\"><g class=\"toytree-Edges\" style=\"fill:none;stroke:rgb(14.9%,14.9%,14.9%);stroke-linecap:round;stroke-opacity:1;stroke-width:2\"><path d=\"M 65.9 131.1 L 65.9 84.1 L 96.7 84.1\" id=\"14,13\"></path><path d=\"M 65.9 131.1 L 65.9 178.2 L 127.5 178.2\" id=\"14,12\"></path><path d=\"M 96.7 84.1 L 96.7 101.9 L 127.5 101.9\" id=\"13,11\"></path><path d=\"M 127.5 178.2 L 127.5 157.8 L 158.3 157.8\" id=\"12,10\"></path><path d=\"M 127.5 178.2 L 127.5 198.5 L 158.3 198.5\" id=\"12,9\"></path><path d=\"M 127.5 101.9 L 127.5 117.2 L 158.3 117.2\" id=\"11,8\"></path><path d=\"M 96.7 84.1 L 96.7 66.3 L 189.1 66.3\" id=\"13,7\"></path><path d=\"M 127.5 101.9 L 127.5 86.6 L 189.1 86.6\" id=\"11,6\"></path><path d=\"M 158.3 117.2 L 158.3 107.0 L 189.1 107.0\" id=\"8,5\"></path><path d=\"M 158.3 117.2 L 158.3 127.3 L 189.1 127.3\" id=\"8,4\"></path><path d=\"M 158.3 157.8 L 158.3 147.7 L 189.1 147.7\" id=\"10,3\"></path><path d=\"M 158.3 157.8 L 158.3 168.0 L 189.1 168.0\" id=\"10,2\"></path><path d=\"M 158.3 198.5 L 158.3 188.4 L 189.1 188.4\" id=\"9,1\"></path><path d=\"M 158.3 198.5 L 158.3 208.7 L 189.1 208.7\" id=\"9,0\"></path></g><g class=\"toytree-Nodes\" style=\"fill:rgb(40%,76.1%,64.7%);fill-opacity:1.0;stroke:None;stroke-width:1\"><g id=\"node-0\" transform=\"translate(189.103,208.721)\"><circle r=\"10.0\"></circle></g><g id=\"node-1\" transform=\"translate(189.103,188.372)\"><circle r=\"10.0\"></circle></g><g id=\"node-2\" transform=\"translate(189.103,168.023)\"><circle r=\"10.0\"></circle></g><g id=\"node-3\" transform=\"translate(189.103,147.674)\"><circle r=\"10.0\"></circle></g><g id=\"node-4\" transform=\"translate(189.103,127.326)\"><circle r=\"10.0\"></circle></g><g id=\"node-5\" transform=\"translate(189.103,106.977)\"><circle r=\"10.0\"></circle></g><g id=\"node-6\" transform=\"translate(189.103,86.628)\"><circle r=\"10.0\"></circle></g><g id=\"node-7\" transform=\"translate(189.103,66.279)\"><circle r=\"10.0\"></circle></g><g id=\"node-8\" transform=\"translate(158.301,117.151)\"><circle r=\"10.0\"></circle></g><g id=\"node-9\" transform=\"translate(158.301,198.547)\"><circle r=\"10.0\"></circle></g><g id=\"node-10\" transform=\"translate(158.301,157.849)\"><circle r=\"10.0\"></circle></g><g id=\"node-11\" transform=\"translate(127.500,101.890)\"><circle r=\"10.0\"></circle></g><g id=\"node-12\" transform=\"translate(127.500,178.198)\"><circle r=\"10.0\"></circle></g><g id=\"node-13\" transform=\"translate(96.699,84.084)\"><circle r=\"10.0\"></circle></g><g id=\"node-14\" transform=\"translate(65.897,131.141)\"><circle r=\"10.0\"></circle></g></g><g class=\"toytree-NodeLabels\" style=\"fill:rgb(14.9%,14.9%,14.9%);fill-opacity:1.0;font-size:9px;stroke:none\"><g transform=\"translate(185.85,211.02)\"><text>D</text></g><g transform=\"translate(185.85,190.67)\"><text>C</text></g><g transform=\"translate(186.10,170.32)\"><text>B</text></g><g transform=\"translate(186.10,149.97)\"><text>A</text></g><g transform=\"translate(185.85,129.63)\"><text>H</text></g><g transform=\"translate(185.60,109.28)\"><text>G</text></g><g transform=\"translate(186.35,88.93)\"><text>F</text></g><g transform=\"translate(186.10,68.58)\"><text>E</text></g><g transform=\"translate(155.80,119.45)\"><text>8</text></g><g transform=\"translate(155.80,200.85)\"><text>9</text></g><g transform=\"translate(153.30,160.15)\"><text>10</text></g><g transform=\"translate(122.50,104.19)\"><text>11</text></g><g transform=\"translate(122.50,180.50)\"><text>12</text></g><g transform=\"translate(91.69,86.38)\"><text>13</text></g><g transform=\"translate(60.89,133.44)\"><text>14</text></g></g><g class=\"toytree-TipLabels\" style=\"fill:rgb(14.9%,14.9%,14.9%);fill-opacity:1.0;font-family:helvetica;font-size:11px;font-weight:normal;stroke:none;white-space:pre\"><g transform=\"translate(189.10,208.72)rotate(0)\"><text x=\"15.00\" y=\"2.81\" style=\"\">A</text></g><g transform=\"translate(189.10,188.37)rotate(0)\"><text x=\"15.00\" y=\"2.81\" style=\"\">T</text></g><g transform=\"translate(189.10,168.02)rotate(0)\"><text x=\"15.00\" y=\"2.81\" style=\"\">C</text></g><g transform=\"translate(189.10,147.67)rotate(0)\"><text x=\"15.00\" y=\"2.81\" style=\"\">G</text></g><g transform=\"translate(189.10,127.33)rotate(0)\"><text x=\"15.00\" y=\"2.81\" style=\"\">C</text></g><g transform=\"translate(189.10,106.98)rotate(0)\"><text x=\"15.00\" y=\"2.81\" style=\"\">C</text></g><g transform=\"translate(189.10,86.63)rotate(0)\"><text x=\"15.00\" y=\"2.81\" style=\"\">C</text></g><g transform=\"translate(189.10,66.28)rotate(0)\"><text x=\"15.00\" y=\"2.81\" style=\"\">G</text></g></g></g></g></g></svg><div class=\"toyplot-behavior\"><script>(function()\n",
       "{\n",
       "var modules={};\n",
       "})();</script></div></div>"
      ]
     },
     "metadata": {},
     "output_type": "display_data"
    }
   ],
   "source": [
    "# large_score (1 point)\n",
    "tree, leaf_states = large_tree, large_states\n",
    "draw_tree_with_internal_labels(tree, leaf_states)\n",
    "cost, states = weighted_parsimony(tree, leaf_states, purine_pyrimidine_cost_matrix)\n",
    "assert cost == 7\n",
    "print(\"SUCCESS: large_score test case passed!\")"
   ]
  },
  {
   "cell_type": "code",
   "execution_count": 16,
   "metadata": {
    "nbgrader": {
     "grade": true,
     "grade_id": "pair_match_states",
     "locked": true,
     "points": 3,
     "schema_version": 3,
     "solution": false,
     "task": false
    }
   },
   "outputs": [
    {
     "name": "stdout",
     "output_type": "stream",
     "text": [
      "SUCCESS: pair_match_states test case passed!\n"
     ]
    },
    {
     "data": {
      "text/html": [
       "<div class=\"toyplot\" id=\"t9e848316dceb412784f2f03ad32a0440\" style=\"text-align:center\"><svg class=\"toyplot-canvas-Canvas\" xmlns:toyplot=\"http://www.sandia.gov/toyplot\" xmlns:xlink=\"http://www.w3.org/1999/xlink\" xmlns=\"http://www.w3.org/2000/svg\" width=\"255.0px\" height=\"275.0px\" viewBox=\"0 0 255.0 275.0\" preserveAspectRatio=\"xMidYMid meet\" style=\"background-color:transparent;border-color:#292724;border-style:none;border-width:1.0;fill:rgb(16.1%,15.3%,14.1%);fill-opacity:1.0;font-family:Helvetica;font-size:12px;opacity:1.0;stroke:rgb(16.1%,15.3%,14.1%);stroke-opacity:1.0;stroke-width:1.0\" id=\"t37ddb5bc07414561aef191c341995399\"><g class=\"toyplot-coordinates-Cartesian\" id=\"t496409822e604694b42d7d6e8321328b\"><clipPath id=\"t6eb2b79eec33480eb4302fc576c16199\"><rect x=\"30.0\" y=\"30.0\" width=\"195.0\" height=\"215.0\"></rect></clipPath><g clip-path=\"url(#t6eb2b79eec33480eb4302fc576c16199)\"><g class=\"toytree-mark-Toytree\" id=\"t90caf5027be345b79671699e363e4bde\"><g class=\"toytree-Edges\" style=\"fill:none;stroke:rgb(14.9%,14.9%,14.9%);stroke-linecap:round;stroke-opacity:1;stroke-width:2\"><path d=\"M 65.9 137.5 L 65.9 66.3 L 189.1 66.3\" id=\"2,1\"></path><path d=\"M 65.9 137.5 L 65.9 208.7 L 189.1 208.7\" id=\"2,0\"></path></g><g class=\"toytree-Nodes\" style=\"fill:rgb(40%,76.1%,64.7%);fill-opacity:1.0;stroke:None;stroke-width:1\"><g id=\"node-0\" transform=\"translate(189.103,208.721)\"><circle r=\"10.0\"></circle></g><g id=\"node-1\" transform=\"translate(189.103,66.279)\"><circle r=\"10.0\"></circle></g><g id=\"node-2\" transform=\"translate(65.897,137.500)\"><circle r=\"10.0\"></circle></g></g><g class=\"toytree-NodeLabels\" style=\"fill:rgb(14.9%,14.9%,14.9%);fill-opacity:1.0;font-size:9px;stroke:none\"><g transform=\"translate(186.10,211.02)\"><text>Y</text></g><g transform=\"translate(186.10,68.58)\"><text>X</text></g><g transform=\"translate(63.40,139.80)\"><text>2</text></g></g><g class=\"toytree-TipLabels\" style=\"fill:rgb(14.9%,14.9%,14.9%);fill-opacity:1.0;font-family:helvetica;font-size:11px;font-weight:normal;stroke:none;white-space:pre\"><g transform=\"translate(189.10,208.72)rotate(0)\"><text x=\"15.00\" y=\"2.81\" style=\"\">C</text></g><g transform=\"translate(189.10,66.28)rotate(0)\"><text x=\"15.00\" y=\"2.81\" style=\"\">C</text></g></g></g></g></g></svg><div class=\"toyplot-behavior\"><script>(function()\n",
       "{\n",
       "var modules={};\n",
       "})();</script></div></div>"
      ]
     },
     "metadata": {},
     "output_type": "display_data"
    }
   ],
   "source": [
    "# pair_match_states (3 points)\n",
    "tree, leaf_states = pair_tree, pair_match_states\n",
    "draw_tree_with_internal_labels(tree, leaf_states)\n",
    "cost, states = weighted_parsimony(tree, leaf_states, purine_pyrimidine_cost_matrix)\n",
    "assert states == {'2': 'C', 'X': 'C', 'Y': 'C'}\n",
    "print(\"SUCCESS: pair_match_states test case passed!\")"
   ]
  },
  {
   "cell_type": "code",
   "execution_count": 17,
   "metadata": {
    "nbgrader": {
     "grade": true,
     "grade_id": "pair_mismatch_states",
     "locked": true,
     "points": 3,
     "schema_version": 3,
     "solution": false,
     "task": false
    }
   },
   "outputs": [
    {
     "name": "stdout",
     "output_type": "stream",
     "text": [
      "SUCCESS: pair_mismatch_states test case passed!\n"
     ]
    },
    {
     "data": {
      "text/html": [
       "<div class=\"toyplot\" id=\"ta2bb0ef2b1d74e669ec25d65f52e3408\" style=\"text-align:center\"><svg class=\"toyplot-canvas-Canvas\" xmlns:toyplot=\"http://www.sandia.gov/toyplot\" xmlns:xlink=\"http://www.w3.org/1999/xlink\" xmlns=\"http://www.w3.org/2000/svg\" width=\"255.0px\" height=\"275.0px\" viewBox=\"0 0 255.0 275.0\" preserveAspectRatio=\"xMidYMid meet\" style=\"background-color:transparent;border-color:#292724;border-style:none;border-width:1.0;fill:rgb(16.1%,15.3%,14.1%);fill-opacity:1.0;font-family:Helvetica;font-size:12px;opacity:1.0;stroke:rgb(16.1%,15.3%,14.1%);stroke-opacity:1.0;stroke-width:1.0\" id=\"t20f0336065c748318d896dadc95adc3f\"><g class=\"toyplot-coordinates-Cartesian\" id=\"te4297466d4ab43fa9bc5ec869f1dbc99\"><clipPath id=\"t48424bccf6564ce1b2919dc4d22b85d5\"><rect x=\"30.0\" y=\"30.0\" width=\"195.0\" height=\"215.0\"></rect></clipPath><g clip-path=\"url(#t48424bccf6564ce1b2919dc4d22b85d5)\"><g class=\"toytree-mark-Toytree\" id=\"t4bd272de78bb4df0adf4cd14f122cb04\"><g class=\"toytree-Edges\" style=\"fill:none;stroke:rgb(14.9%,14.9%,14.9%);stroke-linecap:round;stroke-opacity:1;stroke-width:2\"><path d=\"M 65.9 137.5 L 65.9 66.3 L 189.1 66.3\" id=\"2,1\"></path><path d=\"M 65.9 137.5 L 65.9 208.7 L 189.1 208.7\" id=\"2,0\"></path></g><g class=\"toytree-Nodes\" style=\"fill:rgb(40%,76.1%,64.7%);fill-opacity:1.0;stroke:None;stroke-width:1\"><g id=\"node-0\" transform=\"translate(189.103,208.721)\"><circle r=\"10.0\"></circle></g><g id=\"node-1\" transform=\"translate(189.103,66.279)\"><circle r=\"10.0\"></circle></g><g id=\"node-2\" transform=\"translate(65.897,137.500)\"><circle r=\"10.0\"></circle></g></g><g class=\"toytree-NodeLabels\" style=\"fill:rgb(14.9%,14.9%,14.9%);fill-opacity:1.0;font-size:9px;stroke:none\"><g transform=\"translate(186.10,211.02)\"><text>Y</text></g><g transform=\"translate(186.10,68.58)\"><text>X</text></g><g transform=\"translate(63.40,139.80)\"><text>2</text></g></g><g class=\"toytree-TipLabels\" style=\"fill:rgb(14.9%,14.9%,14.9%);fill-opacity:1.0;font-family:helvetica;font-size:11px;font-weight:normal;stroke:none;white-space:pre\"><g transform=\"translate(189.10,208.72)rotate(0)\"><text x=\"15.00\" y=\"2.81\" style=\"\">T</text></g><g transform=\"translate(189.10,66.28)rotate(0)\"><text x=\"15.00\" y=\"2.81\" style=\"\">A</text></g></g></g></g></g></svg><div class=\"toyplot-behavior\"><script>(function()\n",
       "{\n",
       "var modules={};\n",
       "})();</script></div></div>"
      ]
     },
     "metadata": {},
     "output_type": "display_data"
    }
   ],
   "source": [
    "# pair_mismatch_states (3 points)\n",
    "tree, leaf_states = pair_tree, pair_mismatch_states\n",
    "draw_tree_with_internal_labels(tree, leaf_states)\n",
    "cost, states = weighted_parsimony(tree, leaf_states, purine_pyrimidine_cost_matrix)\n",
    "assert states == {'2': 'A', 'X': 'A', 'Y': 'T'}\n",
    "print(\"SUCCESS: pair_mismatch_states test case passed!\")"
   ]
  },
  {
   "cell_type": "code",
   "execution_count": 18,
   "metadata": {
    "nbgrader": {
     "grade": true,
     "grade_id": "triple_states",
     "locked": true,
     "points": 2,
     "schema_version": 3,
     "solution": false,
     "task": false
    }
   },
   "outputs": [
    {
     "name": "stdout",
     "output_type": "stream",
     "text": [
      "SUCCESS: triple_states test case passed!\n"
     ]
    },
    {
     "data": {
      "text/html": [
       "<div class=\"toyplot\" id=\"tc0d1974dd5a3463a9fe858fac8b7dd81\" style=\"text-align:center\"><svg class=\"toyplot-canvas-Canvas\" xmlns:toyplot=\"http://www.sandia.gov/toyplot\" xmlns:xlink=\"http://www.w3.org/1999/xlink\" xmlns=\"http://www.w3.org/2000/svg\" width=\"255.0px\" height=\"275.0px\" viewBox=\"0 0 255.0 275.0\" preserveAspectRatio=\"xMidYMid meet\" style=\"background-color:transparent;border-color:#292724;border-style:none;border-width:1.0;fill:rgb(16.1%,15.3%,14.1%);fill-opacity:1.0;font-family:Helvetica;font-size:12px;opacity:1.0;stroke:rgb(16.1%,15.3%,14.1%);stroke-opacity:1.0;stroke-width:1.0\" id=\"t60fde90090d7444f892187353d52d320\"><g class=\"toyplot-coordinates-Cartesian\" id=\"tda44d05927a24103a0b9dae85d54b231\"><clipPath id=\"t46461b6c68194f24a9a67de9a1dd90bc\"><rect x=\"30.0\" y=\"30.0\" width=\"195.0\" height=\"215.0\"></rect></clipPath><g clip-path=\"url(#t46461b6c68194f24a9a67de9a1dd90bc)\"><g class=\"toytree-mark-Toytree\" id=\"t563ebecc8bb741559970b3395584f594\"><g class=\"toytree-Edges\" style=\"fill:none;stroke:rgb(14.9%,14.9%,14.9%);stroke-linecap:round;stroke-opacity:1;stroke-width:2\"><path d=\"M 65.9 119.7 L 65.9 173.1 L 127.5 173.1\" id=\"4,3\"></path><path d=\"M 65.9 119.7 L 65.9 66.3 L 189.1 66.3\" id=\"4,2\"></path><path d=\"M 127.5 173.1 L 127.5 137.5 L 189.1 137.5\" id=\"3,1\"></path><path d=\"M 127.5 173.1 L 127.5 208.7 L 189.1 208.7\" id=\"3,0\"></path></g><g class=\"toytree-Nodes\" style=\"fill:rgb(40%,76.1%,64.7%);fill-opacity:1.0;stroke:None;stroke-width:1\"><g id=\"node-0\" transform=\"translate(189.103,208.721)\"><circle r=\"10.0\"></circle></g><g id=\"node-1\" transform=\"translate(189.103,137.500)\"><circle r=\"10.0\"></circle></g><g id=\"node-2\" transform=\"translate(189.103,66.279)\"><circle r=\"10.0\"></circle></g><g id=\"node-3\" transform=\"translate(127.500,173.110)\"><circle r=\"10.0\"></circle></g><g id=\"node-4\" transform=\"translate(65.897,119.695)\"><circle r=\"10.0\"></circle></g></g><g class=\"toytree-NodeLabels\" style=\"fill:rgb(14.9%,14.9%,14.9%);fill-opacity:1.0;font-size:9px;stroke:none\"><g transform=\"translate(186.10,211.02)\"><text>Y</text></g><g transform=\"translate(186.10,139.80)\"><text>X</text></g><g transform=\"translate(186.35,68.58)\"><text>Z</text></g><g transform=\"translate(125.00,175.41)\"><text>3</text></g><g transform=\"translate(63.40,121.99)\"><text>4</text></g></g><g class=\"toytree-TipLabels\" style=\"fill:rgb(14.9%,14.9%,14.9%);fill-opacity:1.0;font-family:helvetica;font-size:11px;font-weight:normal;stroke:none;white-space:pre\"><g transform=\"translate(189.10,208.72)rotate(0)\"><text x=\"15.00\" y=\"2.81\" style=\"\">T</text></g><g transform=\"translate(189.10,137.50)rotate(0)\"><text x=\"15.00\" y=\"2.81\" style=\"\">A</text></g><g transform=\"translate(189.10,66.28)rotate(0)\"><text x=\"15.00\" y=\"2.81\" style=\"\">C</text></g></g></g></g></g></svg><div class=\"toyplot-behavior\"><script>(function()\n",
       "{\n",
       "var modules={};\n",
       "})();</script></div></div>"
      ]
     },
     "metadata": {},
     "output_type": "display_data"
    }
   ],
   "source": [
    "# triple_states (2 points)\n",
    "tree, leaf_states = triple_tree, triple_states\n",
    "draw_tree_with_internal_labels(tree, leaf_states)\n",
    "cost, states = weighted_parsimony(tree, leaf_states, purine_pyrimidine_cost_matrix)\n",
    "assert states == {'4': 'C', 'Z': 'C', '3': 'C', 'X': 'A', 'Y': 'T'}\n",
    "print(\"SUCCESS: triple_states test case passed!\")"
   ]
  },
  {
   "cell_type": "code",
   "execution_count": 19,
   "metadata": {
    "nbgrader": {
     "grade": true,
     "grade_id": "quartet_states",
     "locked": true,
     "points": 1,
     "schema_version": 3,
     "solution": false,
     "task": false
    }
   },
   "outputs": [
    {
     "name": "stdout",
     "output_type": "stream",
     "text": [
      "SUCCESS: quartet_states test case passed!\n"
     ]
    },
    {
     "data": {
      "text/html": [
       "<div class=\"toyplot\" id=\"tac88879923fd459a9a853c3ef570bc29\" style=\"text-align:center\"><svg class=\"toyplot-canvas-Canvas\" xmlns:toyplot=\"http://www.sandia.gov/toyplot\" xmlns:xlink=\"http://www.w3.org/1999/xlink\" xmlns=\"http://www.w3.org/2000/svg\" width=\"255.0px\" height=\"275.0px\" viewBox=\"0 0 255.0 275.0\" preserveAspectRatio=\"xMidYMid meet\" style=\"background-color:transparent;border-color:#292724;border-style:none;border-width:1.0;fill:rgb(16.1%,15.3%,14.1%);fill-opacity:1.0;font-family:Helvetica;font-size:12px;opacity:1.0;stroke:rgb(16.1%,15.3%,14.1%);stroke-opacity:1.0;stroke-width:1.0\" id=\"t203a544a23b5479fb9e70d5cdbbd0e81\"><g class=\"toyplot-coordinates-Cartesian\" id=\"t254e7fe3a1fc4380b75f7656b5ea1c74\"><clipPath id=\"tf8360dc4a9294c64abf7c46baa0ee47d\"><rect x=\"30.0\" y=\"30.0\" width=\"195.0\" height=\"215.0\"></rect></clipPath><g clip-path=\"url(#tf8360dc4a9294c64abf7c46baa0ee47d)\"><g class=\"toytree-mark-Toytree\" id=\"t36417a13a7c24446a4a7690e806770f9\"><g class=\"toytree-Edges\" style=\"fill:none;stroke:rgb(14.9%,14.9%,14.9%);stroke-linecap:round;stroke-opacity:1;stroke-width:2\"><path d=\"M 65.9 107.8 L 65.9 149.4 L 107.0 149.4\" id=\"6,5\"></path><path d=\"M 107.0 149.4 L 107.0 185.0 L 148.0 185.0\" id=\"5,4\"></path><path d=\"M 65.9 107.8 L 65.9 66.3 L 189.1 66.3\" id=\"6,3\"></path><path d=\"M 107.0 149.4 L 107.0 113.8 L 189.1 113.8\" id=\"5,2\"></path><path d=\"M 148.0 185.0 L 148.0 161.2 L 189.1 161.2\" id=\"4,1\"></path><path d=\"M 148.0 185.0 L 148.0 208.7 L 189.1 208.7\" id=\"4,0\"></path></g><g class=\"toytree-Nodes\" style=\"fill:rgb(40%,76.1%,64.7%);fill-opacity:1.0;stroke:None;stroke-width:1\"><g id=\"node-0\" transform=\"translate(189.103,208.721)\"><circle r=\"10.0\"></circle></g><g id=\"node-1\" transform=\"translate(189.103,161.240)\"><circle r=\"10.0\"></circle></g><g id=\"node-2\" transform=\"translate(189.103,113.760)\"><circle r=\"10.0\"></circle></g><g id=\"node-3\" transform=\"translate(189.103,66.279)\"><circle r=\"10.0\"></circle></g><g id=\"node-4\" transform=\"translate(148.034,184.981)\"><circle r=\"10.0\"></circle></g><g id=\"node-5\" transform=\"translate(106.966,149.370)\"><circle r=\"10.0\"></circle></g><g id=\"node-6\" transform=\"translate(65.897,107.825)\"><circle r=\"10.0\"></circle></g></g><g class=\"toytree-NodeLabels\" style=\"fill:rgb(14.9%,14.9%,14.9%);fill-opacity:1.0;font-size:9px;stroke:none\"><g transform=\"translate(186.10,211.02)\"><text>Y</text></g><g transform=\"translate(186.10,163.54)\"><text>X</text></g><g transform=\"translate(186.35,116.06)\"><text>Z</text></g><g transform=\"translate(184.85,68.58)\"><text>W</text></g><g transform=\"translate(145.53,187.28)\"><text>4</text></g><g transform=\"translate(104.46,151.67)\"><text>5</text></g><g transform=\"translate(63.40,110.12)\"><text>6</text></g></g><g class=\"toytree-TipLabels\" style=\"fill:rgb(14.9%,14.9%,14.9%);fill-opacity:1.0;font-family:helvetica;font-size:11px;font-weight:normal;stroke:none;white-space:pre\"><g transform=\"translate(189.10,208.72)rotate(0)\"><text x=\"15.00\" y=\"2.81\" style=\"\">T</text></g><g transform=\"translate(189.10,161.24)rotate(0)\"><text x=\"15.00\" y=\"2.81\" style=\"\">A</text></g><g transform=\"translate(189.10,113.76)rotate(0)\"><text x=\"15.00\" y=\"2.81\" style=\"\">C</text></g><g transform=\"translate(189.10,66.28)rotate(0)\"><text x=\"15.00\" y=\"2.81\" style=\"\">A</text></g></g></g></g></g></svg><div class=\"toyplot-behavior\"><script>(function()\n",
       "{\n",
       "var modules={};\n",
       "})();</script></div></div>"
      ]
     },
     "metadata": {},
     "output_type": "display_data"
    }
   ],
   "source": [
    "# quartet_states (1 point)\n",
    "tree, leaf_states = quartet_tree, quartet_states\n",
    "draw_tree_with_internal_labels(tree, leaf_states)\n",
    "cost, states = weighted_parsimony(tree, leaf_states, purine_pyrimidine_cost_matrix)\n",
    "assert states == {'6': 'A', 'W': 'A', '5': 'A', 'Z': 'C', '4': 'A', 'X': 'A', 'Y': 'T'}\n",
    "print(\"SUCCESS: quartet_states test case passed!\")"
   ]
  },
  {
   "cell_type": "code",
   "execution_count": 20,
   "metadata": {
    "nbgrader": {
     "grade": true,
     "grade_id": "quartet2_states",
     "locked": true,
     "points": 1,
     "schema_version": 3,
     "solution": false,
     "task": false
    }
   },
   "outputs": [
    {
     "name": "stdout",
     "output_type": "stream",
     "text": [
      "SUCCESS: quartet2_states test case passed!\n"
     ]
    },
    {
     "data": {
      "text/html": [
       "<div class=\"toyplot\" id=\"t3db4869426aa41409bbaecb91007e6d5\" style=\"text-align:center\"><svg class=\"toyplot-canvas-Canvas\" xmlns:toyplot=\"http://www.sandia.gov/toyplot\" xmlns:xlink=\"http://www.w3.org/1999/xlink\" xmlns=\"http://www.w3.org/2000/svg\" width=\"255.0px\" height=\"275.0px\" viewBox=\"0 0 255.0 275.0\" preserveAspectRatio=\"xMidYMid meet\" style=\"background-color:transparent;border-color:#292724;border-style:none;border-width:1.0;fill:rgb(16.1%,15.3%,14.1%);fill-opacity:1.0;font-family:Helvetica;font-size:12px;opacity:1.0;stroke:rgb(16.1%,15.3%,14.1%);stroke-opacity:1.0;stroke-width:1.0\" id=\"t92ad6c1361934eed95fa3496b0153de2\"><g class=\"toyplot-coordinates-Cartesian\" id=\"t9051f9154d4246d389217faa6e9e2e18\"><clipPath id=\"t5b18efc9e986435f85710f453cb4917f\"><rect x=\"30.0\" y=\"30.0\" width=\"195.0\" height=\"215.0\"></rect></clipPath><g clip-path=\"url(#t5b18efc9e986435f85710f453cb4917f)\"><g class=\"toytree-mark-Toytree\" id=\"t3841e6e567bd4a6180f84baba1481505\"><g class=\"toytree-Edges\" style=\"fill:none;stroke:rgb(14.9%,14.9%,14.9%);stroke-linecap:round;stroke-opacity:1;stroke-width:2\"><path d=\"M 65.9 137.5 L 65.9 90.0 L 127.5 90.0\" id=\"6,5\"></path><path d=\"M 65.9 137.5 L 65.9 185.0 L 127.5 185.0\" id=\"6,4\"></path><path d=\"M 127.5 90.0 L 127.5 66.3 L 189.1 66.3\" id=\"5,3\"></path><path d=\"M 127.5 90.0 L 127.5 113.8 L 189.1 113.8\" id=\"5,2\"></path><path d=\"M 127.5 185.0 L 127.5 161.2 L 189.1 161.2\" id=\"4,1\"></path><path d=\"M 127.5 185.0 L 127.5 208.7 L 189.1 208.7\" id=\"4,0\"></path></g><g class=\"toytree-Nodes\" style=\"fill:rgb(40%,76.1%,64.7%);fill-opacity:1.0;stroke:None;stroke-width:1\"><g id=\"node-0\" transform=\"translate(189.103,208.721)\"><circle r=\"10.0\"></circle></g><g id=\"node-1\" transform=\"translate(189.103,161.240)\"><circle r=\"10.0\"></circle></g><g id=\"node-2\" transform=\"translate(189.103,113.760)\"><circle r=\"10.0\"></circle></g><g id=\"node-3\" transform=\"translate(189.103,66.279)\"><circle r=\"10.0\"></circle></g><g id=\"node-4\" transform=\"translate(127.500,184.981)\"><circle r=\"10.0\"></circle></g><g id=\"node-5\" transform=\"translate(127.500,90.019)\"><circle r=\"10.0\"></circle></g><g id=\"node-6\" transform=\"translate(65.897,137.500)\"><circle r=\"10.0\"></circle></g></g><g class=\"toytree-NodeLabels\" style=\"fill:rgb(14.9%,14.9%,14.9%);fill-opacity:1.0;font-size:9px;stroke:none\"><g transform=\"translate(186.10,211.02)\"><text>Y</text></g><g transform=\"translate(186.10,163.54)\"><text>X</text></g><g transform=\"translate(186.35,116.06)\"><text>Z</text></g><g transform=\"translate(184.85,68.58)\"><text>W</text></g><g transform=\"translate(125.00,187.28)\"><text>4</text></g><g transform=\"translate(125.00,92.32)\"><text>5</text></g><g transform=\"translate(63.40,139.80)\"><text>6</text></g></g><g class=\"toytree-TipLabels\" style=\"fill:rgb(14.9%,14.9%,14.9%);fill-opacity:1.0;font-family:helvetica;font-size:11px;font-weight:normal;stroke:none;white-space:pre\"><g transform=\"translate(189.10,208.72)rotate(0)\"><text x=\"15.00\" y=\"2.81\" style=\"\">T</text></g><g transform=\"translate(189.10,161.24)rotate(0)\"><text x=\"15.00\" y=\"2.81\" style=\"\">A</text></g><g transform=\"translate(189.10,113.76)rotate(0)\"><text x=\"15.00\" y=\"2.81\" style=\"\">C</text></g><g transform=\"translate(189.10,66.28)rotate(0)\"><text x=\"15.00\" y=\"2.81\" style=\"\">A</text></g></g></g></g></g></svg><div class=\"toyplot-behavior\"><script>(function()\n",
       "{\n",
       "var modules={};\n",
       "})();</script></div></div>"
      ]
     },
     "metadata": {},
     "output_type": "display_data"
    }
   ],
   "source": [
    "# quartet2_states (1 point)\n",
    "tree, leaf_states = quartet2_tree, quartet_states\n",
    "draw_tree_with_internal_labels(tree, leaf_states)\n",
    "cost, states = weighted_parsimony(tree, leaf_states, purine_pyrimidine_cost_matrix)\n",
    "assert states == {'6': 'A', '5': 'A', '4': 'A', 'W': 'A', 'Z': 'C', 'X': 'A', 'Y': 'T'}\n",
    "print(\"SUCCESS: quartet2_states test case passed!\")"
   ]
  },
  {
   "cell_type": "code",
   "execution_count": 21,
   "metadata": {
    "nbgrader": {
     "grade": true,
     "grade_id": "quintet_states",
     "locked": true,
     "points": 1,
     "schema_version": 3,
     "solution": false,
     "task": false
    }
   },
   "outputs": [
    {
     "name": "stdout",
     "output_type": "stream",
     "text": [
      "SUCCESS: quintet_states test case passed!\n"
     ]
    },
    {
     "data": {
      "text/html": [
       "<div class=\"toyplot\" id=\"tecd0abbd06fb460fb30af386a1ea16af\" style=\"text-align:center\"><svg class=\"toyplot-canvas-Canvas\" xmlns:toyplot=\"http://www.sandia.gov/toyplot\" xmlns:xlink=\"http://www.w3.org/1999/xlink\" xmlns=\"http://www.w3.org/2000/svg\" width=\"255.0px\" height=\"275.0px\" viewBox=\"0 0 255.0 275.0\" preserveAspectRatio=\"xMidYMid meet\" style=\"background-color:transparent;border-color:#292724;border-style:none;border-width:1.0;fill:rgb(16.1%,15.3%,14.1%);fill-opacity:1.0;font-family:Helvetica;font-size:12px;opacity:1.0;stroke:rgb(16.1%,15.3%,14.1%);stroke-opacity:1.0;stroke-width:1.0\" id=\"tec956ba8c73a4d63924708dfb6f4c49e\"><g class=\"toyplot-coordinates-Cartesian\" id=\"tf16c68c22c384cfc9251e716a51775c6\"><clipPath id=\"t3a77d2f9e5a24c70ae2c16e9ec949525\"><rect x=\"30.0\" y=\"30.0\" width=\"195.0\" height=\"215.0\"></rect></clipPath><g clip-path=\"url(#t3a77d2f9e5a24c70ae2c16e9ec949525)\"><g class=\"toytree-mark-Toytree\" id=\"tc1463748132545c8b91cf2884daabd81\"><g class=\"toytree-Edges\" style=\"fill:none;stroke:rgb(14.9%,14.9%,14.9%);stroke-linecap:round;stroke-opacity:1;stroke-width:2\"><path d=\"M 65.9 124.1 L 65.9 84.1 L 148.0 84.1\" id=\"8,7\"></path><path d=\"M 65.9 124.1 L 65.9 164.2 L 107.0 164.2\" id=\"8,6\"></path><path d=\"M 107.0 164.2 L 107.0 190.9 L 148.0 190.9\" id=\"6,5\"></path><path d=\"M 148.0 84.1 L 148.0 66.3 L 189.1 66.3\" id=\"7,4\"></path><path d=\"M 148.0 84.1 L 148.0 101.9 L 189.1 101.9\" id=\"7,3\"></path><path d=\"M 107.0 164.2 L 107.0 137.5 L 189.1 137.5\" id=\"6,2\"></path><path d=\"M 148.0 190.9 L 148.0 173.1 L 189.1 173.1\" id=\"5,1\"></path><path d=\"M 148.0 190.9 L 148.0 208.7 L 189.1 208.7\" id=\"5,0\"></path></g><g class=\"toytree-Nodes\" style=\"fill:rgb(40%,76.1%,64.7%);fill-opacity:1.0;stroke:None;stroke-width:1\"><g id=\"node-0\" transform=\"translate(189.103,208.721)\"><circle r=\"10.0\"></circle></g><g id=\"node-1\" transform=\"translate(189.103,173.110)\"><circle r=\"10.0\"></circle></g><g id=\"node-2\" transform=\"translate(189.103,137.500)\"><circle r=\"10.0\"></circle></g><g id=\"node-3\" transform=\"translate(189.103,101.890)\"><circle r=\"10.0\"></circle></g><g id=\"node-4\" transform=\"translate(189.103,66.279)\"><circle r=\"10.0\"></circle></g><g id=\"node-5\" transform=\"translate(148.034,190.916)\"><circle r=\"10.0\"></circle></g><g id=\"node-6\" transform=\"translate(106.966,164.208)\"><circle r=\"10.0\"></circle></g><g id=\"node-7\" transform=\"translate(148.034,84.084)\"><circle r=\"10.0\"></circle></g><g id=\"node-8\" transform=\"translate(65.897,124.146)\"><circle r=\"10.0\"></circle></g></g><g class=\"toytree-NodeLabels\" style=\"fill:rgb(14.9%,14.9%,14.9%);fill-opacity:1.0;font-size:9px;stroke:none\"><g transform=\"translate(186.10,211.02)\"><text>Y</text></g><g transform=\"translate(186.10,175.41)\"><text>X</text></g><g transform=\"translate(186.35,139.80)\"><text>Z</text></g><g transform=\"translate(184.85,104.19)\"><text>W</text></g><g transform=\"translate(186.10,68.58)\"><text>V</text></g><g transform=\"translate(145.53,193.22)\"><text>5</text></g><g transform=\"translate(104.46,166.51)\"><text>6</text></g><g transform=\"translate(145.53,86.38)\"><text>7</text></g><g transform=\"translate(63.40,126.45)\"><text>8</text></g></g><g class=\"toytree-TipLabels\" style=\"fill:rgb(14.9%,14.9%,14.9%);fill-opacity:1.0;font-family:helvetica;font-size:11px;font-weight:normal;stroke:none;white-space:pre\"><g transform=\"translate(189.10,208.72)rotate(0)\"><text x=\"15.00\" y=\"2.81\" style=\"\">T</text></g><g transform=\"translate(189.10,173.11)rotate(0)\"><text x=\"15.00\" y=\"2.81\" style=\"\">A</text></g><g transform=\"translate(189.10,137.50)rotate(0)\"><text x=\"15.00\" y=\"2.81\" style=\"\">C</text></g><g transform=\"translate(189.10,101.89)rotate(0)\"><text x=\"15.00\" y=\"2.81\" style=\"\">C</text></g><g transform=\"translate(189.10,66.28)rotate(0)\"><text x=\"15.00\" y=\"2.81\" style=\"\">C</text></g></g></g></g></g></svg><div class=\"toyplot-behavior\"><script>(function()\n",
       "{\n",
       "var modules={};\n",
       "})();</script></div></div>"
      ]
     },
     "metadata": {},
     "output_type": "display_data"
    }
   ],
   "source": [
    "# quintet_states (1 point)\n",
    "tree, leaf_states = quintet_tree, quintet_states\n",
    "draw_tree_with_internal_labels(tree, leaf_states)\n",
    "cost, states = weighted_parsimony(tree, leaf_states, purine_pyrimidine_cost_matrix)\n",
    "assert states == {'8': 'C','7': 'C','6': 'C','V': 'C','W': 'C','Z': 'C','5': 'C','X': 'A','Y': 'T'}\n",
    "print(\"SUCCESS: quintet_states test case passed!\")"
   ]
  },
  {
   "cell_type": "code",
   "execution_count": 22,
   "metadata": {
    "nbgrader": {
     "grade": true,
     "grade_id": "large_states",
     "locked": true,
     "points": 1,
     "schema_version": 3,
     "solution": false,
     "task": false
    }
   },
   "outputs": [
    {
     "name": "stdout",
     "output_type": "stream",
     "text": [
      "SUCCESS: large_states test case passed!\n"
     ]
    },
    {
     "data": {
      "text/html": [
       "<div class=\"toyplot\" id=\"t649985f57378479daa4048e915e25141\" style=\"text-align:center\"><svg class=\"toyplot-canvas-Canvas\" xmlns:toyplot=\"http://www.sandia.gov/toyplot\" xmlns:xlink=\"http://www.w3.org/1999/xlink\" xmlns=\"http://www.w3.org/2000/svg\" width=\"255.0px\" height=\"275.0px\" viewBox=\"0 0 255.0 275.0\" preserveAspectRatio=\"xMidYMid meet\" style=\"background-color:transparent;border-color:#292724;border-style:none;border-width:1.0;fill:rgb(16.1%,15.3%,14.1%);fill-opacity:1.0;font-family:Helvetica;font-size:12px;opacity:1.0;stroke:rgb(16.1%,15.3%,14.1%);stroke-opacity:1.0;stroke-width:1.0\" id=\"tbb568534f7a34fa9a5f54e315efd981a\"><g class=\"toyplot-coordinates-Cartesian\" id=\"t980efca64f2041f6b3f8bd81a2957bf9\"><clipPath id=\"t85d6cfe3b5d345c097d649de458a6789\"><rect x=\"30.0\" y=\"30.0\" width=\"195.0\" height=\"215.0\"></rect></clipPath><g clip-path=\"url(#t85d6cfe3b5d345c097d649de458a6789)\"><g class=\"toytree-mark-Toytree\" id=\"te41cfa3ad1af4b48998555dd7e18b7c2\"><g class=\"toytree-Edges\" style=\"fill:none;stroke:rgb(14.9%,14.9%,14.9%);stroke-linecap:round;stroke-opacity:1;stroke-width:2\"><path d=\"M 65.9 131.1 L 65.9 84.1 L 96.7 84.1\" id=\"14,13\"></path><path d=\"M 65.9 131.1 L 65.9 178.2 L 127.5 178.2\" id=\"14,12\"></path><path d=\"M 96.7 84.1 L 96.7 101.9 L 127.5 101.9\" id=\"13,11\"></path><path d=\"M 127.5 178.2 L 127.5 157.8 L 158.3 157.8\" id=\"12,10\"></path><path d=\"M 127.5 178.2 L 127.5 198.5 L 158.3 198.5\" id=\"12,9\"></path><path d=\"M 127.5 101.9 L 127.5 117.2 L 158.3 117.2\" id=\"11,8\"></path><path d=\"M 96.7 84.1 L 96.7 66.3 L 189.1 66.3\" id=\"13,7\"></path><path d=\"M 127.5 101.9 L 127.5 86.6 L 189.1 86.6\" id=\"11,6\"></path><path d=\"M 158.3 117.2 L 158.3 107.0 L 189.1 107.0\" id=\"8,5\"></path><path d=\"M 158.3 117.2 L 158.3 127.3 L 189.1 127.3\" id=\"8,4\"></path><path d=\"M 158.3 157.8 L 158.3 147.7 L 189.1 147.7\" id=\"10,3\"></path><path d=\"M 158.3 157.8 L 158.3 168.0 L 189.1 168.0\" id=\"10,2\"></path><path d=\"M 158.3 198.5 L 158.3 188.4 L 189.1 188.4\" id=\"9,1\"></path><path d=\"M 158.3 198.5 L 158.3 208.7 L 189.1 208.7\" id=\"9,0\"></path></g><g class=\"toytree-Nodes\" style=\"fill:rgb(40%,76.1%,64.7%);fill-opacity:1.0;stroke:None;stroke-width:1\"><g id=\"node-0\" transform=\"translate(189.103,208.721)\"><circle r=\"10.0\"></circle></g><g id=\"node-1\" transform=\"translate(189.103,188.372)\"><circle r=\"10.0\"></circle></g><g id=\"node-2\" transform=\"translate(189.103,168.023)\"><circle r=\"10.0\"></circle></g><g id=\"node-3\" transform=\"translate(189.103,147.674)\"><circle r=\"10.0\"></circle></g><g id=\"node-4\" transform=\"translate(189.103,127.326)\"><circle r=\"10.0\"></circle></g><g id=\"node-5\" transform=\"translate(189.103,106.977)\"><circle r=\"10.0\"></circle></g><g id=\"node-6\" transform=\"translate(189.103,86.628)\"><circle r=\"10.0\"></circle></g><g id=\"node-7\" transform=\"translate(189.103,66.279)\"><circle r=\"10.0\"></circle></g><g id=\"node-8\" transform=\"translate(158.301,117.151)\"><circle r=\"10.0\"></circle></g><g id=\"node-9\" transform=\"translate(158.301,198.547)\"><circle r=\"10.0\"></circle></g><g id=\"node-10\" transform=\"translate(158.301,157.849)\"><circle r=\"10.0\"></circle></g><g id=\"node-11\" transform=\"translate(127.500,101.890)\"><circle r=\"10.0\"></circle></g><g id=\"node-12\" transform=\"translate(127.500,178.198)\"><circle r=\"10.0\"></circle></g><g id=\"node-13\" transform=\"translate(96.699,84.084)\"><circle r=\"10.0\"></circle></g><g id=\"node-14\" transform=\"translate(65.897,131.141)\"><circle r=\"10.0\"></circle></g></g><g class=\"toytree-NodeLabels\" style=\"fill:rgb(14.9%,14.9%,14.9%);fill-opacity:1.0;font-size:9px;stroke:none\"><g transform=\"translate(185.85,211.02)\"><text>D</text></g><g transform=\"translate(185.85,190.67)\"><text>C</text></g><g transform=\"translate(186.10,170.32)\"><text>B</text></g><g transform=\"translate(186.10,149.97)\"><text>A</text></g><g transform=\"translate(185.85,129.63)\"><text>H</text></g><g transform=\"translate(185.60,109.28)\"><text>G</text></g><g transform=\"translate(186.35,88.93)\"><text>F</text></g><g transform=\"translate(186.10,68.58)\"><text>E</text></g><g transform=\"translate(155.80,119.45)\"><text>8</text></g><g transform=\"translate(155.80,200.85)\"><text>9</text></g><g transform=\"translate(153.30,160.15)\"><text>10</text></g><g transform=\"translate(122.50,104.19)\"><text>11</text></g><g transform=\"translate(122.50,180.50)\"><text>12</text></g><g transform=\"translate(91.69,86.38)\"><text>13</text></g><g transform=\"translate(60.89,133.44)\"><text>14</text></g></g><g class=\"toytree-TipLabels\" style=\"fill:rgb(14.9%,14.9%,14.9%);fill-opacity:1.0;font-family:helvetica;font-size:11px;font-weight:normal;stroke:none;white-space:pre\"><g transform=\"translate(189.10,208.72)rotate(0)\"><text x=\"15.00\" y=\"2.81\" style=\"\">A</text></g><g transform=\"translate(189.10,188.37)rotate(0)\"><text x=\"15.00\" y=\"2.81\" style=\"\">T</text></g><g transform=\"translate(189.10,168.02)rotate(0)\"><text x=\"15.00\" y=\"2.81\" style=\"\">C</text></g><g transform=\"translate(189.10,147.67)rotate(0)\"><text x=\"15.00\" y=\"2.81\" style=\"\">G</text></g><g transform=\"translate(189.10,127.33)rotate(0)\"><text x=\"15.00\" y=\"2.81\" style=\"\">C</text></g><g transform=\"translate(189.10,106.98)rotate(0)\"><text x=\"15.00\" y=\"2.81\" style=\"\">C</text></g><g transform=\"translate(189.10,86.63)rotate(0)\"><text x=\"15.00\" y=\"2.81\" style=\"\">C</text></g><g transform=\"translate(189.10,66.28)rotate(0)\"><text x=\"15.00\" y=\"2.81\" style=\"\">G</text></g></g></g></g></g></svg><div class=\"toyplot-behavior\"><script>(function()\n",
       "{\n",
       "var modules={};\n",
       "})();</script></div></div>"
      ]
     },
     "metadata": {},
     "output_type": "display_data"
    }
   ],
   "source": [
    "# large_states (1 point)\n",
    "tree, leaf_states = large_tree, large_states\n",
    "draw_tree_with_internal_labels(tree, leaf_states)\n",
    "cost, states = weighted_parsimony(tree, leaf_states, purine_pyrimidine_cost_matrix)\n",
    "assert states == {'14': 'C','13': 'C','12': 'C','E': 'G','11': 'C','F': 'C', '8': 'C',\n",
    "                  'G': 'C','H': 'C','10': 'C','9': 'C','A': 'G','B': 'C','C': 'T','D': 'A'}\n",
    "print(\"SUCCESS: large_states test case passed!\")"
   ]
  },
  {
   "cell_type": "markdown",
   "metadata": {},
   "source": [
    "### Hidden tests (6 points total)"
   ]
  },
  {
   "cell_type": "code",
   "execution_count": 23,
   "metadata": {
    "nbgrader": {
     "grade": true,
     "grade_id": "p1_hidden1",
     "locked": true,
     "points": 3,
     "schema_version": 3,
     "solution": false,
     "task": false
    }
   },
   "outputs": [
    {
     "name": "stdout",
     "output_type": "stream",
     "text": [
      "SUCCESS: hidden1 test case passed!\n"
     ]
    },
    {
     "data": {
      "text/html": [
       "<div class=\"toyplot\" id=\"tb299670763a44d74b64d3eff92d255aa\" style=\"text-align:center\"><svg class=\"toyplot-canvas-Canvas\" xmlns:toyplot=\"http://www.sandia.gov/toyplot\" xmlns:xlink=\"http://www.w3.org/1999/xlink\" xmlns=\"http://www.w3.org/2000/svg\" width=\"255.0px\" height=\"275.0px\" viewBox=\"0 0 255.0 275.0\" preserveAspectRatio=\"xMidYMid meet\" style=\"background-color:transparent;border-color:#292724;border-style:none;border-width:1.0;fill:rgb(16.1%,15.3%,14.1%);fill-opacity:1.0;font-family:Helvetica;font-size:12px;opacity:1.0;stroke:rgb(16.1%,15.3%,14.1%);stroke-opacity:1.0;stroke-width:1.0\" id=\"t65475d45bd474d66a317df7ec33a466a\"><g class=\"toyplot-coordinates-Cartesian\" id=\"t4b572b4d617f427280103011bc54c0b2\"><clipPath id=\"t05fa76ca33ae49228facc008ac231c1f\"><rect x=\"30.0\" y=\"30.0\" width=\"195.0\" height=\"215.0\"></rect></clipPath><g clip-path=\"url(#t05fa76ca33ae49228facc008ac231c1f)\"><g class=\"toytree-mark-Toytree\" id=\"t72f5038c37b14796ae98f2cb25aa8e03\"><g class=\"toytree-Edges\" style=\"fill:none;stroke:rgb(14.9%,14.9%,14.9%);stroke-linecap:round;stroke-opacity:1;stroke-width:2\"><path d=\"M 65.9 118.2 L 65.9 80.1 L 115.2 80.1\" id=\"18,17\"></path><path d=\"M 65.9 118.2 L 65.9 156.3 L 90.5 156.3\" id=\"18,16\"></path><path d=\"M 115.2 80.1 L 115.2 94.0 L 139.8 94.0\" id=\"17,15\"></path><path d=\"M 90.5 156.3 L 90.5 137.5 L 164.5 137.5\" id=\"16,14\"></path><path d=\"M 90.5 156.3 L 90.5 175.1 L 115.2 175.1\" id=\"16,13\"></path><path d=\"M 139.8 94.0 L 139.8 105.8 L 164.5 105.8\" id=\"15,12\"></path><path d=\"M 115.2 175.1 L 115.2 188.9 L 139.8 188.9\" id=\"13,11\"></path><path d=\"M 139.8 188.9 L 139.8 200.8 L 164.5 200.8\" id=\"11,10\"></path><path d=\"M 115.2 80.1 L 115.2 66.3 L 189.1 66.3\" id=\"17,9\"></path><path d=\"M 139.8 94.0 L 139.8 82.1 L 189.1 82.1\" id=\"15,8\"></path><path d=\"M 164.5 105.8 L 164.5 97.9 L 189.1 97.9\" id=\"12,7\"></path><path d=\"M 164.5 105.8 L 164.5 113.8 L 189.1 113.8\" id=\"12,6\"></path><path d=\"M 164.5 137.5 L 164.5 129.6 L 189.1 129.6\" id=\"14,5\"></path><path d=\"M 164.5 137.5 L 164.5 145.4 L 189.1 145.4\" id=\"14,4\"></path><path d=\"M 115.2 175.1 L 115.2 161.2 L 189.1 161.2\" id=\"13,3\"></path><path d=\"M 139.8 188.9 L 139.8 177.1 L 189.1 177.1\" id=\"11,2\"></path><path d=\"M 164.5 200.8 L 164.5 192.9 L 189.1 192.9\" id=\"10,1\"></path><path d=\"M 164.5 200.8 L 164.5 208.7 L 189.1 208.7\" id=\"10,0\"></path></g><g class=\"toytree-Nodes\" style=\"fill:rgb(40%,76.1%,64.7%);fill-opacity:1.0;stroke:None;stroke-width:1\"><g id=\"node-0\" transform=\"translate(189.103,208.721)\"><circle r=\"10.0\"></circle></g><g id=\"node-1\" transform=\"translate(189.103,192.894)\"><circle r=\"10.0\"></circle></g><g id=\"node-2\" transform=\"translate(189.103,177.067)\"><circle r=\"10.0\"></circle></g><g id=\"node-3\" transform=\"translate(189.103,161.240)\"><circle r=\"10.0\"></circle></g><g id=\"node-4\" transform=\"translate(189.103,145.413)\"><circle r=\"10.0\"></circle></g><g id=\"node-5\" transform=\"translate(189.103,129.587)\"><circle r=\"10.0\"></circle></g><g id=\"node-6\" transform=\"translate(189.103,113.760)\"><circle r=\"10.0\"></circle></g><g id=\"node-7\" transform=\"translate(189.103,97.933)\"><circle r=\"10.0\"></circle></g><g id=\"node-8\" transform=\"translate(189.103,82.106)\"><circle r=\"10.0\"></circle></g><g id=\"node-9\" transform=\"translate(189.103,66.279)\"><circle r=\"10.0\"></circle></g><g id=\"node-10\" transform=\"translate(164.462,200.807)\"><circle r=\"10.0\"></circle></g><g id=\"node-11\" transform=\"translate(139.821,188.937)\"><circle r=\"10.0\"></circle></g><g id=\"node-12\" transform=\"translate(164.462,105.846)\"><circle r=\"10.0\"></circle></g><g id=\"node-13\" transform=\"translate(115.179,175.089)\"><circle r=\"10.0\"></circle></g><g id=\"node-14\" transform=\"translate(164.462,137.500)\"><circle r=\"10.0\"></circle></g><g id=\"node-15\" transform=\"translate(139.821,93.976)\"><circle r=\"10.0\"></circle></g><g id=\"node-16\" transform=\"translate(90.538,156.294)\"><circle r=\"10.0\"></circle></g><g id=\"node-17\" transform=\"translate(115.179,80.128)\"><circle r=\"10.0\"></circle></g><g id=\"node-18\" transform=\"translate(65.897,118.211)\"><circle r=\"10.0\"></circle></g></g><g class=\"toytree-NodeLabels\" style=\"fill:rgb(14.9%,14.9%,14.9%);fill-opacity:1.0;font-size:9px;stroke:none\"><g transform=\"translate(185.85,211.02)\"><text>D</text></g><g transform=\"translate(185.85,195.19)\"><text>H</text></g><g transform=\"translate(186.10,179.37)\"><text>A</text></g><g transform=\"translate(187.85,163.54)\"><text>I</text></g><g transform=\"translate(186.85,147.71)\"><text>J</text></g><g transform=\"translate(185.85,131.89)\"><text>C</text></g><g transform=\"translate(186.10,116.06)\"><text>B</text></g><g transform=\"translate(186.35,100.23)\"><text>F</text></g><g transform=\"translate(185.60,84.41)\"><text>G</text></g><g transform=\"translate(186.10,68.58)\"><text>E</text></g><g transform=\"translate(159.46,203.11)\"><text>10</text></g><g transform=\"translate(134.82,191.24)\"><text>11</text></g><g transform=\"translate(159.46,108.15)\"><text>12</text></g><g transform=\"translate(110.18,177.39)\"><text>13</text></g><g transform=\"translate(159.46,139.80)\"><text>14</text></g><g transform=\"translate(134.82,96.28)\"><text>15</text></g><g transform=\"translate(85.53,158.59)\"><text>16</text></g><g transform=\"translate(110.18,82.43)\"><text>17</text></g><g transform=\"translate(60.89,120.51)\"><text>18</text></g></g><g class=\"toytree-TipLabels\" style=\"fill:rgb(14.9%,14.9%,14.9%);fill-opacity:1.0;font-family:helvetica;font-size:11px;font-weight:normal;stroke:none;white-space:pre\"><g transform=\"translate(189.10,208.72)rotate(0)\"><text x=\"15.00\" y=\"2.81\" style=\"\">A</text></g><g transform=\"translate(189.10,192.89)rotate(0)\"><text x=\"15.00\" y=\"2.81\" style=\"\">A</text></g><g transform=\"translate(189.10,177.07)rotate(0)\"><text x=\"15.00\" y=\"2.81\" style=\"\">A</text></g><g transform=\"translate(189.10,161.24)rotate(0)\"><text x=\"15.00\" y=\"2.81\" style=\"\">G</text></g><g transform=\"translate(189.10,145.41)rotate(0)\"><text x=\"15.00\" y=\"2.81\" style=\"\">G</text></g><g transform=\"translate(189.10,129.59)rotate(0)\"><text x=\"15.00\" y=\"2.81\" style=\"\">G</text></g><g transform=\"translate(189.10,113.76)rotate(0)\"><text x=\"15.00\" y=\"2.81\" style=\"\">T</text></g><g transform=\"translate(189.10,97.93)rotate(0)\"><text x=\"15.00\" y=\"2.81\" style=\"\">T</text></g><g transform=\"translate(189.10,82.11)rotate(0)\"><text x=\"15.00\" y=\"2.81\" style=\"\">T</text></g><g transform=\"translate(189.10,66.28)rotate(0)\"><text x=\"15.00\" y=\"2.81\" style=\"\">G</text></g></g></g></g></g></svg><div class=\"toyplot-behavior\"><script>(function()\n",
       "{\n",
       "var modules={};\n",
       "})();</script></div></div>"
      ]
     },
     "metadata": {},
     "output_type": "display_data"
    }
   ],
   "source": [
    "# p1_hidden1 (3 points)\n",
    "### BEGIN HIDDEN TESTS\n",
    "tree = toytree.tree(\"(((G,(F,B)),E),((C,J),(((H,D),A),I)));\")\n",
    "leaf_states = {'A': 'A', 'B': 'T', 'C': 'G', 'D': 'A', 'E': 'G', 'F': 'T', 'G': 'T', 'H': 'A', 'I': 'G', 'J': 'G'}\n",
    "draw_tree_with_internal_labels(tree, leaf_states)\n",
    "cost, states = weighted_parsimony(tree, leaf_states, purine_pyrimidine_cost_matrix)\n",
    "assert cost == 3\n",
    "assert states == {'18': 'G','17': 'G','16': 'G','E': 'G','15': 'T','G': 'T','12': 'T','F': 'T','B': 'T',\n",
    "                  '14': 'G','13': 'G','C': 'G','J': 'G','I': 'G','11': 'A','A': 'A','10': 'A','H': 'A','D': 'A'}\n",
    "print(\"SUCCESS: hidden1 test case passed!\")\n",
    "### END HIDDEN TESTS"
   ]
  },
  {
   "cell_type": "code",
   "execution_count": 24,
   "metadata": {
    "nbgrader": {
     "grade": true,
     "grade_id": "p1_hidden2",
     "locked": true,
     "points": 2,
     "schema_version": 3,
     "solution": false,
     "task": false
    }
   },
   "outputs": [
    {
     "name": "stdout",
     "output_type": "stream",
     "text": [
      "SUCCESS: hidden2 test case passed!\n"
     ]
    },
    {
     "data": {
      "text/html": [
       "<div class=\"toyplot\" id=\"tf99c20f4a8f84e1ca1e62380e259c196\" style=\"text-align:center\"><svg class=\"toyplot-canvas-Canvas\" xmlns:toyplot=\"http://www.sandia.gov/toyplot\" xmlns:xlink=\"http://www.w3.org/1999/xlink\" xmlns=\"http://www.w3.org/2000/svg\" width=\"255.0px\" height=\"275.0px\" viewBox=\"0 0 255.0 275.0\" preserveAspectRatio=\"xMidYMid meet\" style=\"background-color:transparent;border-color:#292724;border-style:none;border-width:1.0;fill:rgb(16.1%,15.3%,14.1%);fill-opacity:1.0;font-family:Helvetica;font-size:12px;opacity:1.0;stroke:rgb(16.1%,15.3%,14.1%);stroke-opacity:1.0;stroke-width:1.0\" id=\"t7102f13c7a79465aa31e4070e7785dd0\"><g class=\"toyplot-coordinates-Cartesian\" id=\"te56de31171a14d04b43d583e87693e87\"><clipPath id=\"t682219ad85ce4211a4591317e729eb94\"><rect x=\"30.0\" y=\"30.0\" width=\"195.0\" height=\"215.0\"></rect></clipPath><g clip-path=\"url(#t682219ad85ce4211a4591317e729eb94)\"><g class=\"toytree-mark-Toytree\" id=\"t8f68d32cd10942d89b7820301eac285f\"><g class=\"toytree-Edges\" style=\"fill:none;stroke:rgb(14.9%,14.9%,14.9%);stroke-linecap:round;stroke-opacity:1;stroke-width:2\"><path d=\"M 65.9 82.1 L 65.9 97.9 L 79.6 97.9\" id=\"18,17\"></path><path d=\"M 79.6 97.9 L 79.6 113.6 L 93.3 113.6\" id=\"17,16\"></path><path d=\"M 93.3 113.6 L 93.3 129.3 L 107.0 129.3\" id=\"16,15\"></path><path d=\"M 107.0 129.3 L 107.0 144.9 L 120.7 144.9\" id=\"15,14\"></path><path d=\"M 120.7 144.9 L 120.7 160.3 L 134.3 160.3\" id=\"14,13\"></path><path d=\"M 134.3 160.3 L 134.3 175.1 L 148.0 175.1\" id=\"13,12\"></path><path d=\"M 148.0 175.1 L 148.0 188.9 L 161.7 188.9\" id=\"12,11\"></path><path d=\"M 161.7 188.9 L 161.7 200.8 L 175.4 200.8\" id=\"11,10\"></path><path d=\"M 65.9 82.1 L 65.9 66.3 L 189.1 66.3\" id=\"18,9\"></path><path d=\"M 79.6 97.9 L 79.6 82.1 L 189.1 82.1\" id=\"17,8\"></path><path d=\"M 93.3 113.6 L 93.3 97.9 L 189.1 97.9\" id=\"16,7\"></path><path d=\"M 107.0 129.3 L 107.0 113.8 L 189.1 113.8\" id=\"15,6\"></path><path d=\"M 120.7 144.9 L 120.7 129.6 L 189.1 129.6\" id=\"14,5\"></path><path d=\"M 134.3 160.3 L 134.3 145.4 L 189.1 145.4\" id=\"13,4\"></path><path d=\"M 148.0 175.1 L 148.0 161.2 L 189.1 161.2\" id=\"12,3\"></path><path d=\"M 161.7 188.9 L 161.7 177.1 L 189.1 177.1\" id=\"11,2\"></path><path d=\"M 175.4 200.8 L 175.4 192.9 L 189.1 192.9\" id=\"10,1\"></path><path d=\"M 175.4 200.8 L 175.4 208.7 L 189.1 208.7\" id=\"10,0\"></path></g><g class=\"toytree-Nodes\" style=\"fill:rgb(40%,76.1%,64.7%);fill-opacity:1.0;stroke:None;stroke-width:1\"><g id=\"node-0\" transform=\"translate(189.103,208.721)\"><circle r=\"10.0\"></circle></g><g id=\"node-1\" transform=\"translate(189.103,192.894)\"><circle r=\"10.0\"></circle></g><g id=\"node-2\" transform=\"translate(189.103,177.067)\"><circle r=\"10.0\"></circle></g><g id=\"node-3\" transform=\"translate(189.103,161.240)\"><circle r=\"10.0\"></circle></g><g id=\"node-4\" transform=\"translate(189.103,145.413)\"><circle r=\"10.0\"></circle></g><g id=\"node-5\" transform=\"translate(189.103,129.587)\"><circle r=\"10.0\"></circle></g><g id=\"node-6\" transform=\"translate(189.103,113.760)\"><circle r=\"10.0\"></circle></g><g id=\"node-7\" transform=\"translate(189.103,97.933)\"><circle r=\"10.0\"></circle></g><g id=\"node-8\" transform=\"translate(189.103,82.106)\"><circle r=\"10.0\"></circle></g><g id=\"node-9\" transform=\"translate(189.103,66.279)\"><circle r=\"10.0\"></circle></g><g id=\"node-10\" transform=\"translate(175.413,200.807)\"><circle r=\"10.0\"></circle></g><g id=\"node-11\" transform=\"translate(161.724,188.937)\"><circle r=\"10.0\"></circle></g><g id=\"node-12\" transform=\"translate(148.034,175.089)\"><circle r=\"10.0\"></circle></g><g id=\"node-13\" transform=\"translate(134.345,160.251)\"><circle r=\"10.0\"></circle></g><g id=\"node-14\" transform=\"translate(120.655,144.919)\"><circle r=\"10.0\"></circle></g><g id=\"node-15\" transform=\"translate(106.966,129.339)\"><circle r=\"10.0\"></circle></g><g id=\"node-16\" transform=\"translate(93.276,113.636)\"><circle r=\"10.0\"></circle></g><g id=\"node-17\" transform=\"translate(79.587,97.871)\"><circle r=\"10.0\"></circle></g><g id=\"node-18\" transform=\"translate(65.897,82.075)\"><circle r=\"10.0\"></circle></g></g><g class=\"toytree-NodeLabels\" style=\"fill:rgb(14.9%,14.9%,14.9%);fill-opacity:1.0;font-size:9px;stroke:none\"><g transform=\"translate(186.10,211.02)\"><text>A</text></g><g transform=\"translate(186.10,195.19)\"><text>B</text></g><g transform=\"translate(185.85,179.37)\"><text>C</text></g><g transform=\"translate(185.85,163.54)\"><text>D</text></g><g transform=\"translate(186.10,147.71)\"><text>E</text></g><g transform=\"translate(186.35,131.89)\"><text>F</text></g><g transform=\"translate(185.60,116.06)\"><text>G</text></g><g transform=\"translate(185.85,100.23)\"><text>H</text></g><g transform=\"translate(187.85,84.41)\"><text>I</text></g><g transform=\"translate(186.85,68.58)\"><text>J</text></g><g transform=\"translate(170.41,203.11)\"><text>10</text></g><g transform=\"translate(156.72,191.24)\"><text>11</text></g><g transform=\"translate(143.03,177.39)\"><text>12</text></g><g transform=\"translate(129.34,162.55)\"><text>13</text></g><g transform=\"translate(115.65,147.22)\"><text>14</text></g><g transform=\"translate(101.96,131.64)\"><text>15</text></g><g transform=\"translate(88.27,115.94)\"><text>16</text></g><g transform=\"translate(74.58,100.17)\"><text>17</text></g><g transform=\"translate(60.89,84.37)\"><text>18</text></g></g><g class=\"toytree-TipLabels\" style=\"fill:rgb(14.9%,14.9%,14.9%);fill-opacity:1.0;font-family:helvetica;font-size:11px;font-weight:normal;stroke:none;white-space:pre\"><g transform=\"translate(189.10,208.72)rotate(0)\"><text x=\"15.00\" y=\"2.81\" style=\"\">A</text></g><g transform=\"translate(189.10,192.89)rotate(0)\"><text x=\"15.00\" y=\"2.81\" style=\"\">T</text></g><g transform=\"translate(189.10,177.07)rotate(0)\"><text x=\"15.00\" y=\"2.81\" style=\"\">T</text></g><g transform=\"translate(189.10,161.24)rotate(0)\"><text x=\"15.00\" y=\"2.81\" style=\"\">T</text></g><g transform=\"translate(189.10,145.41)rotate(0)\"><text x=\"15.00\" y=\"2.81\" style=\"\">T</text></g><g transform=\"translate(189.10,129.59)rotate(0)\"><text x=\"15.00\" y=\"2.81\" style=\"\">T</text></g><g transform=\"translate(189.10,113.76)rotate(0)\"><text x=\"15.00\" y=\"2.81\" style=\"\">T</text></g><g transform=\"translate(189.10,97.93)rotate(0)\"><text x=\"15.00\" y=\"2.81\" style=\"\">T</text></g><g transform=\"translate(189.10,82.11)rotate(0)\"><text x=\"15.00\" y=\"2.81\" style=\"\">T</text></g><g transform=\"translate(189.10,66.28)rotate(0)\"><text x=\"15.00\" y=\"2.81\" style=\"\">T</text></g></g></g></g></g></svg><div class=\"toyplot-behavior\"><script>(function()\n",
       "{\n",
       "var modules={};\n",
       "})();</script></div></div>"
      ]
     },
     "metadata": {},
     "output_type": "display_data"
    }
   ],
   "source": [
    "# p1_hidden2 (2 points)\n",
    "### BEGIN HIDDEN TESTS\n",
    "tree = toytree.tree(\"(J,(I,(H,(G,(F,(E,(D,(C,(B,A)))))))));\")\n",
    "leaf_states = {'A': 'A', 'B': 'T', 'C': 'T', 'D': 'T', 'E': 'T', 'F': 'T', 'G': 'T', 'H': 'T', 'I': 'T', 'J': 'T'}\n",
    "draw_tree_with_internal_labels(tree, leaf_states)\n",
    "cost, states = weighted_parsimony(tree, leaf_states, purine_pyrimidine_cost_matrix)\n",
    "assert cost == 2\n",
    "assert states == {'18': 'T','J': 'T','17': 'T','I': 'T','16': 'T','H': 'T','15': 'T','G': 'T','14': 'T','F': 'T','13': 'T','E': 'T','12': 'T','D': 'T','11': 'T','C': 'T','10': 'T','B': 'T','A': 'A'}\n",
    "print(\"SUCCESS: hidden2 test case passed!\")\n",
    "### END HIDDEN TESTS"
   ]
  },
  {
   "cell_type": "code",
   "execution_count": 25,
   "metadata": {
    "nbgrader": {
     "grade": true,
     "grade_id": "p1_hidden3",
     "locked": true,
     "points": 1,
     "schema_version": 3,
     "solution": false,
     "task": false
    }
   },
   "outputs": [
    {
     "name": "stdout",
     "output_type": "stream",
     "text": [
      "SUCCESS: hidden3 test case passed!\n"
     ]
    },
    {
     "data": {
      "text/html": [
       "<div class=\"toyplot\" id=\"tddb85c2763f547cfa4a971b719784aa2\" style=\"text-align:center\"><svg class=\"toyplot-canvas-Canvas\" xmlns:toyplot=\"http://www.sandia.gov/toyplot\" xmlns:xlink=\"http://www.w3.org/1999/xlink\" xmlns=\"http://www.w3.org/2000/svg\" width=\"255.0px\" height=\"275.0px\" viewBox=\"0 0 255.0 275.0\" preserveAspectRatio=\"xMidYMid meet\" style=\"background-color:transparent;border-color:#292724;border-style:none;border-width:1.0;fill:rgb(16.1%,15.3%,14.1%);fill-opacity:1.0;font-family:Helvetica;font-size:12px;opacity:1.0;stroke:rgb(16.1%,15.3%,14.1%);stroke-opacity:1.0;stroke-width:1.0\" id=\"t2d3ee3fd1fdf49679f9c741219f2f799\"><g class=\"toyplot-coordinates-Cartesian\" id=\"t31b629a264af4403950ff72f19c2b7bd\"><clipPath id=\"tf2894f528c1a4a15b477b4067211df62\"><rect x=\"30.0\" y=\"30.0\" width=\"195.0\" height=\"215.0\"></rect></clipPath><g clip-path=\"url(#tf2894f528c1a4a15b477b4067211df62)\"><g class=\"toytree-mark-Toytree\" id=\"tf8b8762e562749c5b74719ba5fc5dfb1\"><g class=\"toytree-Edges\" style=\"fill:none;stroke:rgb(14.9%,14.9%,14.9%);stroke-linecap:round;stroke-opacity:1;stroke-width:2\"><path d=\"M 65.9 119.7 L 65.9 173.1 L 127.5 173.1\" id=\"4,3\"></path><path d=\"M 65.9 119.7 L 65.9 66.3 L 189.1 66.3\" id=\"4,2\"></path><path d=\"M 127.5 173.1 L 127.5 137.5 L 189.1 137.5\" id=\"3,1\"></path><path d=\"M 127.5 173.1 L 127.5 208.7 L 189.1 208.7\" id=\"3,0\"></path></g><g class=\"toytree-Nodes\" style=\"fill:rgb(40%,76.1%,64.7%);fill-opacity:1.0;stroke:None;stroke-width:1\"><g id=\"node-0\" transform=\"translate(189.103,208.721)\"><circle r=\"10.0\"></circle></g><g id=\"node-1\" transform=\"translate(189.103,137.500)\"><circle r=\"10.0\"></circle></g><g id=\"node-2\" transform=\"translate(189.103,66.279)\"><circle r=\"10.0\"></circle></g><g id=\"node-3\" transform=\"translate(127.500,173.110)\"><circle r=\"10.0\"></circle></g><g id=\"node-4\" transform=\"translate(65.897,119.695)\"><circle r=\"10.0\"></circle></g></g><g class=\"toytree-NodeLabels\" style=\"fill:rgb(14.9%,14.9%,14.9%);fill-opacity:1.0;font-size:9px;stroke:none\"><g transform=\"translate(182.85,211.02)\"><text>bat</text></g><g transform=\"translate(175.35,139.80)\"><text>human</text></g><g transform=\"translate(172.09,68.58)\"><text>pangolin</text></g><g transform=\"translate(125.00,175.41)\"><text>3</text></g><g transform=\"translate(63.40,121.99)\"><text>4</text></g></g><g class=\"toytree-TipLabels\" style=\"fill:rgb(14.9%,14.9%,14.9%);fill-opacity:1.0;font-family:helvetica;font-size:11px;font-weight:normal;stroke:none;white-space:pre\"><g transform=\"translate(189.10,208.72)rotate(0)\"><text x=\"15.00\" y=\"2.81\" style=\"\">0</text></g><g transform=\"translate(189.10,137.50)rotate(0)\"><text x=\"15.00\" y=\"2.81\" style=\"\">0</text></g><g transform=\"translate(189.10,66.28)rotate(0)\"><text x=\"15.00\" y=\"2.81\" style=\"\">1</text></g></g></g></g></g></svg><div class=\"toyplot-behavior\"><script>(function()\n",
       "{\n",
       "var modules={};\n",
       "})();</script></div></div>"
      ]
     },
     "metadata": {},
     "output_type": "display_data"
    }
   ],
   "source": [
    "# p1_hidden3 (1 points)\n",
    "### BEGIN HIDDEN TESTS\n",
    "tree = toytree.tree(\"((human, bat),pangolin);\")\n",
    "leaf_states = {\"human\": \"0\", \"bat\": \"0\", \"pangolin\": \"1\"}\n",
    "binary_alphabet = \"01\"\n",
    "binary_cost_matrix = submatrix.match_mismatch_matrix(0, 1, binary_alphabet)\n",
    "draw_tree_with_internal_labels(tree, leaf_states)\n",
    "cost, states = weighted_parsimony(tree, leaf_states, binary_cost_matrix, binary_alphabet)\n",
    "assert cost == 1\n",
    "assert states == {'4': '0', 'pangolin': '1', '3': '0', 'human': '0', 'bat': '0'}\n",
    "print(\"SUCCESS: hidden3 test case passed!\")\n",
    "### END HIDDEN TESTS"
   ]
  }
 ],
 "metadata": {
  "celltoolbar": "Create Assignment",
  "kernelspec": {
   "display_name": "Python 3 [3.10]",
   "language": "python",
   "name": "python3"
  },
  "language_info": {
   "codemirror_mode": {
    "name": "ipython",
    "version": 3
   },
   "file_extension": ".py",
   "mimetype": "text/x-python",
   "name": "python",
   "nbconvert_exporter": "python",
   "pygments_lexer": "ipython3",
   "version": "3.10.2"
  },
  "varInspector": {
   "cols": {
    "lenName": 16,
    "lenType": 16,
    "lenVar": 40
   },
   "kernels_config": {
    "python": {
     "delete_cmd_postfix": "",
     "delete_cmd_prefix": "del ",
     "library": "var_list.py",
     "varRefreshCmd": "print(var_dic_list())"
    },
    "r": {
     "delete_cmd_postfix": ") ",
     "delete_cmd_prefix": "rm(",
     "library": "var_list.r",
     "varRefreshCmd": "cat(var_dic_list()) "
    }
   },
   "types_to_exclude": [
    "module",
    "function",
    "builtin_function_or_method",
    "instance",
    "_Feature"
   ],
   "window_display": false
  }
 },
 "nbformat": 4,
 "nbformat_minor": 2
}
