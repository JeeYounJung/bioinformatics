{
 "cells": [
  {
   "cell_type": "markdown",
   "metadata": {
    "deletable": false,
    "editable": false,
    "nbgrader": {
     "grade": false,
     "grade_id": "cell-8f3b19b382b45fcd",
     "locked": true,
     "schema_version": 3,
     "solution": false
    }
   },
   "source": [
    "# BMI/CS 576 Fall 2023 - HW4\n",
    "The objectives of this homework are to practice with\n",
    "\n",
    "* weighted parsimony\n",
    "* tree space search\n",
    "* Markov chains\n",
    "\n",
    "\n",
    "## HW policies\n",
    "Before starting this homework, please read over the [homework policies](https://canvas.wisc.edu/courses/374201/pages/hw-policies) for this course.  In particular, note that homeworks are to be completed *individually* and plagiarism from any source (with the one exception noted below) will be considered **academic misconduct**.\n",
    "\n",
    "You are welcome to use any code from the weekly notebooks (including the official solutions) in your solutions to the HW."
   ]
  },
  {
   "cell_type": "markdown",
   "metadata": {
    "deletable": false,
    "editable": false,
    "nbgrader": {
     "grade": false,
     "grade_id": "modules_header",
     "locked": true,
     "schema_version": 3,
     "solution": false,
     "task": false
    }
   },
   "source": [
    "## Modules for this HW"
   ]
  },
  {
   "cell_type": "code",
   "execution_count": 1,
   "metadata": {
    "deletable": false,
    "editable": false,
    "nbgrader": {
     "grade": false,
     "grade_id": "modules",
     "locked": true,
     "schema_version": 3,
     "solution": false,
     "task": false
    }
   },
   "outputs": [],
   "source": [
    "import toytree\n",
    "import fasta\n",
    "import submatrix"
   ]
  },
  {
   "cell_type": "code",
   "execution_count": 2,
   "metadata": {},
   "outputs": [],
   "source": [
    "import math"
   ]
  },
  {
   "cell_type": "markdown",
   "metadata": {
    "deletable": false,
    "editable": false,
    "nbgrader": {
     "grade": false,
     "grade_id": "p1_description",
     "locked": true,
     "schema_version": 3,
     "solution": false,
     "task": false
    }
   },
   "source": [
    "## PROBLEM 1: Weighted parsimony (40 points)\n",
    "\n",
    "In this problem you will implement the [weighted parsimony algorithm](https://canvas.wisc.edu/courses/374201/pages/day-16-online-lecture-phylogenetic-trees-weighted-parsimony) (also see [worked example](https://canvas.wisc.edu/courses/374201/modules/items/6356958)) for computing the cost of a tree given assignments of characters to its leaves.  Implement this algorithm as a function `weighted_parsimony` below, which takes as input a tree, a dictionary giving the character at each leaf, a cost matrix, and a string specifying all valid characters (e.g., \"ACGT\").  Your function will output the minimum cost of the tree as well as a dictionary giving an assignment of characters to all nodes of the tree (including the leaves) that achieves the minimum cost.\n",
    "\n",
    "### Implementation details\n",
    "\n",
    "* In the case of a tie during the traceback (e.g., multiple characters at a child node that allow for the same minimum cost at the parent, or multiple characters at the root node that give the same minimum cost), pick the character that is lexicographically smallest.\n",
    "\n",
    "* You may find useful the form of the implementations of `fitch_score_and_min_cost_states` and `fitch_ancestral_states` in the Day 16 notebook for the fill and traceback stages, respectively.\n",
    "\n",
    "* To directly access the root node of a `toytree.tree` object, simply access its `treenode` attribute. \n",
    "\n",
    "Tests for Problem 1 are found at the bottom of this notebook."
   ]
  },
  {
   "cell_type": "markdown",
   "metadata": {
    "deletable": false,
    "editable": false,
    "nbgrader": {
     "grade": false,
     "grade_id": "cell-aeada4c6f9706531",
     "locked": true,
     "schema_version": 3,
     "solution": false,
     "task": false
    }
   },
   "source": [
    "### Cost matrices to be used in this assignment"
   ]
  },
  {
   "cell_type": "code",
   "execution_count": 3,
   "metadata": {
    "deletable": false,
    "editable": false,
    "nbgrader": {
     "grade": false,
     "grade_id": "cost_matrices",
     "locked": true,
     "schema_version": 3,
     "solution": false,
     "task": false
    }
   },
   "outputs": [
    {
     "name": "stdout",
     "output_type": "stream",
     "text": [
      "basic_dna_cost_matrix = \n",
      "         A    C    G    T\n",
      "    A    0    1    1    1\n",
      "    C    1    0    1    1\n",
      "    G    1    1    0    1\n",
      "    T    1    1    1    0\n",
      "purine_pyrimidine_cost_matrix = \n",
      "         A    C    G    T\n",
      "    A    0    2    1    2\n",
      "    C    2    0    2    1\n",
      "    G    1    2    0    2\n",
      "    T    2    1    2    0\n"
     ]
    }
   ],
   "source": [
    "DNA = \"ACGT\"\n",
    "basic_dna_cost_matrix = submatrix.match_mismatch_matrix(0, 1, DNA)\n",
    "purine_pyrimidine_cost_matrix = submatrix.read_substitution_matrix(\"purine_pyrimidine.txt\")\n",
    "\n",
    "print(\"basic_dna_cost_matrix = \")\n",
    "submatrix.print_matrix(basic_dna_cost_matrix)\n",
    "print(\"purine_pyrimidine_cost_matrix = \")\n",
    "submatrix.print_matrix(purine_pyrimidine_cost_matrix)"
   ]
  },
  {
   "cell_type": "code",
   "execution_count": 4,
   "metadata": {
    "nbgrader": {
     "grade": false,
     "grade_id": "weighted_parsimony",
     "locked": false,
     "schema_version": 3,
     "solution": true,
     "task": false
    }
   },
   "outputs": [],
   "source": [
    "def weighted_parsimony(tree, leaf_states, cost_matrix, alphabet = DNA):\n",
    "    \"\"\"Computes the minimum cost of a tree and an assignment of ancestral characters achieving that cost.   \n",
    "    Args:\n",
    "        tree: a toytree tree.\n",
    "        leaf_states: a dictionary mapping leaf names to characters.\n",
    "        cost_matrix: a cost matrix (represented as a dictionary with tuples as keys)\n",
    "           where cost_matrix[a, b] is the cost of a substitution between characters a and b\n",
    "        alphabet: a string specifying the possible character states that each node may take.\n",
    "    Returns:\n",
    "        A tuple (min_cost, node_states) where min_cost is the minimum cost of the tree (a numeric value)\n",
    "        and node_states is an assignment of characters to the nodes that achieves this minimum cost, \n",
    "        (a dictionary mapping node names to characters).\n",
    "    \"\"\"      \n",
    "    \n",
    "    score = [0,0,0,0]\n",
    "    # print(cost_matrix)\n",
    "    R = {}\n",
    "    #find minimum score\n",
    "    for node in tree.treenode.traverse(\"postorder\"):\n",
    "        if node.is_leaf():\n",
    "            R[node.name] = {leaf_states[node.name]}\n",
    "        else:\n",
    "            left, right = [R[child.name] for child in node.children]\n",
    "            states = left & right\n",
    "            if states:\n",
    "                R[node.name] = states\n",
    "                index = 0\n",
    "                if len(left) == 1:\n",
    "                    for i,j in cost_matrix:\n",
    "                        for k in left:\n",
    "                            if i == k:\n",
    "                                score[index] += cost_matrix[(i,j)]\n",
    "                                index += 1\n",
    "\n",
    "            else:\n",
    "                R[node.name] = left | right\n",
    "                minimum = math.inf\n",
    "                maximum = 0\n",
    "                if len(right) == 1:\n",
    "                    index = 0\n",
    "                    for i,j in cost_matrix:\n",
    "                        for k in right:\n",
    "                            if i == k:\n",
    "                                score[index] += cost_matrix[(i,j)]\n",
    "                                index += 1\n",
    "                index = 0\n",
    "                if len(left) == 1:\n",
    "                    for i,j in cost_matrix:\n",
    "                        for k in left:\n",
    "                            if i == k:\n",
    "                                score[index] += cost_matrix[(i,j)]\n",
    "                                index += 1\n",
    "     \n",
    "    #find r   \n",
    "    r = {} \n",
    "    for node in tree.treenode.traverse(\"preorder\"):\n",
    "        if node.is_root():\n",
    "            find = math.inf\n",
    "            index = 0\n",
    "            for i in range(len(score)):\n",
    "                if score[i] < find:\n",
    "                    find = score[i]\n",
    "                    index = i\n",
    "            r[node.name] = sorted(alphabet)[index]\n",
    "        else:\n",
    "            p = node.up\n",
    "            if r[p.name] not in R[node.name]:\n",
    "                if len(R[node.name]) == 1:\n",
    "                    r[node.name] = sorted(R[node.name])[0]\n",
    "                else:\n",
    "                    find = math.inf\n",
    "                    index = 0\n",
    "                    for i in range(len(score)):\n",
    "                        if score[i] < find:\n",
    "                            find = score[i]\n",
    "                            index = i\n",
    "                    r[node.name] = sorted(alphabet)[index]\n",
    "            else:\n",
    "                r[node.name] = r[p.name]\n",
    "    # print(score, min(score), r)\n",
    "    return min(score), r"
   ]
  },
  {
   "cell_type": "markdown",
   "metadata": {},
   "source": [
    "## Helper functions\n",
    "\n",
    "You may find the function below helpful for visualizing trees and the names of its nodes."
   ]
  },
  {
   "cell_type": "code",
   "execution_count": 5,
   "metadata": {},
   "outputs": [
    {
     "data": {
      "text/html": [
       "<div class=\"toyplot\" id=\"t4c6bb80bd21640f58d9b3e5d8a10d165\" style=\"text-align:center\"><svg class=\"toyplot-canvas-Canvas\" xmlns:toyplot=\"http://www.sandia.gov/toyplot\" xmlns:xlink=\"http://www.w3.org/1999/xlink\" xmlns=\"http://www.w3.org/2000/svg\" width=\"255.0px\" height=\"275.0px\" viewBox=\"0 0 255.0 275.0\" preserveAspectRatio=\"xMidYMid meet\" style=\"background-color:transparent;border-color:#292724;border-style:none;border-width:1.0;fill:rgb(16.1%,15.3%,14.1%);fill-opacity:1.0;font-family:Helvetica;font-size:12px;opacity:1.0;stroke:rgb(16.1%,15.3%,14.1%);stroke-opacity:1.0;stroke-width:1.0\" id=\"tac748e935a7e46e39ee45dd1d1daf5a1\"><g class=\"toyplot-coordinates-Cartesian\" id=\"t8336d2d7eaf74aa99611945c3dbefba0\"><clipPath id=\"tfa8452fabada4a4da8c91500cffd0724\"><rect x=\"30.0\" y=\"30.0\" width=\"195.0\" height=\"215.0\"></rect></clipPath><g clip-path=\"url(#tfa8452fabada4a4da8c91500cffd0724)\"><g class=\"toytree-mark-Toytree\" id=\"te50d3b0c0cd74a029bede866b2517fcc\"><g class=\"toytree-Edges\" style=\"fill:none;stroke:rgb(14.9%,14.9%,14.9%);stroke-linecap:round;stroke-opacity:1;stroke-width:2\"><path d=\"M 65.9 119.7 L 65.9 173.1 L 127.5 173.1\" id=\"4,3\"></path><path d=\"M 65.9 119.7 L 65.9 66.3 L 189.1 66.3\" id=\"4,2\"></path><path d=\"M 127.5 173.1 L 127.5 137.5 L 189.1 137.5\" id=\"3,1\"></path><path d=\"M 127.5 173.1 L 127.5 208.7 L 189.1 208.7\" id=\"3,0\"></path></g><g class=\"toytree-Nodes\" style=\"fill:rgb(40%,76.1%,64.7%);fill-opacity:1.0;stroke:None;stroke-width:1\"><g id=\"node-0\" transform=\"translate(189.103,208.721)\"><circle r=\"10.0\"></circle></g><g id=\"node-1\" transform=\"translate(189.103,137.500)\"><circle r=\"10.0\"></circle></g><g id=\"node-2\" transform=\"translate(189.103,66.279)\"><circle r=\"10.0\"></circle></g><g id=\"node-3\" transform=\"translate(127.500,173.110)\"><circle r=\"10.0\"></circle></g><g id=\"node-4\" transform=\"translate(65.897,119.695)\"><circle r=\"10.0\"></circle></g></g><g class=\"toytree-NodeLabels\" style=\"fill:rgb(14.9%,14.9%,14.9%);fill-opacity:1.0;font-size:9px;stroke:none\"><g transform=\"translate(186.10,211.02)\"><text>Y</text></g><g transform=\"translate(186.10,139.80)\"><text>X</text></g><g transform=\"translate(186.35,68.58)\"><text>Z</text></g><g transform=\"translate(125.00,175.41)\"><text>3</text></g><g transform=\"translate(63.40,121.99)\"><text>4</text></g></g><g class=\"toytree-TipLabels\" style=\"fill:rgb(14.9%,14.9%,14.9%);fill-opacity:1.0;font-family:helvetica;font-size:11px;font-weight:normal;stroke:none;white-space:pre\"><g transform=\"translate(189.10,208.72)rotate(0)\"><text x=\"15.00\" y=\"2.81\" style=\"\">T</text></g><g transform=\"translate(189.10,137.50)rotate(0)\"><text x=\"15.00\" y=\"2.81\" style=\"\">C</text></g><g transform=\"translate(189.10,66.28)rotate(0)\"><text x=\"15.00\" y=\"2.81\" style=\"\">A</text></g></g></g></g></g></svg><div class=\"toyplot-behavior\"><script>(function()\n",
       "{\n",
       "var modules={};\n",
       "})();</script></div></div>"
      ]
     },
     "metadata": {},
     "output_type": "display_data"
    }
   ],
   "source": [
    "def draw_tree_with_internal_labels(t, leaf_states=None):\n",
    "    \"\"\"Draws the given toytree tree with all nodes labeled and \n",
    "    (optionally) with character assignments to the leaves.\n",
    "    Args:\n",
    "        tree: a toytree tree.\n",
    "        leaf_states: a dictionary mapping leaf names to characters.\n",
    "    \"\"\"\n",
    "    if leaf_states:\n",
    "        tip_labels = [leaf_states[leaf_name] for leaf_name in t.get_tip_labels()]\n",
    "    else:\n",
    "        tip_labels = False\n",
    "    t.draw(node_labels=t.get_node_values(feature=\"name\", show_root=True, show_tips=True),\n",
    "           tip_labels=tip_labels,\n",
    "           node_sizes=20,\n",
    "           use_edge_lengths=False)\n",
    "\n",
    "# Example usage:\n",
    "t = toytree.tree(\"(Z,(X,Y));\")\n",
    "leaf_states = {\"X\": \"C\", \"Y\": \"T\", \"Z\": \"A\"}\n",
    "draw_tree_with_internal_labels(t, leaf_states)"
   ]
  },
  {
   "cell_type": "markdown",
   "metadata": {
    "deletable": false,
    "editable": false,
    "nbgrader": {
     "grade": false,
     "grade_id": "cell-a5011d6caa369062",
     "locked": true,
     "schema_version": 3,
     "solution": false,
     "task": false
    }
   },
   "source": [
    "## PROBLEM 2: Human coronavirus phylogeny (20 POINTS)\n",
    "\n",
    "There are many types of coronaviruses that can infect humans, some of which are quite common and cause a subset of common cold cases.  It is helpful to understand the phylogenetic relationships and between these viruses and their related evolutionary histories.  Included with this assignment is a multiple sequence alignment (`human_coronavirus_rdrp.fasta`) of the RNA-dependent RNA polymerase (RdRP) gene from six human coronavirus genomes (SARS-CoV-2, SARS_CoV_1, MERS, OC43, HKU1, and CoV229E).  For simplicity and efficiently, all gapped columns and all uninformative columns (no differences within the column) have been removed from this alignment.\n",
    "\n",
    "In this problem, we will use your `weighted_parsimony` function from problem 1 to analyze the evolutionary relationships between these viruses.  If your `weighted_parsimony` function is incorrect, you may use the unweighted parsimony algorithms implemented in the Day 16 notebook instead."
   ]
  },
  {
   "cell_type": "markdown",
   "metadata": {
    "deletable": false,
    "editable": false,
    "nbgrader": {
     "grade": false,
     "grade_id": "cell-a5ddd6c6047416ba",
     "locked": true,
     "schema_version": 3,
     "solution": false,
     "task": false
    }
   },
   "source": [
    "**(a)** Using your `weighted_parsimony` function, compute the weighted parsimony score for all possible rooted trees of these six viral genomes, assuming CoV229E is the outgroup.  For your convenience, the file `all_rooted_trees.txt` contains the newick strings for all such trees.  Use `purine_pyrimidine_cost_matrix` as the cost matrix for your weighted parsimony computations.  *Hint: You will likely want to use slightly modified versions of functions and code from the Day 16 notebook for this problem*."
   ]
  },
  {
   "cell_type": "code",
   "execution_count": 6,
   "metadata": {},
   "outputs": [],
   "source": [
    "def alignment_leaf_states_list(alignment, sequence_names):\n",
    "    \"\"\"Returns a list of dictionaries, where each dictionary corresponds to the leaf states\n",
    "    for a column of the alignment.\"\"\"\n",
    "    return [dict(zip(sequence_names, column)) for column in zip(*alignment)]\n",
    "\n",
    "def score_tree_parsimony(tree, alignment, sequence_names):\n",
    "    \"\"\"Computes the parsimony score for a given tree and alignment.\n",
    "    \n",
    "    Args:\n",
    "        tree: a toytree tree object\n",
    "        alignment: a list of strings corresponding to the rows of a multiple alignment.\n",
    "        sequence_names: a list of the names of the sequences in the same order as the\n",
    "                        rows of the multiple alignment.\n",
    "    Returns:\n",
    "        The parsimony score (a number)\n",
    "    \"\"\"\n",
    "    fitch = []\n",
    "    # column_scores, column_Rs = zip(*fitch_results)\n",
    "    for i in alignment_leaf_states_list(alignment, sequence_names):\n",
    "        fitch += [weighted_parsimony(tree, i, purine_pyrimidine_cost_matrix)]\n",
    "    a, b = zip(*fitch)\n",
    "    return sum(a)"
   ]
  },
  {
   "cell_type": "code",
   "execution_count": 7,
   "metadata": {
    "nbgrader": {
     "grade": true,
     "grade_id": "p2a",
     "locked": false,
     "points": 10,
     "schema_version": 3,
     "solution": true,
     "task": false
    }
   },
   "outputs": [
    {
     "data": {
      "text/plain": [
       "[(5906, '(CoV229E,((((SARS-CoV-2,SARS_CoV_1),MERS),OC43),HKU1));'),\n",
       " (6293, '(CoV229E,((((SARS-CoV-2,MERS),SARS_CoV_1),OC43),HKU1));'),\n",
       " (6304, '(CoV229E,(((SARS-CoV-2,(SARS_CoV_1,MERS)),OC43),HKU1));'),\n",
       " (5618, '(CoV229E,((((SARS-CoV-2,SARS_CoV_1),OC43),MERS),HKU1));'),\n",
       " (5983, '(CoV229E,((((SARS-CoV-2,OC43),SARS_CoV_1),MERS),HKU1));'),\n",
       " (5987, '(CoV229E,(((SARS-CoV-2,(SARS_CoV_1,OC43)),MERS),HKU1));'),\n",
       " (5518, '(CoV229E,(((SARS-CoV-2,SARS_CoV_1),(MERS,OC43)),HKU1));'),\n",
       " (5629, '(CoV229E,((((SARS-CoV-2,MERS),OC43),SARS_CoV_1),HKU1));'),\n",
       " (5666, '(CoV229E,((((SARS-CoV-2,OC43),MERS),SARS_CoV_1),HKU1));'),\n",
       " (5840, '(CoV229E,(((SARS-CoV-2,(MERS,OC43)),SARS_CoV_1),HKU1));'),\n",
       " (5535, '(CoV229E,(((SARS-CoV-2,MERS),(SARS_CoV_1,OC43)),HKU1));'),\n",
       " (5554, '(CoV229E,(((SARS-CoV-2,OC43),(SARS_CoV_1,MERS)),HKU1));'),\n",
       " (5649, '(CoV229E,((SARS-CoV-2,((SARS_CoV_1,MERS),OC43)),HKU1));'),\n",
       " (5673, '(CoV229E,((SARS-CoV-2,((SARS_CoV_1,OC43),MERS)),HKU1));'),\n",
       " (5848, '(CoV229E,((SARS-CoV-2,(SARS_CoV_1,(MERS,OC43))),HKU1));'),\n",
       " (5903, '(CoV229E,((((SARS-CoV-2,SARS_CoV_1),MERS),HKU1),OC43));'),\n",
       " (6288, '(CoV229E,((((SARS-CoV-2,MERS),SARS_CoV_1),HKU1),OC43));'),\n",
       " (6321, '(CoV229E,(((SARS-CoV-2,(SARS_CoV_1,MERS)),HKU1),OC43));'),\n",
       " (5623, '(CoV229E,((((SARS-CoV-2,SARS_CoV_1),HKU1),MERS),OC43));'),\n",
       " (5980, '(CoV229E,((((SARS-CoV-2,HKU1),SARS_CoV_1),MERS),OC43));'),\n",
       " (6012, '(CoV229E,(((SARS-CoV-2,(SARS_CoV_1,HKU1)),MERS),OC43));'),\n",
       " (5513, '(CoV229E,(((SARS-CoV-2,SARS_CoV_1),(MERS,HKU1)),OC43));'),\n",
       " (5643, '(CoV229E,((((SARS-CoV-2,MERS),HKU1),SARS_CoV_1),OC43));'),\n",
       " (5672, '(CoV229E,((((SARS-CoV-2,HKU1),MERS),SARS_CoV_1),OC43));'),\n",
       " (5869, '(CoV229E,(((SARS-CoV-2,(MERS,HKU1)),SARS_CoV_1),OC43));'),\n",
       " (5532, '(CoV229E,(((SARS-CoV-2,MERS),(SARS_CoV_1,HKU1)),OC43));'),\n",
       " (5550, '(CoV229E,(((SARS-CoV-2,HKU1),(SARS_CoV_1,MERS)),OC43));'),\n",
       " (5631, '(CoV229E,((SARS-CoV-2,((SARS_CoV_1,MERS),HKU1)),OC43));'),\n",
       " (5654, '(CoV229E,((SARS-CoV-2,((SARS_CoV_1,HKU1),MERS)),OC43));'),\n",
       " (5819, '(CoV229E,((SARS-CoV-2,(SARS_CoV_1,(MERS,HKU1))),OC43));'),\n",
       " (5499, '(CoV229E,(((SARS-CoV-2,SARS_CoV_1),MERS),(OC43,HKU1)));'),\n",
       " (5773, '(CoV229E,(((SARS-CoV-2,MERS),SARS_CoV_1),(OC43,HKU1)));'),\n",
       " (5800, '(CoV229E,((SARS-CoV-2,(SARS_CoV_1,MERS)),(OC43,HKU1)));'),\n",
       " (5855, '(CoV229E,((((SARS-CoV-2,SARS_CoV_1),OC43),HKU1),MERS));'),\n",
       " (5984, '(CoV229E,((((SARS-CoV-2,OC43),SARS_CoV_1),HKU1),MERS));'),\n",
       " (5981, '(CoV229E,(((SARS-CoV-2,(SARS_CoV_1,OC43)),HKU1),MERS));'),\n",
       " (5858, '(CoV229E,((((SARS-CoV-2,SARS_CoV_1),HKU1),OC43),MERS));'),\n",
       " (5981, '(CoV229E,((((SARS-CoV-2,HKU1),SARS_CoV_1),OC43),MERS));'),\n",
       " (5984, '(CoV229E,(((SARS-CoV-2,(SARS_CoV_1,HKU1)),OC43),MERS));'),\n",
       " (5470, '(CoV229E,(((SARS-CoV-2,SARS_CoV_1),(OC43,HKU1)),MERS));'),\n",
       " (5978, '(CoV229E,((((SARS-CoV-2,OC43),HKU1),SARS_CoV_1),MERS));'),\n",
       " (5972, '(CoV229E,((((SARS-CoV-2,HKU1),OC43),SARS_CoV_1),MERS));'),\n",
       " (5825, '(CoV229E,(((SARS-CoV-2,(OC43,HKU1)),SARS_CoV_1),MERS));'),\n",
       " (5506, '(CoV229E,(((SARS-CoV-2,OC43),(SARS_CoV_1,HKU1)),MERS));'),\n",
       " (5505, '(CoV229E,(((SARS-CoV-2,HKU1),(SARS_CoV_1,OC43)),MERS));'),\n",
       " (5999, '(CoV229E,((SARS-CoV-2,((SARS_CoV_1,OC43),HKU1)),MERS));'),\n",
       " (6002, '(CoV229E,((SARS-CoV-2,((SARS_CoV_1,HKU1),OC43)),MERS));'),\n",
       " (5850, '(CoV229E,((SARS-CoV-2,(SARS_CoV_1,(OC43,HKU1))),MERS));'),\n",
       " (5516, '(CoV229E,(((SARS-CoV-2,SARS_CoV_1),OC43),(MERS,HKU1)));'),\n",
       " (5777, '(CoV229E,(((SARS-CoV-2,OC43),SARS_CoV_1),(MERS,HKU1)));'),\n",
       " (5762, '(CoV229E,((SARS-CoV-2,(SARS_CoV_1,OC43)),(MERS,HKU1)));'),\n",
       " (5520, '(CoV229E,(((SARS-CoV-2,SARS_CoV_1),HKU1),(MERS,OC43)));'),\n",
       " (5770, '(CoV229E,(((SARS-CoV-2,HKU1),SARS_CoV_1),(MERS,OC43)));'),\n",
       " (5776, '(CoV229E,((SARS-CoV-2,(SARS_CoV_1,HKU1)),(MERS,OC43)));'),\n",
       " (5808, '(CoV229E,((SARS-CoV-2,SARS_CoV_1),((MERS,OC43),HKU1)));'),\n",
       " (5807, '(CoV229E,((SARS-CoV-2,SARS_CoV_1),((MERS,HKU1),OC43)));'),\n",
       " (5527, '(CoV229E,((SARS-CoV-2,SARS_CoV_1),(MERS,(OC43,HKU1))));'),\n",
       " (5852, '(CoV229E,((((SARS-CoV-2,MERS),OC43),HKU1),SARS_CoV_1));'),\n",
       " (5655, '(CoV229E,((((SARS-CoV-2,OC43),MERS),HKU1),SARS_CoV_1));'),\n",
       " (5616, '(CoV229E,(((SARS-CoV-2,(MERS,OC43)),HKU1),SARS_CoV_1));'),\n",
       " (5880, '(CoV229E,((((SARS-CoV-2,MERS),HKU1),OC43),SARS_CoV_1));'),\n",
       " (5673, '(CoV229E,((((SARS-CoV-2,HKU1),MERS),OC43),SARS_CoV_1));'),\n",
       " (5637, '(CoV229E,(((SARS-CoV-2,(MERS,HKU1)),OC43),SARS_CoV_1));'),\n",
       " (5520, '(CoV229E,(((SARS-CoV-2,MERS),(OC43,HKU1)),SARS_CoV_1));'),\n",
       " (5959, '(CoV229E,((((SARS-CoV-2,OC43),HKU1),MERS),SARS_CoV_1));'),\n",
       " (5951, '(CoV229E,((((SARS-CoV-2,HKU1),OC43),MERS),SARS_CoV_1));'),\n",
       " (5600, '(CoV229E,(((SARS-CoV-2,(OC43,HKU1)),MERS),SARS_CoV_1));'),\n",
       " (5537, '(CoV229E,(((SARS-CoV-2,OC43),(MERS,HKU1)),SARS_CoV_1));'),\n",
       " (5538, '(CoV229E,(((SARS-CoV-2,HKU1),(MERS,OC43)),SARS_CoV_1));'),\n",
       " (6318, '(CoV229E,((SARS-CoV-2,((MERS,OC43),HKU1)),SARS_CoV_1));'),\n",
       " (6301, '(CoV229E,((SARS-CoV-2,((MERS,HKU1),OC43)),SARS_CoV_1));'),\n",
       " (5944, '(CoV229E,((SARS-CoV-2,(MERS,(OC43,HKU1))),SARS_CoV_1));'),\n",
       " (5483, '(CoV229E,(((SARS-CoV-2,MERS),OC43),(SARS_CoV_1,HKU1)));'),\n",
       " (5516, '(CoV229E,(((SARS-CoV-2,OC43),MERS),(SARS_CoV_1,HKU1)));'),\n",
       " (5499, '(CoV229E,((SARS-CoV-2,(MERS,OC43)),(SARS_CoV_1,HKU1)));'),\n",
       " (5496, '(CoV229E,(((SARS-CoV-2,MERS),HKU1),(SARS_CoV_1,OC43)));'),\n",
       " (5510, '(CoV229E,(((SARS-CoV-2,HKU1),MERS),(SARS_CoV_1,OC43)));'),\n",
       " (5517, '(CoV229E,((SARS-CoV-2,(MERS,HKU1)),(SARS_CoV_1,OC43)));'),\n",
       " (5773, '(CoV229E,((SARS-CoV-2,MERS),((SARS_CoV_1,OC43),HKU1)));'),\n",
       " (5781, '(CoV229E,((SARS-CoV-2,MERS),((SARS_CoV_1,HKU1),OC43)));'),\n",
       " (5526, '(CoV229E,((SARS-CoV-2,MERS),(SARS_CoV_1,(OC43,HKU1))));'),\n",
       " (5785, '(CoV229E,(((SARS-CoV-2,OC43),HKU1),(SARS_CoV_1,MERS)));'),\n",
       " (5771, '(CoV229E,(((SARS-CoV-2,HKU1),OC43),(SARS_CoV_1,MERS)));'),\n",
       " (5524, '(CoV229E,((SARS-CoV-2,(OC43,HKU1)),(SARS_CoV_1,MERS)));'),\n",
       " (5492, '(CoV229E,((SARS-CoV-2,OC43),((SARS_CoV_1,MERS),HKU1)));'),\n",
       " (5487, '(CoV229E,((SARS-CoV-2,OC43),((SARS_CoV_1,HKU1),MERS)));'),\n",
       " (5487, '(CoV229E,((SARS-CoV-2,OC43),(SARS_CoV_1,(MERS,HKU1))));'),\n",
       " (5503, '(CoV229E,((SARS-CoV-2,HKU1),((SARS_CoV_1,MERS),OC43)));'),\n",
       " (5490, '(CoV229E,((SARS-CoV-2,HKU1),((SARS_CoV_1,OC43),MERS)));'),\n",
       " (5493, '(CoV229E,((SARS-CoV-2,HKU1),(SARS_CoV_1,(MERS,OC43))));'),\n",
       " (5882, '(CoV229E,(SARS-CoV-2,(((SARS_CoV_1,MERS),OC43),HKU1)));'),\n",
       " (5643, '(CoV229E,(SARS-CoV-2,(((SARS_CoV_1,OC43),MERS),HKU1)));'),\n",
       " (5612, '(CoV229E,(SARS-CoV-2,((SARS_CoV_1,(MERS,OC43)),HKU1)));'),\n",
       " (5855, '(CoV229E,(SARS-CoV-2,(((SARS_CoV_1,MERS),HKU1),OC43)));'),\n",
       " (5635, '(CoV229E,(SARS-CoV-2,(((SARS_CoV_1,HKU1),MERS),OC43)));'),\n",
       " (5596, '(CoV229E,(SARS-CoV-2,((SARS_CoV_1,(MERS,HKU1)),OC43)));'),\n",
       " (5530, '(CoV229E,(SARS-CoV-2,((SARS_CoV_1,MERS),(OC43,HKU1))));'),\n",
       " (5972, '(CoV229E,(SARS-CoV-2,(((SARS_CoV_1,OC43),HKU1),MERS)));'),\n",
       " (5995, '(CoV229E,(SARS-CoV-2,(((SARS_CoV_1,HKU1),OC43),MERS)));'),\n",
       " (5610, '(CoV229E,(SARS-CoV-2,((SARS_CoV_1,(OC43,HKU1)),MERS)));'),\n",
       " (5528, '(CoV229E,(SARS-CoV-2,((SARS_CoV_1,OC43),(MERS,HKU1))));'),\n",
       " (5530, '(CoV229E,(SARS-CoV-2,((SARS_CoV_1,HKU1),(MERS,OC43))));'),\n",
       " (6306, '(CoV229E,(SARS-CoV-2,(SARS_CoV_1,((MERS,OC43),HKU1))));'),\n",
       " (6311, '(CoV229E,(SARS-CoV-2,(SARS_CoV_1,((MERS,HKU1),OC43))));'),\n",
       " (5925, '(CoV229E,(SARS-CoV-2,(SARS_CoV_1,(MERS,(OC43,HKU1)))));')]"
      ]
     },
     "execution_count": 7,
     "metadata": {},
     "output_type": "execute_result"
    }
   ],
   "source": [
    "ans = []\n",
    "leafs = fasta.read_sequences_from_fasta_file(\"human_coronavirus_rdrp.fasta\")\n",
    "leaf = {}\n",
    "for name, val in leafs:\n",
    "    leaf[name] = val\n",
    "\n",
    "with open(\"all_rooted_trees.txt\") as f:\n",
    "    treeList = f.read().splitlines()\n",
    "\n",
    "     \n",
    "for i in treeList:\n",
    "    tree = toytree.tree(i)\n",
    "    # tree.root(wildcard=\"CoV229E\")\n",
    "    # print(score_tree_parsimony(tree,leaf.values(),leaf.keys()), i)\n",
    "    ans.append((score_tree_parsimony(tree,leaf.values(),leaf.keys()), i))\n",
    "    \n",
    "ans"
   ]
  },
  {
   "cell_type": "markdown",
   "metadata": {
    "deletable": false,
    "editable": false,
    "nbgrader": {
     "grade": false,
     "grade_id": "p2b_description",
     "locked": true,
     "schema_version": 3,
     "solution": false,
     "task": false
    }
   },
   "source": [
    "**(b)** List the scores and trees for the **3** trees with the smallest weighted parsimony scores.  Given that these trees have similar scores, for what aspect of the true tree is there the most uncertainty?"
   ]
  },
  {
   "cell_type": "code",
   "execution_count": 8,
   "metadata": {
    "nbgrader": {
     "grade": true,
     "grade_id": "p2b",
     "locked": false,
     "points": 5,
     "schema_version": 3,
     "solution": true,
     "task": false
    }
   },
   "outputs": [
    {
     "data": {
      "text/plain": [
       "[(5470, '(CoV229E,(((SARS-CoV-2,SARS_CoV_1),(OC43,HKU1)),MERS));'),\n",
       " (5483, '(CoV229E,(((SARS-CoV-2,MERS),OC43),(SARS_CoV_1,HKU1)));'),\n",
       " (5487, '(CoV229E,((SARS-CoV-2,OC43),((SARS_CoV_1,HKU1),MERS)));')]"
      ]
     },
     "execution_count": 8,
     "metadata": {},
     "output_type": "execute_result"
    }
   ],
   "source": [
    "sortTree = sorted(ans, key=lambda x: x[0])\n",
    "\n",
    "sortTree[:3] "
   ]
  },
  {
   "cell_type": "markdown",
   "metadata": {
    "deletable": false,
    "editable": false,
    "nbgrader": {
     "grade": false,
     "grade_id": "p2c_description",
     "locked": true,
     "schema_version": 3,
     "solution": false,
     "task": false
    }
   },
   "source": [
    "**(c)** For the tree with the smallest score, use the results of your `weighted_parsimony` function to construct the ancestral sequence at the root node of the tree.  Save this sequence to a file `ancestor.fasta` in FASTA format. *Hint: You will likely want to use slightly modified versions of functions and code from the Day 16 notebook for this problem*"
   ]
  },
  {
   "cell_type": "code",
   "execution_count": 9,
   "metadata": {
    "nbgrader": {
     "grade": true,
     "grade_id": "p2c",
     "locked": false,
     "points": 5,
     "schema_version": 3,
     "solution": true,
     "task": false
    }
   },
   "outputs": [],
   "source": [
    "def compute_ancestral_sequences(tree, alignment, sequence_names):\n",
    "    \"\"\"Computes (reconstructed) sequences for all nodes in the given tree, given a multiple alignment.\n",
    "    \n",
    "    Args:\n",
    "        tree: a toytree tree object\n",
    "        alignment: a list of strings corresponding to the rows of a multiple alignment.\n",
    "        sequence_names: a list of the names of the sequences in the same order as the\n",
    "                        rows of the multiple alignment.\n",
    "    Returns:\n",
    "        A dictionary mapping node names to strings (reconstructed sequences).\n",
    "    \"\"\"\n",
    "    for i,j in sortTree:\n",
    "        tree = toytree.tree(j)\n",
    "        fitch_results = [weighted_parsimony(tree, leaf_states, purine_pyrimidine_cost_matrix)\n",
    "                         for leaf_states in alignment_leaf_states_list(alignment, sequence_names)]\n",
    "        column_scores, column_Rs = zip(*fitch_results)\n",
    "        node_names = [node.name for node in tree.treenode.traverse(\"postorder\")]\n",
    "        full_alignment = [''.join([states[name] for states in column_Rs]) for name in node_names]\n",
    "    return {name: sequence for name, sequence in zip(node_names, full_alignment)}"
   ]
  },
  {
   "cell_type": "code",
   "execution_count": 10,
   "metadata": {},
   "outputs": [],
   "source": [
    "first_sequences = compute_ancestral_sequences(sortTree[0],leaf.values(),leaf.keys())"
   ]
  },
  {
   "cell_type": "code",
   "execution_count": 11,
   "metadata": {},
   "outputs": [],
   "source": [
    "def write_sequences_to_fasta_file(sequences, filename, wrap_width=70):\n",
    "    \"\"\"Writes all sequence records in the list sequences\n",
    "    to the file specified by filename in FASTA format.\n",
    "    Each record should be represented by a tuple (name, sequence)\"\"\"\n",
    "    with open(filename, 'w') as f:\n",
    "        for name, sequence in sequences.items():\n",
    "            print(\">\" + name, file=f)\n",
    "            print(wrap_sequence(sequence, wrap_width), file=f)\n",
    "            \n",
    "def wrap_sequence(s, width):\n",
    "    return \"\\n\".join(s[start: start + width] for start in range(0, len(s), width))"
   ]
  },
  {
   "cell_type": "code",
   "execution_count": 12,
   "metadata": {},
   "outputs": [],
   "source": [
    "file_name = \"ancestor.fasta\"\n",
    "write_sequences_to_fasta_file(first_sequences,file_name)"
   ]
  },
  {
   "cell_type": "markdown",
   "metadata": {
    "deletable": false,
    "editable": false,
    "nbgrader": {
     "grade": false,
     "grade_id": "cell-fcf5590f2e8a7255",
     "locked": true,
     "schema_version": 3,
     "solution": false,
     "task": false
    }
   },
   "source": [
    "## PROBLEM 3: Branch and Bound with unweighted Parsimony (25 points)\n",
    "\n",
    "Suppose we wish to find an unrooted tree with the minimum unweighted parsimony score for five taxa: 1,2,3,4,and 5, which have character states $A, C, C, A, C$, respectively.  In this problem, we will use the first branch and bound method described in the [Day 16 Tree space search lecture](https://canvas.wisc.edu/courses/374201/pages/day-16-online-lecture-phylogenetic-trees-tree-space-search) (slide 7: \"Exact Method: Branch and Bound\") to find such a tree.  We will use the unweighted parsimony score of a partial tree as the lower bound for the score of a full tree that may be built from it.\n",
    "\n",
    "**(a)** Manually run the branch and bound algorithm on these data starting with the unrooted tree containg taxa 1, 2, and 3.  At the end of each iteration of the algorithm, list the elements (as newick strings) of the queue with their lower bounds. You do *not* need to show your work with respect to computing the parsimony score of each (partial) tree.\n",
    "\n",
    "**(b)** For how many (partial) trees did you have to compute a parsimony score during the algorithm in part (a)?  How does this compare to the number of possible unrooted trees of five taxa?"
   ]
  },
  {
   "cell_type": "markdown",
   "metadata": {
    "nbgrader": {
     "grade": true,
     "grade_id": "p3a",
     "locked": false,
     "points": 21,
     "schema_version": 3,
     "solution": true,
     "task": false
    }
   },
   "source": [
    "###\n",
    "### Your solution to Problem 3a here\n",
    "###\n"
   ]
  },
  {
   "cell_type": "markdown",
   "metadata": {},
   "source": [
    "**(A)**\n",
    "\n",
    "Round 1:\n",
    "(1,2,3) \n",
    "\n",
    "Round2 : (1,2,3) -> (1,2,3,4), (1,2,3,5)\\\n",
    "Q : [(1,2,3,4), (1,2,3,5)]\n",
    "\n",
    "i) (1,2,3,4)\\\n",
    "tree: ((1,4),2,3) score = 1\\\n",
    "tree: ((1,2),3,4) score = 2\\\n",
    "tree: ((1,3),2,4) score = 2\n",
    "\n",
    "ii) (1,2,3,5)\\\n",
    "tree: ((1,2),3,5) score = 1\\\n",
    "tree: ((1,3),2,5) score = 1\\\n",
    "tree: ((1,5),2,3) score = 1\n",
    "\n",
    "\n",
    "Round3: (1,2,3,4) -> (1,2,3,4,5)\\\n",
    "Q : [(1,2,3,4,5)]\n",
    "\n",
    "tree: ((1,4),(2,5),3) score = 1\\\n",
    "tree: ((1,4),(3,5),2) score = 1\\\n",
    "tree: (((1,4),5),2,3) score = 1\\\n",
    "tree: (((1,5),4),2,3) score = 2\\\n",
    "tree: (((4,5),1),2,3) score = 2\n"
   ]
  },
  {
   "cell_type": "markdown",
   "metadata": {
    "nbgrader": {
     "grade": true,
     "grade_id": "p3b",
     "locked": false,
     "points": 4,
     "schema_version": 3,
     "solution": true,
     "task": false
    }
   },
   "source": [
    "###\n",
    "### Your solution to Problem 3b here\n",
    "###\n"
   ]
  },
  {
   "cell_type": "markdown",
   "metadata": {},
   "source": [
    "**(b)**\n",
    "\n",
    "I made 11 tree to to compute a parsimony score during the algorithm in part a.\n",
    "\n",
    "the number of possible unrooted trees of five taxa -> (2n-5)!!\\\n",
    "(2*5 -5)!! = (10 -5)!! = (5)!! = 5 * 3 * 1 = 15"
   ]
  },
  {
   "cell_type": "markdown",
   "metadata": {
    "deletable": false,
    "editable": false,
    "nbgrader": {
     "grade": false,
     "grade_id": "p4_description",
     "locked": true,
     "schema_version": 3,
     "solution": false,
     "task": false
    }
   },
   "source": [
    "## PROBLEM 4: Markov chain parameter estimation and likelihood (15 points)\n",
    "\n",
    "Suppose we are given the following five DNA sequences. In this problem, we will model these of sequences using a simple Markov chain with a state for each of the four DNA bases.\n",
    "\n",
    "$\\begin{eqnarray}\n",
    "x_1 & = & \\mathrm{\\tt ATGT} \\\\\n",
    "x_2 & = & \\mathrm{\\tt AAAA} \\\\\n",
    "x_3 & = & \\mathrm{\\tt GTCG} \\\\\n",
    "x_4 & = & \\mathrm{\\tt AACA} \\\\\n",
    "x_5 & = & \\mathrm{\\tt TACC} \\\\\n",
    "\\end{eqnarray}$\n",
    "\n",
    "**(a)** Using uniform distributions for the transition probabilities and initial state probabilities, calculate the likelihood, $P(x_1, x_2, x_3, x_4, x_5)$, of these sequences (where we assume that each sequence is generated independently from the model).\n",
    "\n",
    "**(b)** Estimate the parameters (transition and initial probabilities) of the Markov chain using maximum likelihood estimates. Calculate the likelihood of these sequences given these maximum likelihood parameter estimates.\n",
    "\n",
    "**(c)** Estimate the parameters (transition and initial probabilities) of the Markov chain using Laplace estimates (pseudocount = 1). Calculate the likelihood of these sequences given these Laplace parameter estimates."
   ]
  },
  {
   "cell_type": "markdown",
   "metadata": {
    "nbgrader": {
     "grade": true,
     "grade_id": "p4a",
     "locked": false,
     "points": 3,
     "schema_version": 3,
     "solution": true,
     "task": false
    }
   },
   "source": [
    "###\n",
    "### Your solution to Problem 4a here\n",
    "###\n"
   ]
  },
  {
   "cell_type": "markdown",
   "metadata": {},
   "source": [
    "**(a)**\n",
    "\n",
    "𝑃(𝑥1,𝑥2,𝑥3,𝑥4,𝑥5) = p(x1) * p(x2|x1) * p(x3|x2) * p(x4|x3) * p(x5|x4) = $(1/4)^4$"
   ]
  },
  {
   "cell_type": "markdown",
   "metadata": {
    "nbgrader": {
     "grade": true,
     "grade_id": "p4b",
     "locked": false,
     "points": 6,
     "schema_version": 3,
     "solution": true,
     "task": false
    }
   },
   "source": [
    "###\n",
    "### Your solution to Problem 4b here\n",
    "###\n"
   ]
  },
  {
   "cell_type": "markdown",
   "metadata": {},
   "source": [
    "**(b)**\n",
    "\n",
    "P(x1)= Count(x1)/Total Sequences\n",
    "\n",
    "pr(a) = 9/20 = 0.45\\\n",
    "pr(c) = 4/20 = 0.2\\\n",
    "pr(g) = 3/20 = 0.15\\\n",
    "pr(t) = 4/20 = 0.2\n"
   ]
  },
  {
   "cell_type": "markdown",
   "metadata": {
    "nbgrader": {
     "grade": true,
     "grade_id": "p4c",
     "locked": false,
     "points": 6,
     "schema_version": 3,
     "solution": true,
     "task": false
    }
   },
   "source": [
    "###\n",
    "### Your solution to Problem 4c here\n",
    "###\n"
   ]
  },
  {
   "cell_type": "markdown",
   "metadata": {},
   "source": [
    "**(c)**\n",
    "\n",
    "P(x1)= Count(x1)+1/Total Sequences+4\n",
    "\n",
    "pr(a) = 9+1/20+4 = 10/24 = 0.4167\\\n",
    "pr(c) = 4+1/20+4 = 5/24 = 0.208\\\n",
    "pr(g) = 3+1/20+4 = 4/24 = 0.1667\\\n",
    "pr(t) = 4+1/20+4 = 5/24 = 0.208"
   ]
  },
  {
   "cell_type": "markdown",
   "metadata": {
    "deletable": false,
    "editable": false,
    "nbgrader": {
     "grade": false,
     "grade_id": "cell-72c248106b36e23b",
     "locked": true,
     "schema_version": 3,
     "solution": false,
     "task": false
    }
   },
   "source": [
    "## Tests for Problem 1"
   ]
  },
  {
   "cell_type": "code",
   "execution_count": 13,
   "metadata": {
    "deletable": false,
    "editable": false,
    "nbgrader": {
     "grade": false,
     "grade_id": "cell-af65d728bd076293",
     "locked": true,
     "schema_version": 3,
     "solution": false,
     "task": false
    }
   },
   "outputs": [],
   "source": [
    "pair_tree =              toytree.tree(\"(X,Y);\")\n",
    "triple_tree =         toytree.tree(\"(Z,(X,Y));\")\n",
    "quartet_tree =     toytree.tree(\"(W,(Z,(X,Y)));\")\n",
    "quartet2_tree =   toytree.tree(\"((W,Z),(X,Y));\")\n",
    "quintet_tree = toytree.tree(\"((V,W),(Z,(X,Y)));\")\n",
    "large_tree = toytree.tree(\"((E,(F,(G,H))),((A,B),(C,D)));\")\n",
    "\n",
    "pair_match_states =                             {\"X\": \"C\", \"Y\": \"C\"}\n",
    "pair_mismatch_states =                          {\"X\": \"A\", \"Y\": \"T\"}\n",
    "triple_states =                       {\"Z\": \"C\", \"X\": \"A\", \"Y\": \"T\"}\n",
    "quartet_states =            {\"W\": \"A\", \"Z\": \"C\", \"X\": \"A\", \"Y\": \"T\"}\n",
    "quartet2_states =           {\"W\": \"C\", \"Z\": \"C\", \"X\": \"A\", \"Y\": \"T\"}\n",
    "quintet_states =  {\"V\": \"C\", \"W\": \"C\", \"Z\": \"C\", \"X\": \"A\", \"Y\": \"T\"}\n",
    "large_states = {\"A\": \"G\", \"B\": \"C\", \"C\": \"T\", \"D\": \"A\", \"E\": \"G\", \"F\": \"C\", \"G\": \"C\", \"H\": \"C\"}"
   ]
  },
  {
   "cell_type": "code",
   "execution_count": 14,
   "metadata": {
    "deletable": false,
    "editable": false,
    "nbgrader": {
     "grade": true,
     "grade_id": "pair_match_score",
     "locked": true,
     "points": 6,
     "schema_version": 3,
     "solution": false,
     "task": false
    }
   },
   "outputs": [
    {
     "name": "stdout",
     "output_type": "stream",
     "text": [
      "SUCCESS: pair_match_score test case passed!\n"
     ]
    },
    {
     "data": {
      "text/html": [
       "<div class=\"toyplot\" id=\"td69139748f634520aa3606890e5ef129\" style=\"text-align:center\"><svg class=\"toyplot-canvas-Canvas\" xmlns:toyplot=\"http://www.sandia.gov/toyplot\" xmlns:xlink=\"http://www.w3.org/1999/xlink\" xmlns=\"http://www.w3.org/2000/svg\" width=\"255.0px\" height=\"275.0px\" viewBox=\"0 0 255.0 275.0\" preserveAspectRatio=\"xMidYMid meet\" style=\"background-color:transparent;border-color:#292724;border-style:none;border-width:1.0;fill:rgb(16.1%,15.3%,14.1%);fill-opacity:1.0;font-family:Helvetica;font-size:12px;opacity:1.0;stroke:rgb(16.1%,15.3%,14.1%);stroke-opacity:1.0;stroke-width:1.0\" id=\"teed577fc43434f85b54a916036440636\"><g class=\"toyplot-coordinates-Cartesian\" id=\"t2badaee3fd754eab938c046dd38069d0\"><clipPath id=\"t52f39096b00f4ec49e8510a1b96f9899\"><rect x=\"30.0\" y=\"30.0\" width=\"195.0\" height=\"215.0\"></rect></clipPath><g clip-path=\"url(#t52f39096b00f4ec49e8510a1b96f9899)\"><g class=\"toytree-mark-Toytree\" id=\"t956d8037317e4ae199a8b6e775637008\"><g class=\"toytree-Edges\" style=\"fill:none;stroke:rgb(14.9%,14.9%,14.9%);stroke-linecap:round;stroke-opacity:1;stroke-width:2\"><path d=\"M 65.9 137.5 L 65.9 66.3 L 189.1 66.3\" id=\"2,1\"></path><path d=\"M 65.9 137.5 L 65.9 208.7 L 189.1 208.7\" id=\"2,0\"></path></g><g class=\"toytree-Nodes\" style=\"fill:rgb(40%,76.1%,64.7%);fill-opacity:1.0;stroke:None;stroke-width:1\"><g id=\"node-0\" transform=\"translate(189.103,208.721)\"><circle r=\"10.0\"></circle></g><g id=\"node-1\" transform=\"translate(189.103,66.279)\"><circle r=\"10.0\"></circle></g><g id=\"node-2\" transform=\"translate(65.897,137.500)\"><circle r=\"10.0\"></circle></g></g><g class=\"toytree-NodeLabels\" style=\"fill:rgb(14.9%,14.9%,14.9%);fill-opacity:1.0;font-size:9px;stroke:none\"><g transform=\"translate(186.10,211.02)\"><text>Y</text></g><g transform=\"translate(186.10,68.58)\"><text>X</text></g><g transform=\"translate(63.40,139.80)\"><text>2</text></g></g><g class=\"toytree-TipLabels\" style=\"fill:rgb(14.9%,14.9%,14.9%);fill-opacity:1.0;font-family:helvetica;font-size:11px;font-weight:normal;stroke:none;white-space:pre\"><g transform=\"translate(189.10,208.72)rotate(0)\"><text x=\"15.00\" y=\"2.81\" style=\"\">C</text></g><g transform=\"translate(189.10,66.28)rotate(0)\"><text x=\"15.00\" y=\"2.81\" style=\"\">C</text></g></g></g></g></g></svg><div class=\"toyplot-behavior\"><script>(function()\n",
       "{\n",
       "var modules={};\n",
       "})();</script></div></div>"
      ]
     },
     "metadata": {},
     "output_type": "display_data"
    }
   ],
   "source": [
    "# pair_match_score (6 points)\n",
    "tree, leaf_states = pair_tree, pair_match_states\n",
    "draw_tree_with_internal_labels(tree, leaf_states)\n",
    "cost, states = weighted_parsimony(tree, leaf_states, purine_pyrimidine_cost_matrix)\n",
    "assert cost == 0\n",
    "print(\"SUCCESS: pair_match_score test case passed!\")"
   ]
  },
  {
   "cell_type": "code",
   "execution_count": 15,
   "metadata": {
    "deletable": false,
    "editable": false,
    "nbgrader": {
     "grade": true,
     "grade_id": "pair_mismatch_score",
     "locked": true,
     "points": 6,
     "schema_version": 3,
     "solution": false,
     "task": false
    }
   },
   "outputs": [
    {
     "name": "stdout",
     "output_type": "stream",
     "text": [
      "SUCCESS: pair_mismatch_score test case passed!\n"
     ]
    },
    {
     "data": {
      "text/html": [
       "<div class=\"toyplot\" id=\"t75742322bdef4c689f93cc67fe2ef263\" style=\"text-align:center\"><svg class=\"toyplot-canvas-Canvas\" xmlns:toyplot=\"http://www.sandia.gov/toyplot\" xmlns:xlink=\"http://www.w3.org/1999/xlink\" xmlns=\"http://www.w3.org/2000/svg\" width=\"255.0px\" height=\"275.0px\" viewBox=\"0 0 255.0 275.0\" preserveAspectRatio=\"xMidYMid meet\" style=\"background-color:transparent;border-color:#292724;border-style:none;border-width:1.0;fill:rgb(16.1%,15.3%,14.1%);fill-opacity:1.0;font-family:Helvetica;font-size:12px;opacity:1.0;stroke:rgb(16.1%,15.3%,14.1%);stroke-opacity:1.0;stroke-width:1.0\" id=\"t22a95a52d5f04776ac9ec12c8ceadd3e\"><g class=\"toyplot-coordinates-Cartesian\" id=\"t0ad7089203b244c78d93ff1fb38b3f35\"><clipPath id=\"tf578d4aefd86491f8843bbf2742ae7f7\"><rect x=\"30.0\" y=\"30.0\" width=\"195.0\" height=\"215.0\"></rect></clipPath><g clip-path=\"url(#tf578d4aefd86491f8843bbf2742ae7f7)\"><g class=\"toytree-mark-Toytree\" id=\"t4b0d8865190e44f7ab717a15136ae47e\"><g class=\"toytree-Edges\" style=\"fill:none;stroke:rgb(14.9%,14.9%,14.9%);stroke-linecap:round;stroke-opacity:1;stroke-width:2\"><path d=\"M 65.9 137.5 L 65.9 66.3 L 189.1 66.3\" id=\"2,1\"></path><path d=\"M 65.9 137.5 L 65.9 208.7 L 189.1 208.7\" id=\"2,0\"></path></g><g class=\"toytree-Nodes\" style=\"fill:rgb(40%,76.1%,64.7%);fill-opacity:1.0;stroke:None;stroke-width:1\"><g id=\"node-0\" transform=\"translate(189.103,208.721)\"><circle r=\"10.0\"></circle></g><g id=\"node-1\" transform=\"translate(189.103,66.279)\"><circle r=\"10.0\"></circle></g><g id=\"node-2\" transform=\"translate(65.897,137.500)\"><circle r=\"10.0\"></circle></g></g><g class=\"toytree-NodeLabels\" style=\"fill:rgb(14.9%,14.9%,14.9%);fill-opacity:1.0;font-size:9px;stroke:none\"><g transform=\"translate(186.10,211.02)\"><text>Y</text></g><g transform=\"translate(186.10,68.58)\"><text>X</text></g><g transform=\"translate(63.40,139.80)\"><text>2</text></g></g><g class=\"toytree-TipLabels\" style=\"fill:rgb(14.9%,14.9%,14.9%);fill-opacity:1.0;font-family:helvetica;font-size:11px;font-weight:normal;stroke:none;white-space:pre\"><g transform=\"translate(189.10,208.72)rotate(0)\"><text x=\"15.00\" y=\"2.81\" style=\"\">T</text></g><g transform=\"translate(189.10,66.28)rotate(0)\"><text x=\"15.00\" y=\"2.81\" style=\"\">A</text></g></g></g></g></g></svg><div class=\"toyplot-behavior\"><script>(function()\n",
       "{\n",
       "var modules={};\n",
       "})();</script></div></div>"
      ]
     },
     "metadata": {},
     "output_type": "display_data"
    }
   ],
   "source": [
    "# pair_mismatch_score (6 points)\n",
    "tree, leaf_states = pair_tree, pair_mismatch_states\n",
    "draw_tree_with_internal_labels(tree, leaf_states)\n",
    "cost, states = weighted_parsimony(tree, leaf_states, purine_pyrimidine_cost_matrix)\n",
    "assert cost == 2\n",
    "print(\"SUCCESS: pair_mismatch_score test case passed!\")"
   ]
  },
  {
   "cell_type": "code",
   "execution_count": 16,
   "metadata": {
    "deletable": false,
    "editable": false,
    "nbgrader": {
     "grade": true,
     "grade_id": "triple_score",
     "locked": true,
     "points": 4,
     "schema_version": 3,
     "solution": false,
     "task": false
    }
   },
   "outputs": [
    {
     "name": "stdout",
     "output_type": "stream",
     "text": [
      "SUCCESS: triple_score test case passed!\n"
     ]
    },
    {
     "data": {
      "text/html": [
       "<div class=\"toyplot\" id=\"tc0b43e00452c40e5bb95b281269e1c5e\" style=\"text-align:center\"><svg class=\"toyplot-canvas-Canvas\" xmlns:toyplot=\"http://www.sandia.gov/toyplot\" xmlns:xlink=\"http://www.w3.org/1999/xlink\" xmlns=\"http://www.w3.org/2000/svg\" width=\"255.0px\" height=\"275.0px\" viewBox=\"0 0 255.0 275.0\" preserveAspectRatio=\"xMidYMid meet\" style=\"background-color:transparent;border-color:#292724;border-style:none;border-width:1.0;fill:rgb(16.1%,15.3%,14.1%);fill-opacity:1.0;font-family:Helvetica;font-size:12px;opacity:1.0;stroke:rgb(16.1%,15.3%,14.1%);stroke-opacity:1.0;stroke-width:1.0\" id=\"te247dd526b084d39801e397ebad95026\"><g class=\"toyplot-coordinates-Cartesian\" id=\"td52733160b4e453bb79bffa912787ba7\"><clipPath id=\"tbcf21ed5211f4531ae876799153f8736\"><rect x=\"30.0\" y=\"30.0\" width=\"195.0\" height=\"215.0\"></rect></clipPath><g clip-path=\"url(#tbcf21ed5211f4531ae876799153f8736)\"><g class=\"toytree-mark-Toytree\" id=\"tfc680f69c75c49a886705c6b3d2e4c41\"><g class=\"toytree-Edges\" style=\"fill:none;stroke:rgb(14.9%,14.9%,14.9%);stroke-linecap:round;stroke-opacity:1;stroke-width:2\"><path d=\"M 65.9 119.7 L 65.9 173.1 L 127.5 173.1\" id=\"4,3\"></path><path d=\"M 65.9 119.7 L 65.9 66.3 L 189.1 66.3\" id=\"4,2\"></path><path d=\"M 127.5 173.1 L 127.5 137.5 L 189.1 137.5\" id=\"3,1\"></path><path d=\"M 127.5 173.1 L 127.5 208.7 L 189.1 208.7\" id=\"3,0\"></path></g><g class=\"toytree-Nodes\" style=\"fill:rgb(40%,76.1%,64.7%);fill-opacity:1.0;stroke:None;stroke-width:1\"><g id=\"node-0\" transform=\"translate(189.103,208.721)\"><circle r=\"10.0\"></circle></g><g id=\"node-1\" transform=\"translate(189.103,137.500)\"><circle r=\"10.0\"></circle></g><g id=\"node-2\" transform=\"translate(189.103,66.279)\"><circle r=\"10.0\"></circle></g><g id=\"node-3\" transform=\"translate(127.500,173.110)\"><circle r=\"10.0\"></circle></g><g id=\"node-4\" transform=\"translate(65.897,119.695)\"><circle r=\"10.0\"></circle></g></g><g class=\"toytree-NodeLabels\" style=\"fill:rgb(14.9%,14.9%,14.9%);fill-opacity:1.0;font-size:9px;stroke:none\"><g transform=\"translate(186.10,211.02)\"><text>Y</text></g><g transform=\"translate(186.10,139.80)\"><text>X</text></g><g transform=\"translate(186.35,68.58)\"><text>Z</text></g><g transform=\"translate(125.00,175.41)\"><text>3</text></g><g transform=\"translate(63.40,121.99)\"><text>4</text></g></g><g class=\"toytree-TipLabels\" style=\"fill:rgb(14.9%,14.9%,14.9%);fill-opacity:1.0;font-family:helvetica;font-size:11px;font-weight:normal;stroke:none;white-space:pre\"><g transform=\"translate(189.10,208.72)rotate(0)\"><text x=\"15.00\" y=\"2.81\" style=\"\">T</text></g><g transform=\"translate(189.10,137.50)rotate(0)\"><text x=\"15.00\" y=\"2.81\" style=\"\">A</text></g><g transform=\"translate(189.10,66.28)rotate(0)\"><text x=\"15.00\" y=\"2.81\" style=\"\">C</text></g></g></g></g></g></svg><div class=\"toyplot-behavior\"><script>(function()\n",
       "{\n",
       "var modules={};\n",
       "})();</script></div></div>"
      ]
     },
     "metadata": {},
     "output_type": "display_data"
    }
   ],
   "source": [
    "# triple_score (4 points)\n",
    "tree, leaf_states = triple_tree, triple_states\n",
    "draw_tree_with_internal_labels(tree, leaf_states)\n",
    "cost, states = weighted_parsimony(tree, leaf_states, purine_pyrimidine_cost_matrix)\n",
    "assert cost == 3\n",
    "print(\"SUCCESS: triple_score test case passed!\")"
   ]
  },
  {
   "cell_type": "code",
   "execution_count": 17,
   "metadata": {
    "deletable": false,
    "editable": false,
    "nbgrader": {
     "grade": true,
     "grade_id": "quartet_score",
     "locked": true,
     "points": 2,
     "schema_version": 3,
     "solution": false,
     "task": false
    }
   },
   "outputs": [
    {
     "name": "stdout",
     "output_type": "stream",
     "text": [
      "SUCCESS: quartet_score test case passed!\n"
     ]
    },
    {
     "data": {
      "text/html": [
       "<div class=\"toyplot\" id=\"te9d3019f0076446f96024e264b207bd2\" style=\"text-align:center\"><svg class=\"toyplot-canvas-Canvas\" xmlns:toyplot=\"http://www.sandia.gov/toyplot\" xmlns:xlink=\"http://www.w3.org/1999/xlink\" xmlns=\"http://www.w3.org/2000/svg\" width=\"255.0px\" height=\"275.0px\" viewBox=\"0 0 255.0 275.0\" preserveAspectRatio=\"xMidYMid meet\" style=\"background-color:transparent;border-color:#292724;border-style:none;border-width:1.0;fill:rgb(16.1%,15.3%,14.1%);fill-opacity:1.0;font-family:Helvetica;font-size:12px;opacity:1.0;stroke:rgb(16.1%,15.3%,14.1%);stroke-opacity:1.0;stroke-width:1.0\" id=\"ta3378a2ce99e487cb0622ac935170cc9\"><g class=\"toyplot-coordinates-Cartesian\" id=\"t4442778a392343b799ae5357a2db8ce7\"><clipPath id=\"tb8961efb0a5d429c80938a93c3ef25d7\"><rect x=\"30.0\" y=\"30.0\" width=\"195.0\" height=\"215.0\"></rect></clipPath><g clip-path=\"url(#tb8961efb0a5d429c80938a93c3ef25d7)\"><g class=\"toytree-mark-Toytree\" id=\"t94a9d2472e6e4c9da9efde21a17fb8f8\"><g class=\"toytree-Edges\" style=\"fill:none;stroke:rgb(14.9%,14.9%,14.9%);stroke-linecap:round;stroke-opacity:1;stroke-width:2\"><path d=\"M 65.9 107.8 L 65.9 149.4 L 107.0 149.4\" id=\"6,5\"></path><path d=\"M 107.0 149.4 L 107.0 185.0 L 148.0 185.0\" id=\"5,4\"></path><path d=\"M 65.9 107.8 L 65.9 66.3 L 189.1 66.3\" id=\"6,3\"></path><path d=\"M 107.0 149.4 L 107.0 113.8 L 189.1 113.8\" id=\"5,2\"></path><path d=\"M 148.0 185.0 L 148.0 161.2 L 189.1 161.2\" id=\"4,1\"></path><path d=\"M 148.0 185.0 L 148.0 208.7 L 189.1 208.7\" id=\"4,0\"></path></g><g class=\"toytree-Nodes\" style=\"fill:rgb(40%,76.1%,64.7%);fill-opacity:1.0;stroke:None;stroke-width:1\"><g id=\"node-0\" transform=\"translate(189.103,208.721)\"><circle r=\"10.0\"></circle></g><g id=\"node-1\" transform=\"translate(189.103,161.240)\"><circle r=\"10.0\"></circle></g><g id=\"node-2\" transform=\"translate(189.103,113.760)\"><circle r=\"10.0\"></circle></g><g id=\"node-3\" transform=\"translate(189.103,66.279)\"><circle r=\"10.0\"></circle></g><g id=\"node-4\" transform=\"translate(148.034,184.981)\"><circle r=\"10.0\"></circle></g><g id=\"node-5\" transform=\"translate(106.966,149.370)\"><circle r=\"10.0\"></circle></g><g id=\"node-6\" transform=\"translate(65.897,107.825)\"><circle r=\"10.0\"></circle></g></g><g class=\"toytree-NodeLabels\" style=\"fill:rgb(14.9%,14.9%,14.9%);fill-opacity:1.0;font-size:9px;stroke:none\"><g transform=\"translate(186.10,211.02)\"><text>Y</text></g><g transform=\"translate(186.10,163.54)\"><text>X</text></g><g transform=\"translate(186.35,116.06)\"><text>Z</text></g><g transform=\"translate(184.85,68.58)\"><text>W</text></g><g transform=\"translate(145.53,187.28)\"><text>4</text></g><g transform=\"translate(104.46,151.67)\"><text>5</text></g><g transform=\"translate(63.40,110.12)\"><text>6</text></g></g><g class=\"toytree-TipLabels\" style=\"fill:rgb(14.9%,14.9%,14.9%);fill-opacity:1.0;font-family:helvetica;font-size:11px;font-weight:normal;stroke:none;white-space:pre\"><g transform=\"translate(189.10,208.72)rotate(0)\"><text x=\"15.00\" y=\"2.81\" style=\"\">T</text></g><g transform=\"translate(189.10,161.24)rotate(0)\"><text x=\"15.00\" y=\"2.81\" style=\"\">A</text></g><g transform=\"translate(189.10,113.76)rotate(0)\"><text x=\"15.00\" y=\"2.81\" style=\"\">C</text></g><g transform=\"translate(189.10,66.28)rotate(0)\"><text x=\"15.00\" y=\"2.81\" style=\"\">A</text></g></g></g></g></g></svg><div class=\"toyplot-behavior\"><script>(function()\n",
       "{\n",
       "var modules={};\n",
       "})();</script></div></div>"
      ]
     },
     "metadata": {},
     "output_type": "display_data"
    }
   ],
   "source": [
    "# quartet_score (2 points)\n",
    "tree, leaf_states = quartet_tree, quartet_states\n",
    "draw_tree_with_internal_labels(tree, leaf_states)\n",
    "cost, states = weighted_parsimony(tree, leaf_states, purine_pyrimidine_cost_matrix)\n",
    "assert cost == 4\n",
    "print(\"SUCCESS: quartet_score test case passed!\")"
   ]
  },
  {
   "cell_type": "code",
   "execution_count": 18,
   "metadata": {
    "deletable": false,
    "editable": false,
    "nbgrader": {
     "grade": true,
     "grade_id": "quartet2_score",
     "locked": true,
     "points": 2,
     "schema_version": 3,
     "solution": false,
     "task": false
    }
   },
   "outputs": [
    {
     "name": "stdout",
     "output_type": "stream",
     "text": [
      "SUCCESS: quartet2_score test case passed!\n"
     ]
    },
    {
     "data": {
      "text/html": [
       "<div class=\"toyplot\" id=\"t8655d23640ef40e586f403f575b03c85\" style=\"text-align:center\"><svg class=\"toyplot-canvas-Canvas\" xmlns:toyplot=\"http://www.sandia.gov/toyplot\" xmlns:xlink=\"http://www.w3.org/1999/xlink\" xmlns=\"http://www.w3.org/2000/svg\" width=\"255.0px\" height=\"275.0px\" viewBox=\"0 0 255.0 275.0\" preserveAspectRatio=\"xMidYMid meet\" style=\"background-color:transparent;border-color:#292724;border-style:none;border-width:1.0;fill:rgb(16.1%,15.3%,14.1%);fill-opacity:1.0;font-family:Helvetica;font-size:12px;opacity:1.0;stroke:rgb(16.1%,15.3%,14.1%);stroke-opacity:1.0;stroke-width:1.0\" id=\"taad3cc6a1859445fad7141dd39050fe5\"><g class=\"toyplot-coordinates-Cartesian\" id=\"t6d6fc5ce22cc41dea63c95b6b9322274\"><clipPath id=\"ta690bcdf0de4499b8efeb162de514b47\"><rect x=\"30.0\" y=\"30.0\" width=\"195.0\" height=\"215.0\"></rect></clipPath><g clip-path=\"url(#ta690bcdf0de4499b8efeb162de514b47)\"><g class=\"toytree-mark-Toytree\" id=\"t48e5251706344370992a3cf1121ed8a9\"><g class=\"toytree-Edges\" style=\"fill:none;stroke:rgb(14.9%,14.9%,14.9%);stroke-linecap:round;stroke-opacity:1;stroke-width:2\"><path d=\"M 65.9 137.5 L 65.9 90.0 L 127.5 90.0\" id=\"6,5\"></path><path d=\"M 65.9 137.5 L 65.9 185.0 L 127.5 185.0\" id=\"6,4\"></path><path d=\"M 127.5 90.0 L 127.5 66.3 L 189.1 66.3\" id=\"5,3\"></path><path d=\"M 127.5 90.0 L 127.5 113.8 L 189.1 113.8\" id=\"5,2\"></path><path d=\"M 127.5 185.0 L 127.5 161.2 L 189.1 161.2\" id=\"4,1\"></path><path d=\"M 127.5 185.0 L 127.5 208.7 L 189.1 208.7\" id=\"4,0\"></path></g><g class=\"toytree-Nodes\" style=\"fill:rgb(40%,76.1%,64.7%);fill-opacity:1.0;stroke:None;stroke-width:1\"><g id=\"node-0\" transform=\"translate(189.103,208.721)\"><circle r=\"10.0\"></circle></g><g id=\"node-1\" transform=\"translate(189.103,161.240)\"><circle r=\"10.0\"></circle></g><g id=\"node-2\" transform=\"translate(189.103,113.760)\"><circle r=\"10.0\"></circle></g><g id=\"node-3\" transform=\"translate(189.103,66.279)\"><circle r=\"10.0\"></circle></g><g id=\"node-4\" transform=\"translate(127.500,184.981)\"><circle r=\"10.0\"></circle></g><g id=\"node-5\" transform=\"translate(127.500,90.019)\"><circle r=\"10.0\"></circle></g><g id=\"node-6\" transform=\"translate(65.897,137.500)\"><circle r=\"10.0\"></circle></g></g><g class=\"toytree-NodeLabels\" style=\"fill:rgb(14.9%,14.9%,14.9%);fill-opacity:1.0;font-size:9px;stroke:none\"><g transform=\"translate(186.10,211.02)\"><text>Y</text></g><g transform=\"translate(186.10,163.54)\"><text>X</text></g><g transform=\"translate(186.35,116.06)\"><text>Z</text></g><g transform=\"translate(184.85,68.58)\"><text>W</text></g><g transform=\"translate(125.00,187.28)\"><text>4</text></g><g transform=\"translate(125.00,92.32)\"><text>5</text></g><g transform=\"translate(63.40,139.80)\"><text>6</text></g></g><g class=\"toytree-TipLabels\" style=\"fill:rgb(14.9%,14.9%,14.9%);fill-opacity:1.0;font-family:helvetica;font-size:11px;font-weight:normal;stroke:none;white-space:pre\"><g transform=\"translate(189.10,208.72)rotate(0)\"><text x=\"15.00\" y=\"2.81\" style=\"\">T</text></g><g transform=\"translate(189.10,161.24)rotate(0)\"><text x=\"15.00\" y=\"2.81\" style=\"\">A</text></g><g transform=\"translate(189.10,113.76)rotate(0)\"><text x=\"15.00\" y=\"2.81\" style=\"\">C</text></g><g transform=\"translate(189.10,66.28)rotate(0)\"><text x=\"15.00\" y=\"2.81\" style=\"\">A</text></g></g></g></g></g></svg><div class=\"toyplot-behavior\"><script>(function()\n",
       "{\n",
       "var modules={};\n",
       "})();</script></div></div>"
      ]
     },
     "metadata": {},
     "output_type": "display_data"
    }
   ],
   "source": [
    "# quartet2_score (2 points)\n",
    "tree, leaf_states = quartet2_tree, quartet_states\n",
    "draw_tree_with_internal_labels(tree, leaf_states)\n",
    "cost, states = weighted_parsimony(tree, leaf_states, purine_pyrimidine_cost_matrix)\n",
    "assert cost == 4\n",
    "print(\"SUCCESS: quartet2_score test case passed!\")"
   ]
  },
  {
   "cell_type": "code",
   "execution_count": 19,
   "metadata": {
    "deletable": false,
    "editable": false,
    "nbgrader": {
     "grade": true,
     "grade_id": "quintet_score",
     "locked": true,
     "points": 1,
     "schema_version": 3,
     "solution": false,
     "task": false
    }
   },
   "outputs": [
    {
     "name": "stdout",
     "output_type": "stream",
     "text": [
      "SUCCESS: quintet_score test case passed!\n"
     ]
    },
    {
     "data": {
      "text/html": [
       "<div class=\"toyplot\" id=\"t601dc197a1594c1f9d68441c0f9f312e\" style=\"text-align:center\"><svg class=\"toyplot-canvas-Canvas\" xmlns:toyplot=\"http://www.sandia.gov/toyplot\" xmlns:xlink=\"http://www.w3.org/1999/xlink\" xmlns=\"http://www.w3.org/2000/svg\" width=\"255.0px\" height=\"275.0px\" viewBox=\"0 0 255.0 275.0\" preserveAspectRatio=\"xMidYMid meet\" style=\"background-color:transparent;border-color:#292724;border-style:none;border-width:1.0;fill:rgb(16.1%,15.3%,14.1%);fill-opacity:1.0;font-family:Helvetica;font-size:12px;opacity:1.0;stroke:rgb(16.1%,15.3%,14.1%);stroke-opacity:1.0;stroke-width:1.0\" id=\"tee7a61cf7c424ac985bdcae50ca39868\"><g class=\"toyplot-coordinates-Cartesian\" id=\"ta5a4f4cbc83c40f998988b69b5339954\"><clipPath id=\"t821efdcc90734e4bb4731126ce566b66\"><rect x=\"30.0\" y=\"30.0\" width=\"195.0\" height=\"215.0\"></rect></clipPath><g clip-path=\"url(#t821efdcc90734e4bb4731126ce566b66)\"><g class=\"toytree-mark-Toytree\" id=\"t300ff1eaeddd4eb08e44cd5d61caa354\"><g class=\"toytree-Edges\" style=\"fill:none;stroke:rgb(14.9%,14.9%,14.9%);stroke-linecap:round;stroke-opacity:1;stroke-width:2\"><path d=\"M 65.9 124.1 L 65.9 84.1 L 148.0 84.1\" id=\"8,7\"></path><path d=\"M 65.9 124.1 L 65.9 164.2 L 107.0 164.2\" id=\"8,6\"></path><path d=\"M 107.0 164.2 L 107.0 190.9 L 148.0 190.9\" id=\"6,5\"></path><path d=\"M 148.0 84.1 L 148.0 66.3 L 189.1 66.3\" id=\"7,4\"></path><path d=\"M 148.0 84.1 L 148.0 101.9 L 189.1 101.9\" id=\"7,3\"></path><path d=\"M 107.0 164.2 L 107.0 137.5 L 189.1 137.5\" id=\"6,2\"></path><path d=\"M 148.0 190.9 L 148.0 173.1 L 189.1 173.1\" id=\"5,1\"></path><path d=\"M 148.0 190.9 L 148.0 208.7 L 189.1 208.7\" id=\"5,0\"></path></g><g class=\"toytree-Nodes\" style=\"fill:rgb(40%,76.1%,64.7%);fill-opacity:1.0;stroke:None;stroke-width:1\"><g id=\"node-0\" transform=\"translate(189.103,208.721)\"><circle r=\"10.0\"></circle></g><g id=\"node-1\" transform=\"translate(189.103,173.110)\"><circle r=\"10.0\"></circle></g><g id=\"node-2\" transform=\"translate(189.103,137.500)\"><circle r=\"10.0\"></circle></g><g id=\"node-3\" transform=\"translate(189.103,101.890)\"><circle r=\"10.0\"></circle></g><g id=\"node-4\" transform=\"translate(189.103,66.279)\"><circle r=\"10.0\"></circle></g><g id=\"node-5\" transform=\"translate(148.034,190.916)\"><circle r=\"10.0\"></circle></g><g id=\"node-6\" transform=\"translate(106.966,164.208)\"><circle r=\"10.0\"></circle></g><g id=\"node-7\" transform=\"translate(148.034,84.084)\"><circle r=\"10.0\"></circle></g><g id=\"node-8\" transform=\"translate(65.897,124.146)\"><circle r=\"10.0\"></circle></g></g><g class=\"toytree-NodeLabels\" style=\"fill:rgb(14.9%,14.9%,14.9%);fill-opacity:1.0;font-size:9px;stroke:none\"><g transform=\"translate(186.10,211.02)\"><text>Y</text></g><g transform=\"translate(186.10,175.41)\"><text>X</text></g><g transform=\"translate(186.35,139.80)\"><text>Z</text></g><g transform=\"translate(184.85,104.19)\"><text>W</text></g><g transform=\"translate(186.10,68.58)\"><text>V</text></g><g transform=\"translate(145.53,193.22)\"><text>5</text></g><g transform=\"translate(104.46,166.51)\"><text>6</text></g><g transform=\"translate(145.53,86.38)\"><text>7</text></g><g transform=\"translate(63.40,126.45)\"><text>8</text></g></g><g class=\"toytree-TipLabels\" style=\"fill:rgb(14.9%,14.9%,14.9%);fill-opacity:1.0;font-family:helvetica;font-size:11px;font-weight:normal;stroke:none;white-space:pre\"><g transform=\"translate(189.10,208.72)rotate(0)\"><text x=\"15.00\" y=\"2.81\" style=\"\">T</text></g><g transform=\"translate(189.10,173.11)rotate(0)\"><text x=\"15.00\" y=\"2.81\" style=\"\">A</text></g><g transform=\"translate(189.10,137.50)rotate(0)\"><text x=\"15.00\" y=\"2.81\" style=\"\">C</text></g><g transform=\"translate(189.10,101.89)rotate(0)\"><text x=\"15.00\" y=\"2.81\" style=\"\">C</text></g><g transform=\"translate(189.10,66.28)rotate(0)\"><text x=\"15.00\" y=\"2.81\" style=\"\">C</text></g></g></g></g></g></svg><div class=\"toyplot-behavior\"><script>(function()\n",
       "{\n",
       "var modules={};\n",
       "})();</script></div></div>"
      ]
     },
     "metadata": {},
     "output_type": "display_data"
    }
   ],
   "source": [
    "# quintet_score (1 points)\n",
    "tree, leaf_states = quintet_tree, quintet_states\n",
    "draw_tree_with_internal_labels(tree, leaf_states)\n",
    "cost, states = weighted_parsimony(tree, leaf_states, purine_pyrimidine_cost_matrix)\n",
    "assert cost == 3\n",
    "print(\"SUCCESS: quintet_score test case passed!\")"
   ]
  },
  {
   "cell_type": "code",
   "execution_count": 20,
   "metadata": {
    "deletable": false,
    "editable": false,
    "nbgrader": {
     "grade": true,
     "grade_id": "large_score",
     "locked": true,
     "points": 1,
     "schema_version": 3,
     "solution": false,
     "task": false
    }
   },
   "outputs": [
    {
     "name": "stdout",
     "output_type": "stream",
     "text": [
      "SUCCESS: large_score test case passed!\n"
     ]
    },
    {
     "data": {
      "text/html": [
       "<div class=\"toyplot\" id=\"t24b7b5058661408498399449c8cdd93f\" style=\"text-align:center\"><svg class=\"toyplot-canvas-Canvas\" xmlns:toyplot=\"http://www.sandia.gov/toyplot\" xmlns:xlink=\"http://www.w3.org/1999/xlink\" xmlns=\"http://www.w3.org/2000/svg\" width=\"255.0px\" height=\"275.0px\" viewBox=\"0 0 255.0 275.0\" preserveAspectRatio=\"xMidYMid meet\" style=\"background-color:transparent;border-color:#292724;border-style:none;border-width:1.0;fill:rgb(16.1%,15.3%,14.1%);fill-opacity:1.0;font-family:Helvetica;font-size:12px;opacity:1.0;stroke:rgb(16.1%,15.3%,14.1%);stroke-opacity:1.0;stroke-width:1.0\" id=\"tf9b1505f94604a23ba4dd1be5c991e5d\"><g class=\"toyplot-coordinates-Cartesian\" id=\"tffba852db9e94806bb0439bae1efcf1a\"><clipPath id=\"t984d09320fab4b81879574dbe13173ae\"><rect x=\"30.0\" y=\"30.0\" width=\"195.0\" height=\"215.0\"></rect></clipPath><g clip-path=\"url(#t984d09320fab4b81879574dbe13173ae)\"><g class=\"toytree-mark-Toytree\" id=\"t7868182d484c4d0386d13aa92607e89a\"><g class=\"toytree-Edges\" style=\"fill:none;stroke:rgb(14.9%,14.9%,14.9%);stroke-linecap:round;stroke-opacity:1;stroke-width:2\"><path d=\"M 65.9 131.1 L 65.9 84.1 L 96.7 84.1\" id=\"14,13\"></path><path d=\"M 65.9 131.1 L 65.9 178.2 L 127.5 178.2\" id=\"14,12\"></path><path d=\"M 96.7 84.1 L 96.7 101.9 L 127.5 101.9\" id=\"13,11\"></path><path d=\"M 127.5 178.2 L 127.5 157.8 L 158.3 157.8\" id=\"12,10\"></path><path d=\"M 127.5 178.2 L 127.5 198.5 L 158.3 198.5\" id=\"12,9\"></path><path d=\"M 127.5 101.9 L 127.5 117.2 L 158.3 117.2\" id=\"11,8\"></path><path d=\"M 96.7 84.1 L 96.7 66.3 L 189.1 66.3\" id=\"13,7\"></path><path d=\"M 127.5 101.9 L 127.5 86.6 L 189.1 86.6\" id=\"11,6\"></path><path d=\"M 158.3 117.2 L 158.3 107.0 L 189.1 107.0\" id=\"8,5\"></path><path d=\"M 158.3 117.2 L 158.3 127.3 L 189.1 127.3\" id=\"8,4\"></path><path d=\"M 158.3 157.8 L 158.3 147.7 L 189.1 147.7\" id=\"10,3\"></path><path d=\"M 158.3 157.8 L 158.3 168.0 L 189.1 168.0\" id=\"10,2\"></path><path d=\"M 158.3 198.5 L 158.3 188.4 L 189.1 188.4\" id=\"9,1\"></path><path d=\"M 158.3 198.5 L 158.3 208.7 L 189.1 208.7\" id=\"9,0\"></path></g><g class=\"toytree-Nodes\" style=\"fill:rgb(40%,76.1%,64.7%);fill-opacity:1.0;stroke:None;stroke-width:1\"><g id=\"node-0\" transform=\"translate(189.103,208.721)\"><circle r=\"10.0\"></circle></g><g id=\"node-1\" transform=\"translate(189.103,188.372)\"><circle r=\"10.0\"></circle></g><g id=\"node-2\" transform=\"translate(189.103,168.023)\"><circle r=\"10.0\"></circle></g><g id=\"node-3\" transform=\"translate(189.103,147.674)\"><circle r=\"10.0\"></circle></g><g id=\"node-4\" transform=\"translate(189.103,127.326)\"><circle r=\"10.0\"></circle></g><g id=\"node-5\" transform=\"translate(189.103,106.977)\"><circle r=\"10.0\"></circle></g><g id=\"node-6\" transform=\"translate(189.103,86.628)\"><circle r=\"10.0\"></circle></g><g id=\"node-7\" transform=\"translate(189.103,66.279)\"><circle r=\"10.0\"></circle></g><g id=\"node-8\" transform=\"translate(158.301,117.151)\"><circle r=\"10.0\"></circle></g><g id=\"node-9\" transform=\"translate(158.301,198.547)\"><circle r=\"10.0\"></circle></g><g id=\"node-10\" transform=\"translate(158.301,157.849)\"><circle r=\"10.0\"></circle></g><g id=\"node-11\" transform=\"translate(127.500,101.890)\"><circle r=\"10.0\"></circle></g><g id=\"node-12\" transform=\"translate(127.500,178.198)\"><circle r=\"10.0\"></circle></g><g id=\"node-13\" transform=\"translate(96.699,84.084)\"><circle r=\"10.0\"></circle></g><g id=\"node-14\" transform=\"translate(65.897,131.141)\"><circle r=\"10.0\"></circle></g></g><g class=\"toytree-NodeLabels\" style=\"fill:rgb(14.9%,14.9%,14.9%);fill-opacity:1.0;font-size:9px;stroke:none\"><g transform=\"translate(185.85,211.02)\"><text>D</text></g><g transform=\"translate(185.85,190.67)\"><text>C</text></g><g transform=\"translate(186.10,170.32)\"><text>B</text></g><g transform=\"translate(186.10,149.97)\"><text>A</text></g><g transform=\"translate(185.85,129.63)\"><text>H</text></g><g transform=\"translate(185.60,109.28)\"><text>G</text></g><g transform=\"translate(186.35,88.93)\"><text>F</text></g><g transform=\"translate(186.10,68.58)\"><text>E</text></g><g transform=\"translate(155.80,119.45)\"><text>8</text></g><g transform=\"translate(155.80,200.85)\"><text>9</text></g><g transform=\"translate(153.30,160.15)\"><text>10</text></g><g transform=\"translate(122.50,104.19)\"><text>11</text></g><g transform=\"translate(122.50,180.50)\"><text>12</text></g><g transform=\"translate(91.69,86.38)\"><text>13</text></g><g transform=\"translate(60.89,133.44)\"><text>14</text></g></g><g class=\"toytree-TipLabels\" style=\"fill:rgb(14.9%,14.9%,14.9%);fill-opacity:1.0;font-family:helvetica;font-size:11px;font-weight:normal;stroke:none;white-space:pre\"><g transform=\"translate(189.10,208.72)rotate(0)\"><text x=\"15.00\" y=\"2.81\" style=\"\">A</text></g><g transform=\"translate(189.10,188.37)rotate(0)\"><text x=\"15.00\" y=\"2.81\" style=\"\">T</text></g><g transform=\"translate(189.10,168.02)rotate(0)\"><text x=\"15.00\" y=\"2.81\" style=\"\">C</text></g><g transform=\"translate(189.10,147.67)rotate(0)\"><text x=\"15.00\" y=\"2.81\" style=\"\">G</text></g><g transform=\"translate(189.10,127.33)rotate(0)\"><text x=\"15.00\" y=\"2.81\" style=\"\">C</text></g><g transform=\"translate(189.10,106.98)rotate(0)\"><text x=\"15.00\" y=\"2.81\" style=\"\">C</text></g><g transform=\"translate(189.10,86.63)rotate(0)\"><text x=\"15.00\" y=\"2.81\" style=\"\">C</text></g><g transform=\"translate(189.10,66.28)rotate(0)\"><text x=\"15.00\" y=\"2.81\" style=\"\">G</text></g></g></g></g></g></svg><div class=\"toyplot-behavior\"><script>(function()\n",
       "{\n",
       "var modules={};\n",
       "})();</script></div></div>"
      ]
     },
     "metadata": {},
     "output_type": "display_data"
    }
   ],
   "source": [
    "# large_score (1 point)\n",
    "tree, leaf_states = large_tree, large_states\n",
    "draw_tree_with_internal_labels(tree, leaf_states)\n",
    "cost, states = weighted_parsimony(tree, leaf_states, purine_pyrimidine_cost_matrix)\n",
    "assert cost == 7\n",
    "print(\"SUCCESS: large_score test case passed!\")"
   ]
  },
  {
   "cell_type": "code",
   "execution_count": 21,
   "metadata": {
    "deletable": false,
    "editable": false,
    "nbgrader": {
     "grade": true,
     "grade_id": "pair_match_states",
     "locked": true,
     "points": 3,
     "schema_version": 3,
     "solution": false,
     "task": false
    }
   },
   "outputs": [
    {
     "name": "stdout",
     "output_type": "stream",
     "text": [
      "SUCCESS: pair_match_states test case passed!\n"
     ]
    },
    {
     "data": {
      "text/html": [
       "<div class=\"toyplot\" id=\"t6b8fb02d0a754bd78c29f0514ce1bf52\" style=\"text-align:center\"><svg class=\"toyplot-canvas-Canvas\" xmlns:toyplot=\"http://www.sandia.gov/toyplot\" xmlns:xlink=\"http://www.w3.org/1999/xlink\" xmlns=\"http://www.w3.org/2000/svg\" width=\"255.0px\" height=\"275.0px\" viewBox=\"0 0 255.0 275.0\" preserveAspectRatio=\"xMidYMid meet\" style=\"background-color:transparent;border-color:#292724;border-style:none;border-width:1.0;fill:rgb(16.1%,15.3%,14.1%);fill-opacity:1.0;font-family:Helvetica;font-size:12px;opacity:1.0;stroke:rgb(16.1%,15.3%,14.1%);stroke-opacity:1.0;stroke-width:1.0\" id=\"t39e6697769b84d2b878b5c09caf8a315\"><g class=\"toyplot-coordinates-Cartesian\" id=\"ta440f3867aa1431785dc5f0c7d700fb5\"><clipPath id=\"ta105467c7a094ac994789dfc22fd0831\"><rect x=\"30.0\" y=\"30.0\" width=\"195.0\" height=\"215.0\"></rect></clipPath><g clip-path=\"url(#ta105467c7a094ac994789dfc22fd0831)\"><g class=\"toytree-mark-Toytree\" id=\"tf7b41d4f8842491dbabe5e72f22de3bf\"><g class=\"toytree-Edges\" style=\"fill:none;stroke:rgb(14.9%,14.9%,14.9%);stroke-linecap:round;stroke-opacity:1;stroke-width:2\"><path d=\"M 65.9 137.5 L 65.9 66.3 L 189.1 66.3\" id=\"2,1\"></path><path d=\"M 65.9 137.5 L 65.9 208.7 L 189.1 208.7\" id=\"2,0\"></path></g><g class=\"toytree-Nodes\" style=\"fill:rgb(40%,76.1%,64.7%);fill-opacity:1.0;stroke:None;stroke-width:1\"><g id=\"node-0\" transform=\"translate(189.103,208.721)\"><circle r=\"10.0\"></circle></g><g id=\"node-1\" transform=\"translate(189.103,66.279)\"><circle r=\"10.0\"></circle></g><g id=\"node-2\" transform=\"translate(65.897,137.500)\"><circle r=\"10.0\"></circle></g></g><g class=\"toytree-NodeLabels\" style=\"fill:rgb(14.9%,14.9%,14.9%);fill-opacity:1.0;font-size:9px;stroke:none\"><g transform=\"translate(186.10,211.02)\"><text>Y</text></g><g transform=\"translate(186.10,68.58)\"><text>X</text></g><g transform=\"translate(63.40,139.80)\"><text>2</text></g></g><g class=\"toytree-TipLabels\" style=\"fill:rgb(14.9%,14.9%,14.9%);fill-opacity:1.0;font-family:helvetica;font-size:11px;font-weight:normal;stroke:none;white-space:pre\"><g transform=\"translate(189.10,208.72)rotate(0)\"><text x=\"15.00\" y=\"2.81\" style=\"\">C</text></g><g transform=\"translate(189.10,66.28)rotate(0)\"><text x=\"15.00\" y=\"2.81\" style=\"\">C</text></g></g></g></g></g></svg><div class=\"toyplot-behavior\"><script>(function()\n",
       "{\n",
       "var modules={};\n",
       "})();</script></div></div>"
      ]
     },
     "metadata": {},
     "output_type": "display_data"
    }
   ],
   "source": [
    "# pair_match_states (3 points)\n",
    "tree, leaf_states = pair_tree, pair_match_states\n",
    "draw_tree_with_internal_labels(tree, leaf_states)\n",
    "cost, states = weighted_parsimony(tree, leaf_states, purine_pyrimidine_cost_matrix)\n",
    "assert states == {'2': 'C', 'X': 'C', 'Y': 'C'}\n",
    "print(\"SUCCESS: pair_match_states test case passed!\")"
   ]
  },
  {
   "cell_type": "code",
   "execution_count": 22,
   "metadata": {
    "deletable": false,
    "editable": false,
    "nbgrader": {
     "grade": true,
     "grade_id": "pair_mismatch_states",
     "locked": true,
     "points": 3,
     "schema_version": 3,
     "solution": false,
     "task": false
    }
   },
   "outputs": [
    {
     "name": "stdout",
     "output_type": "stream",
     "text": [
      "SUCCESS: pair_mismatch_states test case passed!\n"
     ]
    },
    {
     "data": {
      "text/html": [
       "<div class=\"toyplot\" id=\"tef9c7abc77ba4ea6b129c551f7699086\" style=\"text-align:center\"><svg class=\"toyplot-canvas-Canvas\" xmlns:toyplot=\"http://www.sandia.gov/toyplot\" xmlns:xlink=\"http://www.w3.org/1999/xlink\" xmlns=\"http://www.w3.org/2000/svg\" width=\"255.0px\" height=\"275.0px\" viewBox=\"0 0 255.0 275.0\" preserveAspectRatio=\"xMidYMid meet\" style=\"background-color:transparent;border-color:#292724;border-style:none;border-width:1.0;fill:rgb(16.1%,15.3%,14.1%);fill-opacity:1.0;font-family:Helvetica;font-size:12px;opacity:1.0;stroke:rgb(16.1%,15.3%,14.1%);stroke-opacity:1.0;stroke-width:1.0\" id=\"t97e99f5eaaf644c9a5b3713451d00579\"><g class=\"toyplot-coordinates-Cartesian\" id=\"tc731b78c40a148a488094eb7595fa761\"><clipPath id=\"t92b2b73472194e2d9da10d64c0964e06\"><rect x=\"30.0\" y=\"30.0\" width=\"195.0\" height=\"215.0\"></rect></clipPath><g clip-path=\"url(#t92b2b73472194e2d9da10d64c0964e06)\"><g class=\"toytree-mark-Toytree\" id=\"t8d83d4da3a434bfaa810ee15da79c4e9\"><g class=\"toytree-Edges\" style=\"fill:none;stroke:rgb(14.9%,14.9%,14.9%);stroke-linecap:round;stroke-opacity:1;stroke-width:2\"><path d=\"M 65.9 137.5 L 65.9 66.3 L 189.1 66.3\" id=\"2,1\"></path><path d=\"M 65.9 137.5 L 65.9 208.7 L 189.1 208.7\" id=\"2,0\"></path></g><g class=\"toytree-Nodes\" style=\"fill:rgb(40%,76.1%,64.7%);fill-opacity:1.0;stroke:None;stroke-width:1\"><g id=\"node-0\" transform=\"translate(189.103,208.721)\"><circle r=\"10.0\"></circle></g><g id=\"node-1\" transform=\"translate(189.103,66.279)\"><circle r=\"10.0\"></circle></g><g id=\"node-2\" transform=\"translate(65.897,137.500)\"><circle r=\"10.0\"></circle></g></g><g class=\"toytree-NodeLabels\" style=\"fill:rgb(14.9%,14.9%,14.9%);fill-opacity:1.0;font-size:9px;stroke:none\"><g transform=\"translate(186.10,211.02)\"><text>Y</text></g><g transform=\"translate(186.10,68.58)\"><text>X</text></g><g transform=\"translate(63.40,139.80)\"><text>2</text></g></g><g class=\"toytree-TipLabels\" style=\"fill:rgb(14.9%,14.9%,14.9%);fill-opacity:1.0;font-family:helvetica;font-size:11px;font-weight:normal;stroke:none;white-space:pre\"><g transform=\"translate(189.10,208.72)rotate(0)\"><text x=\"15.00\" y=\"2.81\" style=\"\">T</text></g><g transform=\"translate(189.10,66.28)rotate(0)\"><text x=\"15.00\" y=\"2.81\" style=\"\">A</text></g></g></g></g></g></svg><div class=\"toyplot-behavior\"><script>(function()\n",
       "{\n",
       "var modules={};\n",
       "})();</script></div></div>"
      ]
     },
     "metadata": {},
     "output_type": "display_data"
    }
   ],
   "source": [
    "# pair_mismatch_states (3 points)\n",
    "tree, leaf_states = pair_tree, pair_mismatch_states\n",
    "draw_tree_with_internal_labels(tree, leaf_states)\n",
    "cost, states = weighted_parsimony(tree, leaf_states, purine_pyrimidine_cost_matrix)\n",
    "assert states == {'2': 'A', 'X': 'A', 'Y': 'T'}\n",
    "print(\"SUCCESS: pair_mismatch_states test case passed!\")"
   ]
  },
  {
   "cell_type": "code",
   "execution_count": 23,
   "metadata": {
    "deletable": false,
    "editable": false,
    "nbgrader": {
     "grade": true,
     "grade_id": "triple_states",
     "locked": true,
     "points": 2,
     "schema_version": 3,
     "solution": false,
     "task": false
    }
   },
   "outputs": [
    {
     "name": "stdout",
     "output_type": "stream",
     "text": [
      "SUCCESS: triple_states test case passed!\n"
     ]
    },
    {
     "data": {
      "text/html": [
       "<div class=\"toyplot\" id=\"t86d81cf00b3b46789cef920ac0c1d2f3\" style=\"text-align:center\"><svg class=\"toyplot-canvas-Canvas\" xmlns:toyplot=\"http://www.sandia.gov/toyplot\" xmlns:xlink=\"http://www.w3.org/1999/xlink\" xmlns=\"http://www.w3.org/2000/svg\" width=\"255.0px\" height=\"275.0px\" viewBox=\"0 0 255.0 275.0\" preserveAspectRatio=\"xMidYMid meet\" style=\"background-color:transparent;border-color:#292724;border-style:none;border-width:1.0;fill:rgb(16.1%,15.3%,14.1%);fill-opacity:1.0;font-family:Helvetica;font-size:12px;opacity:1.0;stroke:rgb(16.1%,15.3%,14.1%);stroke-opacity:1.0;stroke-width:1.0\" id=\"tb7f59ea36a9d4f1c988e317c2fc60d50\"><g class=\"toyplot-coordinates-Cartesian\" id=\"tec560bbacbbe4119aca362ac508f7ecf\"><clipPath id=\"tf8f233599a5b42ef8dba12bcf691cd6f\"><rect x=\"30.0\" y=\"30.0\" width=\"195.0\" height=\"215.0\"></rect></clipPath><g clip-path=\"url(#tf8f233599a5b42ef8dba12bcf691cd6f)\"><g class=\"toytree-mark-Toytree\" id=\"t39318e787166414f989b86b12ffce52a\"><g class=\"toytree-Edges\" style=\"fill:none;stroke:rgb(14.9%,14.9%,14.9%);stroke-linecap:round;stroke-opacity:1;stroke-width:2\"><path d=\"M 65.9 119.7 L 65.9 173.1 L 127.5 173.1\" id=\"4,3\"></path><path d=\"M 65.9 119.7 L 65.9 66.3 L 189.1 66.3\" id=\"4,2\"></path><path d=\"M 127.5 173.1 L 127.5 137.5 L 189.1 137.5\" id=\"3,1\"></path><path d=\"M 127.5 173.1 L 127.5 208.7 L 189.1 208.7\" id=\"3,0\"></path></g><g class=\"toytree-Nodes\" style=\"fill:rgb(40%,76.1%,64.7%);fill-opacity:1.0;stroke:None;stroke-width:1\"><g id=\"node-0\" transform=\"translate(189.103,208.721)\"><circle r=\"10.0\"></circle></g><g id=\"node-1\" transform=\"translate(189.103,137.500)\"><circle r=\"10.0\"></circle></g><g id=\"node-2\" transform=\"translate(189.103,66.279)\"><circle r=\"10.0\"></circle></g><g id=\"node-3\" transform=\"translate(127.500,173.110)\"><circle r=\"10.0\"></circle></g><g id=\"node-4\" transform=\"translate(65.897,119.695)\"><circle r=\"10.0\"></circle></g></g><g class=\"toytree-NodeLabels\" style=\"fill:rgb(14.9%,14.9%,14.9%);fill-opacity:1.0;font-size:9px;stroke:none\"><g transform=\"translate(186.10,211.02)\"><text>Y</text></g><g transform=\"translate(186.10,139.80)\"><text>X</text></g><g transform=\"translate(186.35,68.58)\"><text>Z</text></g><g transform=\"translate(125.00,175.41)\"><text>3</text></g><g transform=\"translate(63.40,121.99)\"><text>4</text></g></g><g class=\"toytree-TipLabels\" style=\"fill:rgb(14.9%,14.9%,14.9%);fill-opacity:1.0;font-family:helvetica;font-size:11px;font-weight:normal;stroke:none;white-space:pre\"><g transform=\"translate(189.10,208.72)rotate(0)\"><text x=\"15.00\" y=\"2.81\" style=\"\">T</text></g><g transform=\"translate(189.10,137.50)rotate(0)\"><text x=\"15.00\" y=\"2.81\" style=\"\">A</text></g><g transform=\"translate(189.10,66.28)rotate(0)\"><text x=\"15.00\" y=\"2.81\" style=\"\">C</text></g></g></g></g></g></svg><div class=\"toyplot-behavior\"><script>(function()\n",
       "{\n",
       "var modules={};\n",
       "})();</script></div></div>"
      ]
     },
     "metadata": {},
     "output_type": "display_data"
    }
   ],
   "source": [
    "# triple_states (2 points)\n",
    "tree, leaf_states = triple_tree, triple_states\n",
    "draw_tree_with_internal_labels(tree, leaf_states)\n",
    "cost, states = weighted_parsimony(tree, leaf_states, purine_pyrimidine_cost_matrix)\n",
    "assert states == {'4': 'C', 'Z': 'C', '3': 'C', 'X': 'A', 'Y': 'T'}\n",
    "print(\"SUCCESS: triple_states test case passed!\")"
   ]
  },
  {
   "cell_type": "code",
   "execution_count": 24,
   "metadata": {
    "deletable": false,
    "editable": false,
    "nbgrader": {
     "grade": true,
     "grade_id": "quartet_states",
     "locked": true,
     "points": 1,
     "schema_version": 3,
     "solution": false,
     "task": false
    }
   },
   "outputs": [
    {
     "name": "stdout",
     "output_type": "stream",
     "text": [
      "SUCCESS: quartet_states test case passed!\n"
     ]
    },
    {
     "data": {
      "text/html": [
       "<div class=\"toyplot\" id=\"t62213763434a4ba4a42db9e88cebd95d\" style=\"text-align:center\"><svg class=\"toyplot-canvas-Canvas\" xmlns:toyplot=\"http://www.sandia.gov/toyplot\" xmlns:xlink=\"http://www.w3.org/1999/xlink\" xmlns=\"http://www.w3.org/2000/svg\" width=\"255.0px\" height=\"275.0px\" viewBox=\"0 0 255.0 275.0\" preserveAspectRatio=\"xMidYMid meet\" style=\"background-color:transparent;border-color:#292724;border-style:none;border-width:1.0;fill:rgb(16.1%,15.3%,14.1%);fill-opacity:1.0;font-family:Helvetica;font-size:12px;opacity:1.0;stroke:rgb(16.1%,15.3%,14.1%);stroke-opacity:1.0;stroke-width:1.0\" id=\"tfec8ff82e2024f72bfd8beba2c29cd1a\"><g class=\"toyplot-coordinates-Cartesian\" id=\"t08ec36398e60415b9cbd8304ce69c6eb\"><clipPath id=\"tfd515f78f06f42d6b1c599ef3b17202b\"><rect x=\"30.0\" y=\"30.0\" width=\"195.0\" height=\"215.0\"></rect></clipPath><g clip-path=\"url(#tfd515f78f06f42d6b1c599ef3b17202b)\"><g class=\"toytree-mark-Toytree\" id=\"t3b00a4a962c94bcaa37e5f996e1464b3\"><g class=\"toytree-Edges\" style=\"fill:none;stroke:rgb(14.9%,14.9%,14.9%);stroke-linecap:round;stroke-opacity:1;stroke-width:2\"><path d=\"M 65.9 107.8 L 65.9 149.4 L 107.0 149.4\" id=\"6,5\"></path><path d=\"M 107.0 149.4 L 107.0 185.0 L 148.0 185.0\" id=\"5,4\"></path><path d=\"M 65.9 107.8 L 65.9 66.3 L 189.1 66.3\" id=\"6,3\"></path><path d=\"M 107.0 149.4 L 107.0 113.8 L 189.1 113.8\" id=\"5,2\"></path><path d=\"M 148.0 185.0 L 148.0 161.2 L 189.1 161.2\" id=\"4,1\"></path><path d=\"M 148.0 185.0 L 148.0 208.7 L 189.1 208.7\" id=\"4,0\"></path></g><g class=\"toytree-Nodes\" style=\"fill:rgb(40%,76.1%,64.7%);fill-opacity:1.0;stroke:None;stroke-width:1\"><g id=\"node-0\" transform=\"translate(189.103,208.721)\"><circle r=\"10.0\"></circle></g><g id=\"node-1\" transform=\"translate(189.103,161.240)\"><circle r=\"10.0\"></circle></g><g id=\"node-2\" transform=\"translate(189.103,113.760)\"><circle r=\"10.0\"></circle></g><g id=\"node-3\" transform=\"translate(189.103,66.279)\"><circle r=\"10.0\"></circle></g><g id=\"node-4\" transform=\"translate(148.034,184.981)\"><circle r=\"10.0\"></circle></g><g id=\"node-5\" transform=\"translate(106.966,149.370)\"><circle r=\"10.0\"></circle></g><g id=\"node-6\" transform=\"translate(65.897,107.825)\"><circle r=\"10.0\"></circle></g></g><g class=\"toytree-NodeLabels\" style=\"fill:rgb(14.9%,14.9%,14.9%);fill-opacity:1.0;font-size:9px;stroke:none\"><g transform=\"translate(186.10,211.02)\"><text>Y</text></g><g transform=\"translate(186.10,163.54)\"><text>X</text></g><g transform=\"translate(186.35,116.06)\"><text>Z</text></g><g transform=\"translate(184.85,68.58)\"><text>W</text></g><g transform=\"translate(145.53,187.28)\"><text>4</text></g><g transform=\"translate(104.46,151.67)\"><text>5</text></g><g transform=\"translate(63.40,110.12)\"><text>6</text></g></g><g class=\"toytree-TipLabels\" style=\"fill:rgb(14.9%,14.9%,14.9%);fill-opacity:1.0;font-family:helvetica;font-size:11px;font-weight:normal;stroke:none;white-space:pre\"><g transform=\"translate(189.10,208.72)rotate(0)\"><text x=\"15.00\" y=\"2.81\" style=\"\">T</text></g><g transform=\"translate(189.10,161.24)rotate(0)\"><text x=\"15.00\" y=\"2.81\" style=\"\">A</text></g><g transform=\"translate(189.10,113.76)rotate(0)\"><text x=\"15.00\" y=\"2.81\" style=\"\">C</text></g><g transform=\"translate(189.10,66.28)rotate(0)\"><text x=\"15.00\" y=\"2.81\" style=\"\">A</text></g></g></g></g></g></svg><div class=\"toyplot-behavior\"><script>(function()\n",
       "{\n",
       "var modules={};\n",
       "})();</script></div></div>"
      ]
     },
     "metadata": {},
     "output_type": "display_data"
    }
   ],
   "source": [
    "# quartet_states (1 point)\n",
    "tree, leaf_states = quartet_tree, quartet_states\n",
    "draw_tree_with_internal_labels(tree, leaf_states)\n",
    "cost, states = weighted_parsimony(tree, leaf_states, purine_pyrimidine_cost_matrix)\n",
    "assert states == {'6': 'A', 'W': 'A', '5': 'A', 'Z': 'C', '4': 'A', 'X': 'A', 'Y': 'T'}\n",
    "print(\"SUCCESS: quartet_states test case passed!\")"
   ]
  },
  {
   "cell_type": "code",
   "execution_count": 25,
   "metadata": {
    "deletable": false,
    "editable": false,
    "nbgrader": {
     "grade": true,
     "grade_id": "quartet2_states",
     "locked": true,
     "points": 1,
     "schema_version": 3,
     "solution": false,
     "task": false
    }
   },
   "outputs": [
    {
     "name": "stdout",
     "output_type": "stream",
     "text": [
      "SUCCESS: quartet2_states test case passed!\n"
     ]
    },
    {
     "data": {
      "text/html": [
       "<div class=\"toyplot\" id=\"tda6900dd2dbe47568b7e150a18962b67\" style=\"text-align:center\"><svg class=\"toyplot-canvas-Canvas\" xmlns:toyplot=\"http://www.sandia.gov/toyplot\" xmlns:xlink=\"http://www.w3.org/1999/xlink\" xmlns=\"http://www.w3.org/2000/svg\" width=\"255.0px\" height=\"275.0px\" viewBox=\"0 0 255.0 275.0\" preserveAspectRatio=\"xMidYMid meet\" style=\"background-color:transparent;border-color:#292724;border-style:none;border-width:1.0;fill:rgb(16.1%,15.3%,14.1%);fill-opacity:1.0;font-family:Helvetica;font-size:12px;opacity:1.0;stroke:rgb(16.1%,15.3%,14.1%);stroke-opacity:1.0;stroke-width:1.0\" id=\"t6885821d950c4b56abacc83499e71e67\"><g class=\"toyplot-coordinates-Cartesian\" id=\"t0ef41b1dcd6a47d58be566a78aec16aa\"><clipPath id=\"tbee99bdfc67544b18ae8dabb5faa7f95\"><rect x=\"30.0\" y=\"30.0\" width=\"195.0\" height=\"215.0\"></rect></clipPath><g clip-path=\"url(#tbee99bdfc67544b18ae8dabb5faa7f95)\"><g class=\"toytree-mark-Toytree\" id=\"t7d739a685236491d9ec4fb4facb0b08f\"><g class=\"toytree-Edges\" style=\"fill:none;stroke:rgb(14.9%,14.9%,14.9%);stroke-linecap:round;stroke-opacity:1;stroke-width:2\"><path d=\"M 65.9 137.5 L 65.9 90.0 L 127.5 90.0\" id=\"6,5\"></path><path d=\"M 65.9 137.5 L 65.9 185.0 L 127.5 185.0\" id=\"6,4\"></path><path d=\"M 127.5 90.0 L 127.5 66.3 L 189.1 66.3\" id=\"5,3\"></path><path d=\"M 127.5 90.0 L 127.5 113.8 L 189.1 113.8\" id=\"5,2\"></path><path d=\"M 127.5 185.0 L 127.5 161.2 L 189.1 161.2\" id=\"4,1\"></path><path d=\"M 127.5 185.0 L 127.5 208.7 L 189.1 208.7\" id=\"4,0\"></path></g><g class=\"toytree-Nodes\" style=\"fill:rgb(40%,76.1%,64.7%);fill-opacity:1.0;stroke:None;stroke-width:1\"><g id=\"node-0\" transform=\"translate(189.103,208.721)\"><circle r=\"10.0\"></circle></g><g id=\"node-1\" transform=\"translate(189.103,161.240)\"><circle r=\"10.0\"></circle></g><g id=\"node-2\" transform=\"translate(189.103,113.760)\"><circle r=\"10.0\"></circle></g><g id=\"node-3\" transform=\"translate(189.103,66.279)\"><circle r=\"10.0\"></circle></g><g id=\"node-4\" transform=\"translate(127.500,184.981)\"><circle r=\"10.0\"></circle></g><g id=\"node-5\" transform=\"translate(127.500,90.019)\"><circle r=\"10.0\"></circle></g><g id=\"node-6\" transform=\"translate(65.897,137.500)\"><circle r=\"10.0\"></circle></g></g><g class=\"toytree-NodeLabels\" style=\"fill:rgb(14.9%,14.9%,14.9%);fill-opacity:1.0;font-size:9px;stroke:none\"><g transform=\"translate(186.10,211.02)\"><text>Y</text></g><g transform=\"translate(186.10,163.54)\"><text>X</text></g><g transform=\"translate(186.35,116.06)\"><text>Z</text></g><g transform=\"translate(184.85,68.58)\"><text>W</text></g><g transform=\"translate(125.00,187.28)\"><text>4</text></g><g transform=\"translate(125.00,92.32)\"><text>5</text></g><g transform=\"translate(63.40,139.80)\"><text>6</text></g></g><g class=\"toytree-TipLabels\" style=\"fill:rgb(14.9%,14.9%,14.9%);fill-opacity:1.0;font-family:helvetica;font-size:11px;font-weight:normal;stroke:none;white-space:pre\"><g transform=\"translate(189.10,208.72)rotate(0)\"><text x=\"15.00\" y=\"2.81\" style=\"\">T</text></g><g transform=\"translate(189.10,161.24)rotate(0)\"><text x=\"15.00\" y=\"2.81\" style=\"\">A</text></g><g transform=\"translate(189.10,113.76)rotate(0)\"><text x=\"15.00\" y=\"2.81\" style=\"\">C</text></g><g transform=\"translate(189.10,66.28)rotate(0)\"><text x=\"15.00\" y=\"2.81\" style=\"\">A</text></g></g></g></g></g></svg><div class=\"toyplot-behavior\"><script>(function()\n",
       "{\n",
       "var modules={};\n",
       "})();</script></div></div>"
      ]
     },
     "metadata": {},
     "output_type": "display_data"
    }
   ],
   "source": [
    "# quartet2_states (1 point)\n",
    "tree, leaf_states = quartet2_tree, quartet_states\n",
    "draw_tree_with_internal_labels(tree, leaf_states)\n",
    "cost, states = weighted_parsimony(tree, leaf_states, purine_pyrimidine_cost_matrix)\n",
    "assert states == {'6': 'A', '5': 'A', '4': 'A', 'W': 'A', 'Z': 'C', 'X': 'A', 'Y': 'T'}\n",
    "print(\"SUCCESS: quartet2_states test case passed!\")"
   ]
  },
  {
   "cell_type": "code",
   "execution_count": 26,
   "metadata": {
    "deletable": false,
    "editable": false,
    "nbgrader": {
     "grade": true,
     "grade_id": "quintet_states",
     "locked": true,
     "points": 1,
     "schema_version": 3,
     "solution": false,
     "task": false
    }
   },
   "outputs": [
    {
     "name": "stdout",
     "output_type": "stream",
     "text": [
      "SUCCESS: quintet_states test case passed!\n"
     ]
    },
    {
     "data": {
      "text/html": [
       "<div class=\"toyplot\" id=\"t084ff9d469c34924aab6eba6f663303a\" style=\"text-align:center\"><svg class=\"toyplot-canvas-Canvas\" xmlns:toyplot=\"http://www.sandia.gov/toyplot\" xmlns:xlink=\"http://www.w3.org/1999/xlink\" xmlns=\"http://www.w3.org/2000/svg\" width=\"255.0px\" height=\"275.0px\" viewBox=\"0 0 255.0 275.0\" preserveAspectRatio=\"xMidYMid meet\" style=\"background-color:transparent;border-color:#292724;border-style:none;border-width:1.0;fill:rgb(16.1%,15.3%,14.1%);fill-opacity:1.0;font-family:Helvetica;font-size:12px;opacity:1.0;stroke:rgb(16.1%,15.3%,14.1%);stroke-opacity:1.0;stroke-width:1.0\" id=\"tf4a36c107ca940d18ac6d5183e103f7f\"><g class=\"toyplot-coordinates-Cartesian\" id=\"t14682aa81c974f00bb603879fcd07174\"><clipPath id=\"t0637012f07974b1ebee661f575378cef\"><rect x=\"30.0\" y=\"30.0\" width=\"195.0\" height=\"215.0\"></rect></clipPath><g clip-path=\"url(#t0637012f07974b1ebee661f575378cef)\"><g class=\"toytree-mark-Toytree\" id=\"tac17aa84f0b345f3b3bf4b2c8f4dff6d\"><g class=\"toytree-Edges\" style=\"fill:none;stroke:rgb(14.9%,14.9%,14.9%);stroke-linecap:round;stroke-opacity:1;stroke-width:2\"><path d=\"M 65.9 124.1 L 65.9 84.1 L 148.0 84.1\" id=\"8,7\"></path><path d=\"M 65.9 124.1 L 65.9 164.2 L 107.0 164.2\" id=\"8,6\"></path><path d=\"M 107.0 164.2 L 107.0 190.9 L 148.0 190.9\" id=\"6,5\"></path><path d=\"M 148.0 84.1 L 148.0 66.3 L 189.1 66.3\" id=\"7,4\"></path><path d=\"M 148.0 84.1 L 148.0 101.9 L 189.1 101.9\" id=\"7,3\"></path><path d=\"M 107.0 164.2 L 107.0 137.5 L 189.1 137.5\" id=\"6,2\"></path><path d=\"M 148.0 190.9 L 148.0 173.1 L 189.1 173.1\" id=\"5,1\"></path><path d=\"M 148.0 190.9 L 148.0 208.7 L 189.1 208.7\" id=\"5,0\"></path></g><g class=\"toytree-Nodes\" style=\"fill:rgb(40%,76.1%,64.7%);fill-opacity:1.0;stroke:None;stroke-width:1\"><g id=\"node-0\" transform=\"translate(189.103,208.721)\"><circle r=\"10.0\"></circle></g><g id=\"node-1\" transform=\"translate(189.103,173.110)\"><circle r=\"10.0\"></circle></g><g id=\"node-2\" transform=\"translate(189.103,137.500)\"><circle r=\"10.0\"></circle></g><g id=\"node-3\" transform=\"translate(189.103,101.890)\"><circle r=\"10.0\"></circle></g><g id=\"node-4\" transform=\"translate(189.103,66.279)\"><circle r=\"10.0\"></circle></g><g id=\"node-5\" transform=\"translate(148.034,190.916)\"><circle r=\"10.0\"></circle></g><g id=\"node-6\" transform=\"translate(106.966,164.208)\"><circle r=\"10.0\"></circle></g><g id=\"node-7\" transform=\"translate(148.034,84.084)\"><circle r=\"10.0\"></circle></g><g id=\"node-8\" transform=\"translate(65.897,124.146)\"><circle r=\"10.0\"></circle></g></g><g class=\"toytree-NodeLabels\" style=\"fill:rgb(14.9%,14.9%,14.9%);fill-opacity:1.0;font-size:9px;stroke:none\"><g transform=\"translate(186.10,211.02)\"><text>Y</text></g><g transform=\"translate(186.10,175.41)\"><text>X</text></g><g transform=\"translate(186.35,139.80)\"><text>Z</text></g><g transform=\"translate(184.85,104.19)\"><text>W</text></g><g transform=\"translate(186.10,68.58)\"><text>V</text></g><g transform=\"translate(145.53,193.22)\"><text>5</text></g><g transform=\"translate(104.46,166.51)\"><text>6</text></g><g transform=\"translate(145.53,86.38)\"><text>7</text></g><g transform=\"translate(63.40,126.45)\"><text>8</text></g></g><g class=\"toytree-TipLabels\" style=\"fill:rgb(14.9%,14.9%,14.9%);fill-opacity:1.0;font-family:helvetica;font-size:11px;font-weight:normal;stroke:none;white-space:pre\"><g transform=\"translate(189.10,208.72)rotate(0)\"><text x=\"15.00\" y=\"2.81\" style=\"\">T</text></g><g transform=\"translate(189.10,173.11)rotate(0)\"><text x=\"15.00\" y=\"2.81\" style=\"\">A</text></g><g transform=\"translate(189.10,137.50)rotate(0)\"><text x=\"15.00\" y=\"2.81\" style=\"\">C</text></g><g transform=\"translate(189.10,101.89)rotate(0)\"><text x=\"15.00\" y=\"2.81\" style=\"\">C</text></g><g transform=\"translate(189.10,66.28)rotate(0)\"><text x=\"15.00\" y=\"2.81\" style=\"\">C</text></g></g></g></g></g></svg><div class=\"toyplot-behavior\"><script>(function()\n",
       "{\n",
       "var modules={};\n",
       "})();</script></div></div>"
      ]
     },
     "metadata": {},
     "output_type": "display_data"
    }
   ],
   "source": [
    "# quintet_states (1 point)\n",
    "tree, leaf_states = quintet_tree, quintet_states\n",
    "draw_tree_with_internal_labels(tree, leaf_states)\n",
    "cost, states = weighted_parsimony(tree, leaf_states, purine_pyrimidine_cost_matrix)\n",
    "assert states == {'8': 'C','7': 'C','6': 'C','V': 'C','W': 'C','Z': 'C','5': 'C','X': 'A','Y': 'T'}\n",
    "print(\"SUCCESS: quintet_states test case passed!\")"
   ]
  },
  {
   "cell_type": "code",
   "execution_count": 27,
   "metadata": {
    "deletable": false,
    "editable": false,
    "nbgrader": {
     "grade": true,
     "grade_id": "large_states",
     "locked": true,
     "points": 1,
     "schema_version": 3,
     "solution": false,
     "task": false
    }
   },
   "outputs": [
    {
     "name": "stdout",
     "output_type": "stream",
     "text": [
      "SUCCESS: large_states test case passed!\n"
     ]
    },
    {
     "data": {
      "text/html": [
       "<div class=\"toyplot\" id=\"t8658a54ea4024b9ab1d68b1bb3be5609\" style=\"text-align:center\"><svg class=\"toyplot-canvas-Canvas\" xmlns:toyplot=\"http://www.sandia.gov/toyplot\" xmlns:xlink=\"http://www.w3.org/1999/xlink\" xmlns=\"http://www.w3.org/2000/svg\" width=\"255.0px\" height=\"275.0px\" viewBox=\"0 0 255.0 275.0\" preserveAspectRatio=\"xMidYMid meet\" style=\"background-color:transparent;border-color:#292724;border-style:none;border-width:1.0;fill:rgb(16.1%,15.3%,14.1%);fill-opacity:1.0;font-family:Helvetica;font-size:12px;opacity:1.0;stroke:rgb(16.1%,15.3%,14.1%);stroke-opacity:1.0;stroke-width:1.0\" id=\"t28ddb08522264cbeb72dabb318383e58\"><g class=\"toyplot-coordinates-Cartesian\" id=\"t419999860e214220940b7bb3e45f6212\"><clipPath id=\"t5749d74dc33c4a39ad576e4848d16cf9\"><rect x=\"30.0\" y=\"30.0\" width=\"195.0\" height=\"215.0\"></rect></clipPath><g clip-path=\"url(#t5749d74dc33c4a39ad576e4848d16cf9)\"><g class=\"toytree-mark-Toytree\" id=\"t9c84e871f3dc4c4a95125e3df3ad9fc6\"><g class=\"toytree-Edges\" style=\"fill:none;stroke:rgb(14.9%,14.9%,14.9%);stroke-linecap:round;stroke-opacity:1;stroke-width:2\"><path d=\"M 65.9 131.1 L 65.9 84.1 L 96.7 84.1\" id=\"14,13\"></path><path d=\"M 65.9 131.1 L 65.9 178.2 L 127.5 178.2\" id=\"14,12\"></path><path d=\"M 96.7 84.1 L 96.7 101.9 L 127.5 101.9\" id=\"13,11\"></path><path d=\"M 127.5 178.2 L 127.5 157.8 L 158.3 157.8\" id=\"12,10\"></path><path d=\"M 127.5 178.2 L 127.5 198.5 L 158.3 198.5\" id=\"12,9\"></path><path d=\"M 127.5 101.9 L 127.5 117.2 L 158.3 117.2\" id=\"11,8\"></path><path d=\"M 96.7 84.1 L 96.7 66.3 L 189.1 66.3\" id=\"13,7\"></path><path d=\"M 127.5 101.9 L 127.5 86.6 L 189.1 86.6\" id=\"11,6\"></path><path d=\"M 158.3 117.2 L 158.3 107.0 L 189.1 107.0\" id=\"8,5\"></path><path d=\"M 158.3 117.2 L 158.3 127.3 L 189.1 127.3\" id=\"8,4\"></path><path d=\"M 158.3 157.8 L 158.3 147.7 L 189.1 147.7\" id=\"10,3\"></path><path d=\"M 158.3 157.8 L 158.3 168.0 L 189.1 168.0\" id=\"10,2\"></path><path d=\"M 158.3 198.5 L 158.3 188.4 L 189.1 188.4\" id=\"9,1\"></path><path d=\"M 158.3 198.5 L 158.3 208.7 L 189.1 208.7\" id=\"9,0\"></path></g><g class=\"toytree-Nodes\" style=\"fill:rgb(40%,76.1%,64.7%);fill-opacity:1.0;stroke:None;stroke-width:1\"><g id=\"node-0\" transform=\"translate(189.103,208.721)\"><circle r=\"10.0\"></circle></g><g id=\"node-1\" transform=\"translate(189.103,188.372)\"><circle r=\"10.0\"></circle></g><g id=\"node-2\" transform=\"translate(189.103,168.023)\"><circle r=\"10.0\"></circle></g><g id=\"node-3\" transform=\"translate(189.103,147.674)\"><circle r=\"10.0\"></circle></g><g id=\"node-4\" transform=\"translate(189.103,127.326)\"><circle r=\"10.0\"></circle></g><g id=\"node-5\" transform=\"translate(189.103,106.977)\"><circle r=\"10.0\"></circle></g><g id=\"node-6\" transform=\"translate(189.103,86.628)\"><circle r=\"10.0\"></circle></g><g id=\"node-7\" transform=\"translate(189.103,66.279)\"><circle r=\"10.0\"></circle></g><g id=\"node-8\" transform=\"translate(158.301,117.151)\"><circle r=\"10.0\"></circle></g><g id=\"node-9\" transform=\"translate(158.301,198.547)\"><circle r=\"10.0\"></circle></g><g id=\"node-10\" transform=\"translate(158.301,157.849)\"><circle r=\"10.0\"></circle></g><g id=\"node-11\" transform=\"translate(127.500,101.890)\"><circle r=\"10.0\"></circle></g><g id=\"node-12\" transform=\"translate(127.500,178.198)\"><circle r=\"10.0\"></circle></g><g id=\"node-13\" transform=\"translate(96.699,84.084)\"><circle r=\"10.0\"></circle></g><g id=\"node-14\" transform=\"translate(65.897,131.141)\"><circle r=\"10.0\"></circle></g></g><g class=\"toytree-NodeLabels\" style=\"fill:rgb(14.9%,14.9%,14.9%);fill-opacity:1.0;font-size:9px;stroke:none\"><g transform=\"translate(185.85,211.02)\"><text>D</text></g><g transform=\"translate(185.85,190.67)\"><text>C</text></g><g transform=\"translate(186.10,170.32)\"><text>B</text></g><g transform=\"translate(186.10,149.97)\"><text>A</text></g><g transform=\"translate(185.85,129.63)\"><text>H</text></g><g transform=\"translate(185.60,109.28)\"><text>G</text></g><g transform=\"translate(186.35,88.93)\"><text>F</text></g><g transform=\"translate(186.10,68.58)\"><text>E</text></g><g transform=\"translate(155.80,119.45)\"><text>8</text></g><g transform=\"translate(155.80,200.85)\"><text>9</text></g><g transform=\"translate(153.30,160.15)\"><text>10</text></g><g transform=\"translate(122.50,104.19)\"><text>11</text></g><g transform=\"translate(122.50,180.50)\"><text>12</text></g><g transform=\"translate(91.69,86.38)\"><text>13</text></g><g transform=\"translate(60.89,133.44)\"><text>14</text></g></g><g class=\"toytree-TipLabels\" style=\"fill:rgb(14.9%,14.9%,14.9%);fill-opacity:1.0;font-family:helvetica;font-size:11px;font-weight:normal;stroke:none;white-space:pre\"><g transform=\"translate(189.10,208.72)rotate(0)\"><text x=\"15.00\" y=\"2.81\" style=\"\">A</text></g><g transform=\"translate(189.10,188.37)rotate(0)\"><text x=\"15.00\" y=\"2.81\" style=\"\">T</text></g><g transform=\"translate(189.10,168.02)rotate(0)\"><text x=\"15.00\" y=\"2.81\" style=\"\">C</text></g><g transform=\"translate(189.10,147.67)rotate(0)\"><text x=\"15.00\" y=\"2.81\" style=\"\">G</text></g><g transform=\"translate(189.10,127.33)rotate(0)\"><text x=\"15.00\" y=\"2.81\" style=\"\">C</text></g><g transform=\"translate(189.10,106.98)rotate(0)\"><text x=\"15.00\" y=\"2.81\" style=\"\">C</text></g><g transform=\"translate(189.10,86.63)rotate(0)\"><text x=\"15.00\" y=\"2.81\" style=\"\">C</text></g><g transform=\"translate(189.10,66.28)rotate(0)\"><text x=\"15.00\" y=\"2.81\" style=\"\">G</text></g></g></g></g></g></svg><div class=\"toyplot-behavior\"><script>(function()\n",
       "{\n",
       "var modules={};\n",
       "})();</script></div></div>"
      ]
     },
     "metadata": {},
     "output_type": "display_data"
    }
   ],
   "source": [
    "# large_states (1 point)\n",
    "tree, leaf_states = large_tree, large_states\n",
    "draw_tree_with_internal_labels(tree, leaf_states)\n",
    "cost, states = weighted_parsimony(tree, leaf_states, purine_pyrimidine_cost_matrix)\n",
    "assert states == {'14': 'C','13': 'C','12': 'C','E': 'G','11': 'C','F': 'C', '8': 'C',\n",
    "                  'G': 'C','H': 'C','10': 'C','9': 'C','A': 'G','B': 'C','C': 'T','D': 'A'}\n",
    "print(\"SUCCESS: large_states test case passed!\")"
   ]
  },
  {
   "cell_type": "markdown",
   "metadata": {},
   "source": [
    "### Hidden tests (6 points total)"
   ]
  },
  {
   "cell_type": "code",
   "execution_count": 28,
   "metadata": {
    "deletable": false,
    "editable": false,
    "nbgrader": {
     "grade": true,
     "grade_id": "p1_hidden1",
     "locked": true,
     "points": 3,
     "schema_version": 3,
     "solution": false,
     "task": false
    }
   },
   "outputs": [],
   "source": [
    "# p1_hidden1 (3 points)\n",
    "###\n",
    "### AUTOGRADER TEST - DO NOT REMOVE\n",
    "###\n"
   ]
  },
  {
   "cell_type": "code",
   "execution_count": 29,
   "metadata": {
    "deletable": false,
    "editable": false,
    "nbgrader": {
     "grade": true,
     "grade_id": "p1_hidden2",
     "locked": true,
     "points": 2,
     "schema_version": 3,
     "solution": false,
     "task": false
    }
   },
   "outputs": [],
   "source": [
    "# p1_hidden2 (2 points)\n",
    "###\n",
    "### AUTOGRADER TEST - DO NOT REMOVE\n",
    "###\n"
   ]
  },
  {
   "cell_type": "code",
   "execution_count": 30,
   "metadata": {
    "deletable": false,
    "editable": false,
    "nbgrader": {
     "grade": true,
     "grade_id": "p1_hidden3",
     "locked": true,
     "points": 1,
     "schema_version": 3,
     "solution": false,
     "task": false
    }
   },
   "outputs": [],
   "source": [
    "# p1_hidden3 (1 points)\n",
    "###\n",
    "### AUTOGRADER TEST - DO NOT REMOVE\n",
    "###\n"
   ]
  }
 ],
 "metadata": {
  "celltoolbar": "Create Assignment",
  "kernelspec": {
   "display_name": "Python 3 [3.10]",
   "language": "python",
   "name": "python3"
  },
  "language_info": {
   "codemirror_mode": {
    "name": "ipython",
    "version": 3
   },
   "file_extension": ".py",
   "mimetype": "text/x-python",
   "name": "python",
   "nbconvert_exporter": "python",
   "pygments_lexer": "ipython3",
   "version": "3.10.2"
  },
  "varInspector": {
   "cols": {
    "lenName": 16,
    "lenType": 16,
    "lenVar": 40
   },
   "kernels_config": {
    "python": {
     "delete_cmd_postfix": "",
     "delete_cmd_prefix": "del ",
     "library": "var_list.py",
     "varRefreshCmd": "print(var_dic_list())"
    },
    "r": {
     "delete_cmd_postfix": ") ",
     "delete_cmd_prefix": "rm(",
     "library": "var_list.r",
     "varRefreshCmd": "cat(var_dic_list()) "
    }
   },
   "types_to_exclude": [
    "module",
    "function",
    "builtin_function_or_method",
    "instance",
    "_Feature"
   ],
   "window_display": false
  }
 },
 "nbformat": 4,
 "nbformat_minor": 4
}
